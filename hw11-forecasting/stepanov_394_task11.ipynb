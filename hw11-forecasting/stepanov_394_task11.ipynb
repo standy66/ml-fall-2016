{
 "cells": [
  {
   "cell_type": "markdown",
   "metadata": {},
   "source": [
    "## Домашнее здание №3 / New Product Forecasting\n",
    "\n",
    "### Фамилия Имя / Группа\n",
    "\n",
    "----\n",
    "План выполнения домашнего задания:\n",
    "\n",
    "1. Подготовка данных\n",
    "2. Предсказание без категориальных признаков\n",
    "3. Предсказание с категориальными признаками\n",
    "4.  Другие модели и генерация дополнительных признаков\n",
    "5. Отправка результатов в контест на Kaggle"
   ]
  },
  {
   "cell_type": "code",
   "execution_count": 1,
   "metadata": {
    "collapsed": false
   },
   "outputs": [
    {
     "name": "stderr",
     "output_type": "stream",
     "text": [
      "/Users/astepanov/.virtualenvs/tf/lib/python3.5/site-packages/sklearn/cross_validation.py:44: DeprecationWarning: This module was deprecated in version 0.18 in favor of the model_selection module into which all the refactored classes and functions are moved. Also note that the interface of the new CV iterators are different from that of this module. This module will be removed in 0.20.\n",
      "  \"This module will be removed in 0.20.\", DeprecationWarning)\n"
     ]
    }
   ],
   "source": [
    "import pandas as pd\n",
    "import numpy as np\n",
    "from random import shuffle\n",
    "from sklearn import tree\n",
    "from copy import deepcopy\n",
    "from sklearn.ensemble import BaggingRegressor\n",
    "import matplotlib.pyplot as plt\n",
    "from sklearn.ensemble import RandomForestRegressor\n",
    "from sklearn.ensemble import ExtraTreesRegressor\n",
    "from sklearn.ensemble import GradientBoostingRegressor\n",
    "from sklearn import cross_validation\n",
    "from sklearn.dummy import DummyRegressor\n",
    "from scipy.optimize import minimize_scalar\n",
    "from IPython import display\n",
    "import seaborn as sns\n",
    "from dateutil import parser\n",
    "from datetime import datetime\n",
    "pd.set_option(\"display.max_columns\", 40)\n",
    "%matplotlib inline"
   ]
  },
  {
   "cell_type": "markdown",
   "metadata": {},
   "source": [
    "## Подготовка данных (1 балл)\n",
    " * Изучить признаки\n",
    " * Выделить категориальные признаки, которые можно использовать для обучения\n",
    " * Выделить датасет только с числовыми признаками\n",
    " * Выделить полезные числовые признаки"
   ]
  },
  {
   "cell_type": "code",
   "execution_count": 2,
   "metadata": {
    "collapsed": false
   },
   "outputs": [
    {
     "data": {
      "text/plain": [
       "(40000, 33)"
      ]
     },
     "execution_count": 2,
     "metadata": {},
     "output_type": "execute_result"
    }
   ],
   "source": [
    "data = pd.read_csv('./data/train.csv', sep=';', index_col='ID')\n",
    "data.shape"
   ]
  },
  {
   "cell_type": "code",
   "execution_count": 3,
   "metadata": {
    "collapsed": false
   },
   "outputs": [
    {
     "data": {
      "text/plain": [
       "[('DEMAND', dtype('float64')),\n",
       " ('LOCATION_ID', dtype('int64')),\n",
       " ('MODEL_BRAND', dtype('O')),\n",
       " ('MODEL_COST_AVG', dtype('float64')),\n",
       " ('MODEL_COUNT_SALES_DAYS', dtype('float64')),\n",
       " ('MODEL_DIAG', dtype('float64')),\n",
       " ('MODEL_DIAG_TYPE', dtype('O')),\n",
       " ('MODEL_HEIGHT', dtype('float64')),\n",
       " ('MODEL_ID', dtype('int64')),\n",
       " ('MODEL_MEAN_SALES', dtype('float64')),\n",
       " ('MODEL_NAME', dtype('O')),\n",
       " ('MODEL_OS', dtype('O')),\n",
       " ('MODEL_RES_TYPE', dtype('O')),\n",
       " ('MODEL_TYPE', dtype('O')),\n",
       " ('MODEL_WIDTH', dtype('float64')),\n",
       " ('STORE_ASSORTMENT', dtype('float64')),\n",
       " ('STORE_BRAND_ABC', dtype('O')),\n",
       " ('STORE_BRAND_SPECTR', dtype('float64')),\n",
       " ('STORE_BUILDING_TYPE', dtype('O')),\n",
       " ('STORE_CITY', dtype('O')),\n",
       " ('STORE_CLUSTER', dtype('O')),\n",
       " ('STORE_DIAG_ABC', dtype('O')),\n",
       " ('STORE_DIAG_SPECTR', dtype('float64')),\n",
       " ('STORE_FORMAT', dtype('O')),\n",
       " ('STORE_OPEN_DTTM', dtype('O')),\n",
       " ('STORE_PRICE_TYPE', dtype('O')),\n",
       " ('STORE_REGION', dtype('O')),\n",
       " ('STORE_RES_ABC', dtype('O')),\n",
       " ('STORE_RES_SPECTR', dtype('float64')),\n",
       " ('STORE_TYPE_A', dtype('float64')),\n",
       " ('STORE_TYPE_B', dtype('float64')),\n",
       " ('STORE_TYPE_C', dtype('float64')),\n",
       " ('STORE_TYPE_SPECTR', dtype('float64'))]"
      ]
     },
     "execution_count": 3,
     "metadata": {},
     "output_type": "execute_result"
    }
   ],
   "source": [
    "list(zip(data.columns, map(lambda x: data[x].dtype, data.columns)))"
   ]
  },
  {
   "cell_type": "code",
   "execution_count": 4,
   "metadata": {
    "collapsed": false
   },
   "outputs": [
    {
     "name": "stdout",
     "output_type": "stream",
     "text": [
      "Данные для прогнозирования интенсивности продаж конкретного товара в конкретной торговой точки розничной сети. \r\n",
      "\r\n",
      "#\tVariable\tDescription\r\n",
      "1\tDEMAND            \tцелевая переменная: интенсивность спроса, расcчитанная на первом месяце истории продаж\r\n",
      "2\tLOCATION_ID\tидентификатор магазина\r\n",
      "3\tMODEL_BRAND         \tбренд модели\r\n",
      "4\tMODEL_COST_AVG\tсредняя закупочная стоимость модели в первый месяц продаж\r\n",
      "5\tMODEL_COUNT_SALES_DAYS             \tколичество дней, которая модель продавалась в других каналах (связано с MODEL_MEAN_SALES)\r\n",
      "6\tMODEL_DIAG\tдлина диагонали\r\n",
      "7\tMODEL_DIAG_TYPE           \tтип диагонали\r\n",
      "8\tMODEL_HEIGHT\tвысоты\r\n",
      "9\tMODEL_ID       \tID модели\r\n",
      "10\tMODEL_MEAN_SALES\tсредняя интенсивность продаж модели в других каналах (оценённая на небольшому периоду, см поле MODEL_COUNT_SALES_DAYS)\r\n",
      "11\tMODEL_NAME\tнаименование модели\r\n",
      "12\tMODEL_OS\tоперационная система\r\n",
      "13\tMODEL_RES_TYPE\tтип разрешения экрана\r\n",
      "14\tMODEL_TYPE\tтип телефона\r\n",
      "15\tMODEL_WIDTH\tширина экрана\r\n",
      "16\tSTORE_ASSORTMENT\tколичество моделей в магазине,  на которые приходится 90% продаж в штуках\r\n",
      "17\tSTORE_BRAND_ABC\tкатегория ABC магазина относительно продаж данного бренда (см. MODEL_BRAND)\r\n",
      "18\tSTORE_BRAND_SPECTR\tспектр магазина относительно продаж данного бренда (см. MODEL_BRAND)\r\n",
      "19\tSTORE_BUILDING_TYPE\tтип здания, в котором находится магазин\r\n",
      "20\tSTORE_CITY\tгород расположения магазина\r\n",
      "21\tSTORE_CLUSTER\tкластер магазина в виде XuYm: чем выше X, тем сильнее продажи в штуках, чем выше Y тем выше продажи в деньгах\r\n",
      "22\tSTORE_TYPE_A\tвероятность отнесения магазина к группе A  относительно продаж моделей данного типа (см. MODEL_TYPE)\r\n",
      "23\tSTORE_TYPE_B\tвероятность отнесения магазина к группе B  относительно продаж моделей данного типа (см. MODEL_TYPE)\r\n",
      "24\tSTORE_TYPE_C\tвероятность отнесения магазина к группе C  относительно продаж моделей данного типа (см. MODEL_TYPE)\r\n",
      "25\tSTORE_TYPE_SPECTR\tспектр магазина относительно продаж данного типа (см. MODEL_TYPE)\r\n",
      "26\tSTORE_DIAG_ABC\tкатегория ABC магазина относительно продаж моделей данного типа диагонали (см. MODEL_DIAG_TYPE)\r\n",
      "27\tSTORE_DIAG_SPECTR\tспектр магазина относительно продаж моделей данного типа диагонали (см. MODEL_DIAG_TYPE)\r\n",
      "28\tSTORE_FORMAT\tформат магазина\r\n",
      "29\tSTORE_OPEN_DTTM\tдата открытия магазина\r\n",
      "30\tSTORE_PRICE_TYPE\tценовой регион \r\n",
      "31\tSTORE_REGION\tрегион, в котором расположен магазин\r\n",
      "32\tSTORE_RES_ABC\tкатегория ABC магазина относительно продаж моделей аналогичных по разрешению экрана (см. MODEL_RES_TYPE)\r\n",
      "33\tSTORE_RES_SPECTR\tспектр магазина относительно продаж моделей аналогичных по разрешению экрана (см. MODEL_RES_TYPE)\r\n",
      "\r\n",
      "\r\n",
      "Замечания: \r\n",
      "1) переменные с постфиксом _ABC - это ABC группы магазина по продажам в штуках по некоторой группе товара за месяц, предшествующий старту временного ряда LOCATION+MODEL (пропуск соответствует тому, что для данного ряда было недостаточно данных - месяц продаж):\r\n",
      "\r\n",
      "2) переменные с постфиксом _SPECTR - это спектр для торговой точки, рассчитанный по некоторой группе товар, на периоде за два месяца предшествующих старту временного рада LOCATION+MODEL.\r\n",
      "Спектр за период времени определяется как отношение числа различных проданных SKU за период времени к числу различных SKU находившихся на остатках за период времени.\r\n"
     ]
    }
   ],
   "source": [
    "%cat data/data_description.txt"
   ]
  },
  {
   "cell_type": "code",
   "execution_count": 5,
   "metadata": {
    "collapsed": false
   },
   "outputs": [
    {
     "data": {
      "text/html": [
       "<div>\n",
       "<table border=\"1\" class=\"dataframe\">\n",
       "  <thead>\n",
       "    <tr style=\"text-align: right;\">\n",
       "      <th></th>\n",
       "      <th>DEMAND</th>\n",
       "      <th>LOCATION_ID</th>\n",
       "      <th>MODEL_BRAND</th>\n",
       "      <th>MODEL_COST_AVG</th>\n",
       "      <th>MODEL_COUNT_SALES_DAYS</th>\n",
       "      <th>MODEL_DIAG</th>\n",
       "      <th>MODEL_DIAG_TYPE</th>\n",
       "      <th>MODEL_HEIGHT</th>\n",
       "      <th>MODEL_ID</th>\n",
       "      <th>MODEL_MEAN_SALES</th>\n",
       "      <th>MODEL_NAME</th>\n",
       "      <th>MODEL_OS</th>\n",
       "      <th>MODEL_RES_TYPE</th>\n",
       "      <th>MODEL_TYPE</th>\n",
       "      <th>MODEL_WIDTH</th>\n",
       "      <th>STORE_ASSORTMENT</th>\n",
       "      <th>STORE_BRAND_ABC</th>\n",
       "      <th>STORE_BRAND_SPECTR</th>\n",
       "      <th>STORE_BUILDING_TYPE</th>\n",
       "      <th>STORE_CITY</th>\n",
       "      <th>STORE_CLUSTER</th>\n",
       "      <th>STORE_DIAG_ABC</th>\n",
       "      <th>STORE_DIAG_SPECTR</th>\n",
       "      <th>STORE_FORMAT</th>\n",
       "      <th>STORE_OPEN_DTTM</th>\n",
       "      <th>STORE_PRICE_TYPE</th>\n",
       "      <th>STORE_REGION</th>\n",
       "      <th>STORE_RES_ABC</th>\n",
       "      <th>STORE_RES_SPECTR</th>\n",
       "      <th>STORE_TYPE_A</th>\n",
       "      <th>STORE_TYPE_B</th>\n",
       "      <th>STORE_TYPE_C</th>\n",
       "      <th>STORE_TYPE_SPECTR</th>\n",
       "    </tr>\n",
       "    <tr>\n",
       "      <th>ID</th>\n",
       "      <th></th>\n",
       "      <th></th>\n",
       "      <th></th>\n",
       "      <th></th>\n",
       "      <th></th>\n",
       "      <th></th>\n",
       "      <th></th>\n",
       "      <th></th>\n",
       "      <th></th>\n",
       "      <th></th>\n",
       "      <th></th>\n",
       "      <th></th>\n",
       "      <th></th>\n",
       "      <th></th>\n",
       "      <th></th>\n",
       "      <th></th>\n",
       "      <th></th>\n",
       "      <th></th>\n",
       "      <th></th>\n",
       "      <th></th>\n",
       "      <th></th>\n",
       "      <th></th>\n",
       "      <th></th>\n",
       "      <th></th>\n",
       "      <th></th>\n",
       "      <th></th>\n",
       "      <th></th>\n",
       "      <th></th>\n",
       "      <th></th>\n",
       "      <th></th>\n",
       "      <th></th>\n",
       "      <th></th>\n",
       "      <th></th>\n",
       "    </tr>\n",
       "  </thead>\n",
       "  <tbody>\n",
       "    <tr>\n",
       "      <th>0</th>\n",
       "      <td>0.105360</td>\n",
       "      <td>1835543262</td>\n",
       "      <td>ark</td>\n",
       "      <td>5179.7500</td>\n",
       "      <td>NaN</td>\n",
       "      <td>5.5</td>\n",
       "      <td>big</td>\n",
       "      <td>720.0</td>\n",
       "      <td>1682</td>\n",
       "      <td>NaN</td>\n",
       "      <td>ark benefit m7</td>\n",
       "      <td>gsm-and</td>\n",
       "      <td>hd</td>\n",
       "      <td>смартфон</td>\n",
       "      <td>1280.0</td>\n",
       "      <td>136.0</td>\n",
       "      <td>A</td>\n",
       "      <td>0.76</td>\n",
       "      <td>торговый центр</td>\n",
       "      <td>санкт-петербург г</td>\n",
       "      <td>u3m3</td>\n",
       "      <td>A</td>\n",
       "      <td>0.78</td>\n",
       "      <td>новый формат</td>\n",
       "      <td>19MAY15:00:00:00</td>\n",
       "      <td>розничная цена (северо-запад-санкт-петербург)</td>\n",
       "      <td>северо-запад</td>\n",
       "      <td>B</td>\n",
       "      <td>0.67</td>\n",
       "      <td>0.75</td>\n",
       "      <td>0.25</td>\n",
       "      <td>0.0</td>\n",
       "      <td>3.06</td>\n",
       "    </tr>\n",
       "    <tr>\n",
       "      <th>1</th>\n",
       "      <td>0.000100</td>\n",
       "      <td>1972241965</td>\n",
       "      <td>samsung</td>\n",
       "      <td>22015.3300</td>\n",
       "      <td>NaN</td>\n",
       "      <td>5.2</td>\n",
       "      <td>big</td>\n",
       "      <td>1920.0</td>\n",
       "      <td>34706</td>\n",
       "      <td>NaN</td>\n",
       "      <td>samsung a510 galaxy a5 (2016 edition)</td>\n",
       "      <td>gsm-and</td>\n",
       "      <td>hd</td>\n",
       "      <td>смартфон</td>\n",
       "      <td>1080.0</td>\n",
       "      <td>70.0</td>\n",
       "      <td>B</td>\n",
       "      <td>0.73</td>\n",
       "      <td>павильон</td>\n",
       "      <td>санкт-петербург г</td>\n",
       "      <td>u1m2</td>\n",
       "      <td>B</td>\n",
       "      <td>0.65</td>\n",
       "      <td>новый формат</td>\n",
       "      <td>20JAN16:00:00:00</td>\n",
       "      <td>розничная цена (северо-запад-днс1)</td>\n",
       "      <td>северо-запад</td>\n",
       "      <td>C</td>\n",
       "      <td>0.48</td>\n",
       "      <td>0.00</td>\n",
       "      <td>1.00</td>\n",
       "      <td>0.0</td>\n",
       "      <td>2.51</td>\n",
       "    </tr>\n",
       "    <tr>\n",
       "      <th>2</th>\n",
       "      <td>0.000100</td>\n",
       "      <td>2027986985</td>\n",
       "      <td>samsung</td>\n",
       "      <td>15592.5900</td>\n",
       "      <td>NaN</td>\n",
       "      <td>5.0</td>\n",
       "      <td>big</td>\n",
       "      <td>1280.0</td>\n",
       "      <td>2753</td>\n",
       "      <td>NaN</td>\n",
       "      <td>samsung a5</td>\n",
       "      <td>gsm-and</td>\n",
       "      <td>hd</td>\n",
       "      <td>смартфон</td>\n",
       "      <td>1280.0</td>\n",
       "      <td>106.0</td>\n",
       "      <td>A</td>\n",
       "      <td>0.89</td>\n",
       "      <td>капитальное строение</td>\n",
       "      <td>якутск г</td>\n",
       "      <td>тест</td>\n",
       "      <td>A</td>\n",
       "      <td>0.67</td>\n",
       "      <td>новый формат</td>\n",
       "      <td>27APR16:00:00:00</td>\n",
       "      <td>розничная цена (дальний восток-якутск)</td>\n",
       "      <td>дальний восток</td>\n",
       "      <td>A</td>\n",
       "      <td>0.64</td>\n",
       "      <td>1.00</td>\n",
       "      <td>0.00</td>\n",
       "      <td>0.0</td>\n",
       "      <td>2.72</td>\n",
       "    </tr>\n",
       "    <tr>\n",
       "      <th>3</th>\n",
       "      <td>0.000100</td>\n",
       "      <td>28432</td>\n",
       "      <td>alcatel</td>\n",
       "      <td>540.9533</td>\n",
       "      <td>29.0</td>\n",
       "      <td>1.8</td>\n",
       "      <td>small</td>\n",
       "      <td>128.0</td>\n",
       "      <td>1593</td>\n",
       "      <td>7.533</td>\n",
       "      <td>alcatel ot1042d</td>\n",
       "      <td>gsm без ос</td>\n",
       "      <td>low</td>\n",
       "      <td>не смартфон</td>\n",
       "      <td>160.0</td>\n",
       "      <td>132.0</td>\n",
       "      <td>B</td>\n",
       "      <td>0.67</td>\n",
       "      <td>капитальное строение</td>\n",
       "      <td>ломоносов г</td>\n",
       "      <td>u3m3</td>\n",
       "      <td>B</td>\n",
       "      <td>0.60</td>\n",
       "      <td>стандарт</td>\n",
       "      <td>21OCT09:00:00:00</td>\n",
       "      <td>розничная цена (северо-запад-боровичи)</td>\n",
       "      <td>северо-запад</td>\n",
       "      <td>B</td>\n",
       "      <td>0.65</td>\n",
       "      <td>0.50</td>\n",
       "      <td>0.25</td>\n",
       "      <td>0.0</td>\n",
       "      <td>2.04</td>\n",
       "    </tr>\n",
       "    <tr>\n",
       "      <th>4</th>\n",
       "      <td>0.000100</td>\n",
       "      <td>28547</td>\n",
       "      <td>мтс</td>\n",
       "      <td>444.7300</td>\n",
       "      <td>30.0</td>\n",
       "      <td>4.0</td>\n",
       "      <td>medium</td>\n",
       "      <td>480.0</td>\n",
       "      <td>80644</td>\n",
       "      <td>16.830</td>\n",
       "      <td>мтс smart start 2 dual sim lock</td>\n",
       "      <td>gsm-and</td>\n",
       "      <td>low</td>\n",
       "      <td>смартфон</td>\n",
       "      <td>800.0</td>\n",
       "      <td>95.0</td>\n",
       "      <td>A</td>\n",
       "      <td>1.00</td>\n",
       "      <td>павильон</td>\n",
       "      <td>санкт-петербург г</td>\n",
       "      <td>unknown</td>\n",
       "      <td>A</td>\n",
       "      <td>0.71</td>\n",
       "      <td>стандарт</td>\n",
       "      <td>20MAY09:00:00:00</td>\n",
       "      <td>розничная цена (северо-запад-санкт-петербург)</td>\n",
       "      <td>северо-запад</td>\n",
       "      <td>A</td>\n",
       "      <td>0.83</td>\n",
       "      <td>0.75</td>\n",
       "      <td>0.25</td>\n",
       "      <td>0.0</td>\n",
       "      <td>2.37</td>\n",
       "    </tr>\n",
       "    <tr>\n",
       "      <th>5</th>\n",
       "      <td>0.000100</td>\n",
       "      <td>183773</td>\n",
       "      <td>alcatel</td>\n",
       "      <td>1681.5950</td>\n",
       "      <td>30.0</td>\n",
       "      <td>4.0</td>\n",
       "      <td>medium</td>\n",
       "      <td>480.0</td>\n",
       "      <td>1616</td>\n",
       "      <td>26.300</td>\n",
       "      <td>alcatel ot4032d pop c2</td>\n",
       "      <td>gsm-and</td>\n",
       "      <td>low</td>\n",
       "      <td>смартфон</td>\n",
       "      <td>800.0</td>\n",
       "      <td>116.0</td>\n",
       "      <td>B</td>\n",
       "      <td>0.52</td>\n",
       "      <td>капитальное строение</td>\n",
       "      <td>нерюнгри г</td>\n",
       "      <td>u3m4</td>\n",
       "      <td>A</td>\n",
       "      <td>0.71</td>\n",
       "      <td>эконом-new</td>\n",
       "      <td>14JUN11:00:00:00</td>\n",
       "      <td>розничная цена (дальний восток-якутск)</td>\n",
       "      <td>дальний восток</td>\n",
       "      <td>A</td>\n",
       "      <td>0.67</td>\n",
       "      <td>0.50</td>\n",
       "      <td>0.25</td>\n",
       "      <td>0.0</td>\n",
       "      <td>1.91</td>\n",
       "    </tr>\n",
       "    <tr>\n",
       "      <th>6</th>\n",
       "      <td>0.036368</td>\n",
       "      <td>1876723290</td>\n",
       "      <td>samsung</td>\n",
       "      <td>38130.2200</td>\n",
       "      <td>NaN</td>\n",
       "      <td>5.5</td>\n",
       "      <td>big</td>\n",
       "      <td>2560.0</td>\n",
       "      <td>168722</td>\n",
       "      <td>NaN</td>\n",
       "      <td>samsung g935 galaxy s7 edge 32gb lte</td>\n",
       "      <td>gsm-and</td>\n",
       "      <td>hd</td>\n",
       "      <td>смартфон</td>\n",
       "      <td>1440.0</td>\n",
       "      <td>87.0</td>\n",
       "      <td>A</td>\n",
       "      <td>0.89</td>\n",
       "      <td>капитальное строение</td>\n",
       "      <td>ленск г</td>\n",
       "      <td>u2m3</td>\n",
       "      <td>A</td>\n",
       "      <td>0.73</td>\n",
       "      <td>новый формат</td>\n",
       "      <td>05AUG15:00:00:00</td>\n",
       "      <td>розничная цена (дальний восток-якутск)</td>\n",
       "      <td>дальний восток</td>\n",
       "      <td>A</td>\n",
       "      <td>0.68</td>\n",
       "      <td>1.00</td>\n",
       "      <td>0.00</td>\n",
       "      <td>0.0</td>\n",
       "      <td>3.00</td>\n",
       "    </tr>\n",
       "    <tr>\n",
       "      <th>7</th>\n",
       "      <td>0.081096</td>\n",
       "      <td>1272996680</td>\n",
       "      <td>ark</td>\n",
       "      <td>3546.1150</td>\n",
       "      <td>NaN</td>\n",
       "      <td>5.0</td>\n",
       "      <td>big</td>\n",
       "      <td>480.0</td>\n",
       "      <td>1680</td>\n",
       "      <td>NaN</td>\n",
       "      <td>ark benefit m5 plus dual</td>\n",
       "      <td>gsm-and</td>\n",
       "      <td>low</td>\n",
       "      <td>смартфон</td>\n",
       "      <td>854.0</td>\n",
       "      <td>153.0</td>\n",
       "      <td>A</td>\n",
       "      <td>0.76</td>\n",
       "      <td>торговый центр</td>\n",
       "      <td>санкт-петербург г</td>\n",
       "      <td>u4m4</td>\n",
       "      <td>A</td>\n",
       "      <td>0.70</td>\n",
       "      <td>эконом-new</td>\n",
       "      <td>26FEB13:00:00:00</td>\n",
       "      <td>розничная цена (северо-запад-санкт-петербург)</td>\n",
       "      <td>северо-запад</td>\n",
       "      <td>A</td>\n",
       "      <td>0.94</td>\n",
       "      <td>1.00</td>\n",
       "      <td>0.00</td>\n",
       "      <td>0.0</td>\n",
       "      <td>2.99</td>\n",
       "    </tr>\n",
       "    <tr>\n",
       "      <th>8</th>\n",
       "      <td>0.000100</td>\n",
       "      <td>488028688</td>\n",
       "      <td>alcatel</td>\n",
       "      <td>1511.1900</td>\n",
       "      <td>NaN</td>\n",
       "      <td>2.4</td>\n",
       "      <td>medium</td>\n",
       "      <td>240.0</td>\n",
       "      <td>1598</td>\n",
       "      <td>NaN</td>\n",
       "      <td>alcatel ot2004g (без кредла)</td>\n",
       "      <td>gsm без ос</td>\n",
       "      <td>low</td>\n",
       "      <td>не смартфон</td>\n",
       "      <td>320.0</td>\n",
       "      <td>187.0</td>\n",
       "      <td>A</td>\n",
       "      <td>0.53</td>\n",
       "      <td>торговый центр</td>\n",
       "      <td>санкт-петербург г</td>\n",
       "      <td>u4m4</td>\n",
       "      <td>A</td>\n",
       "      <td>0.56</td>\n",
       "      <td>новый формат</td>\n",
       "      <td>12MAY12:00:00:00</td>\n",
       "      <td>розничная цена (северо-запад-санкт-петербург)</td>\n",
       "      <td>северо-запад</td>\n",
       "      <td>A</td>\n",
       "      <td>0.66</td>\n",
       "      <td>1.00</td>\n",
       "      <td>0.00</td>\n",
       "      <td>0.0</td>\n",
       "      <td>2.91</td>\n",
       "    </tr>\n",
       "    <tr>\n",
       "      <th>9</th>\n",
       "      <td>0.037740</td>\n",
       "      <td>28467</td>\n",
       "      <td>ark</td>\n",
       "      <td>1668.7900</td>\n",
       "      <td>10.0</td>\n",
       "      <td>4.0</td>\n",
       "      <td>medium</td>\n",
       "      <td>480.0</td>\n",
       "      <td>1676</td>\n",
       "      <td>1.000</td>\n",
       "      <td>ark benefit m2c</td>\n",
       "      <td>gsm-and</td>\n",
       "      <td>low</td>\n",
       "      <td>смартфон</td>\n",
       "      <td>800.0</td>\n",
       "      <td>134.0</td>\n",
       "      <td>A</td>\n",
       "      <td>0.76</td>\n",
       "      <td>капитальное строение</td>\n",
       "      <td>санкт-петербург г</td>\n",
       "      <td>u4m4</td>\n",
       "      <td>A</td>\n",
       "      <td>0.94</td>\n",
       "      <td>стандарт</td>\n",
       "      <td>19NOV09:00:00:00</td>\n",
       "      <td>розничная цена (северо-запад-санкт-петербург)</td>\n",
       "      <td>северо-запад</td>\n",
       "      <td>A</td>\n",
       "      <td>0.82</td>\n",
       "      <td>1.00</td>\n",
       "      <td>0.00</td>\n",
       "      <td>0.0</td>\n",
       "      <td>3.26</td>\n",
       "    </tr>\n",
       "  </tbody>\n",
       "</table>\n",
       "</div>"
      ],
      "text/plain": [
       "      DEMAND  LOCATION_ID MODEL_BRAND  MODEL_COST_AVG  MODEL_COUNT_SALES_DAYS  \\\n",
       "ID                                                                              \n",
       "0   0.105360   1835543262         ark       5179.7500                     NaN   \n",
       "1   0.000100   1972241965     samsung      22015.3300                     NaN   \n",
       "2   0.000100   2027986985     samsung      15592.5900                     NaN   \n",
       "3   0.000100        28432     alcatel        540.9533                    29.0   \n",
       "4   0.000100        28547         мтс        444.7300                    30.0   \n",
       "5   0.000100       183773     alcatel       1681.5950                    30.0   \n",
       "6   0.036368   1876723290     samsung      38130.2200                     NaN   \n",
       "7   0.081096   1272996680         ark       3546.1150                     NaN   \n",
       "8   0.000100    488028688     alcatel       1511.1900                     NaN   \n",
       "9   0.037740        28467         ark       1668.7900                    10.0   \n",
       "\n",
       "    MODEL_DIAG MODEL_DIAG_TYPE  MODEL_HEIGHT  MODEL_ID  MODEL_MEAN_SALES  \\\n",
       "ID                                                                         \n",
       "0          5.5             big         720.0      1682               NaN   \n",
       "1          5.2             big        1920.0     34706               NaN   \n",
       "2          5.0             big        1280.0      2753               NaN   \n",
       "3          1.8           small         128.0      1593             7.533   \n",
       "4          4.0          medium         480.0     80644            16.830   \n",
       "5          4.0          medium         480.0      1616            26.300   \n",
       "6          5.5             big        2560.0    168722               NaN   \n",
       "7          5.0             big         480.0      1680               NaN   \n",
       "8          2.4          medium         240.0      1598               NaN   \n",
       "9          4.0          medium         480.0      1676             1.000   \n",
       "\n",
       "                               MODEL_NAME    MODEL_OS MODEL_RES_TYPE  \\\n",
       "ID                                                                     \n",
       "0                          ark benefit m7     gsm-and             hd   \n",
       "1   samsung a510 galaxy a5 (2016 edition)     gsm-and             hd   \n",
       "2                              samsung a5     gsm-and             hd   \n",
       "3                         alcatel ot1042d  gsm без ос            low   \n",
       "4         мтс smart start 2 dual sim lock     gsm-and            low   \n",
       "5                  alcatel ot4032d pop c2     gsm-and            low   \n",
       "6    samsung g935 galaxy s7 edge 32gb lte     gsm-and             hd   \n",
       "7                ark benefit m5 plus dual     gsm-and            low   \n",
       "8            alcatel ot2004g (без кредла)  gsm без ос            low   \n",
       "9                         ark benefit m2c     gsm-and            low   \n",
       "\n",
       "     MODEL_TYPE  MODEL_WIDTH  STORE_ASSORTMENT STORE_BRAND_ABC  \\\n",
       "ID                                                               \n",
       "0      смартфон       1280.0             136.0               A   \n",
       "1      смартфон       1080.0              70.0               B   \n",
       "2      смартфон       1280.0             106.0               A   \n",
       "3   не смартфон        160.0             132.0               B   \n",
       "4      смартфон        800.0              95.0               A   \n",
       "5      смартфон        800.0             116.0               B   \n",
       "6      смартфон       1440.0              87.0               A   \n",
       "7      смартфон        854.0             153.0               A   \n",
       "8   не смартфон        320.0             187.0               A   \n",
       "9      смартфон        800.0             134.0               A   \n",
       "\n",
       "    STORE_BRAND_SPECTR   STORE_BUILDING_TYPE         STORE_CITY STORE_CLUSTER  \\\n",
       "ID                                                                              \n",
       "0                 0.76        торговый центр  санкт-петербург г          u3m3   \n",
       "1                 0.73              павильон  санкт-петербург г          u1m2   \n",
       "2                 0.89  капитальное строение           якутск г          тест   \n",
       "3                 0.67  капитальное строение        ломоносов г          u3m3   \n",
       "4                 1.00              павильон  санкт-петербург г       unknown   \n",
       "5                 0.52  капитальное строение         нерюнгри г          u3m4   \n",
       "6                 0.89  капитальное строение            ленск г          u2m3   \n",
       "7                 0.76        торговый центр  санкт-петербург г          u4m4   \n",
       "8                 0.53        торговый центр  санкт-петербург г          u4m4   \n",
       "9                 0.76  капитальное строение  санкт-петербург г          u4m4   \n",
       "\n",
       "   STORE_DIAG_ABC  STORE_DIAG_SPECTR  STORE_FORMAT   STORE_OPEN_DTTM  \\\n",
       "ID                                                                     \n",
       "0               A               0.78  новый формат  19MAY15:00:00:00   \n",
       "1               B               0.65  новый формат  20JAN16:00:00:00   \n",
       "2               A               0.67  новый формат  27APR16:00:00:00   \n",
       "3               B               0.60      стандарт  21OCT09:00:00:00   \n",
       "4               A               0.71      стандарт  20MAY09:00:00:00   \n",
       "5               A               0.71    эконом-new  14JUN11:00:00:00   \n",
       "6               A               0.73  новый формат  05AUG15:00:00:00   \n",
       "7               A               0.70    эконом-new  26FEB13:00:00:00   \n",
       "8               A               0.56  новый формат  12MAY12:00:00:00   \n",
       "9               A               0.94      стандарт  19NOV09:00:00:00   \n",
       "\n",
       "                                 STORE_PRICE_TYPE    STORE_REGION  \\\n",
       "ID                                                                  \n",
       "0   розничная цена (северо-запад-санкт-петербург)    северо-запад   \n",
       "1              розничная цена (северо-запад-днс1)    северо-запад   \n",
       "2          розничная цена (дальний восток-якутск)  дальний восток   \n",
       "3          розничная цена (северо-запад-боровичи)    северо-запад   \n",
       "4   розничная цена (северо-запад-санкт-петербург)    северо-запад   \n",
       "5          розничная цена (дальний восток-якутск)  дальний восток   \n",
       "6          розничная цена (дальний восток-якутск)  дальний восток   \n",
       "7   розничная цена (северо-запад-санкт-петербург)    северо-запад   \n",
       "8   розничная цена (северо-запад-санкт-петербург)    северо-запад   \n",
       "9   розничная цена (северо-запад-санкт-петербург)    северо-запад   \n",
       "\n",
       "   STORE_RES_ABC  STORE_RES_SPECTR  STORE_TYPE_A  STORE_TYPE_B  STORE_TYPE_C  \\\n",
       "ID                                                                             \n",
       "0              B              0.67          0.75          0.25           0.0   \n",
       "1              C              0.48          0.00          1.00           0.0   \n",
       "2              A              0.64          1.00          0.00           0.0   \n",
       "3              B              0.65          0.50          0.25           0.0   \n",
       "4              A              0.83          0.75          0.25           0.0   \n",
       "5              A              0.67          0.50          0.25           0.0   \n",
       "6              A              0.68          1.00          0.00           0.0   \n",
       "7              A              0.94          1.00          0.00           0.0   \n",
       "8              A              0.66          1.00          0.00           0.0   \n",
       "9              A              0.82          1.00          0.00           0.0   \n",
       "\n",
       "    STORE_TYPE_SPECTR  \n",
       "ID                     \n",
       "0                3.06  \n",
       "1                2.51  \n",
       "2                2.72  \n",
       "3                2.04  \n",
       "4                2.37  \n",
       "5                1.91  \n",
       "6                3.00  \n",
       "7                2.99  \n",
       "8                2.91  \n",
       "9                3.26  "
      ]
     },
     "execution_count": 5,
     "metadata": {},
     "output_type": "execute_result"
    }
   ],
   "source": [
    "data.head(10)"
   ]
  },
  {
   "cell_type": "code",
   "execution_count": 6,
   "metadata": {
    "collapsed": false,
    "scrolled": false
   },
   "outputs": [
    {
     "name": "stderr",
     "output_type": "stream",
     "text": [
      "/Users/astepanov/.virtualenvs/tf/lib/python3.5/site-packages/ipykernel/__main__.py:1: FutureWarning: sort(columns=....) is deprecated, use sort_values(by=.....)\n",
      "  if __name__ == '__main__':\n"
     ]
    },
    {
     "data": {
      "text/html": [
       "<div>\n",
       "<table border=\"1\" class=\"dataframe\">\n",
       "  <thead>\n",
       "    <tr style=\"text-align: right;\">\n",
       "      <th></th>\n",
       "      <th>DEMAND</th>\n",
       "      <th>LOCATION_ID</th>\n",
       "      <th>MODEL_BRAND</th>\n",
       "      <th>MODEL_COST_AVG</th>\n",
       "      <th>MODEL_COUNT_SALES_DAYS</th>\n",
       "      <th>MODEL_DIAG</th>\n",
       "      <th>MODEL_DIAG_TYPE</th>\n",
       "      <th>MODEL_HEIGHT</th>\n",
       "      <th>MODEL_ID</th>\n",
       "      <th>MODEL_MEAN_SALES</th>\n",
       "      <th>MODEL_NAME</th>\n",
       "      <th>MODEL_OS</th>\n",
       "      <th>MODEL_RES_TYPE</th>\n",
       "      <th>MODEL_TYPE</th>\n",
       "      <th>MODEL_WIDTH</th>\n",
       "      <th>STORE_ASSORTMENT</th>\n",
       "      <th>STORE_BRAND_ABC</th>\n",
       "      <th>STORE_BRAND_SPECTR</th>\n",
       "      <th>STORE_BUILDING_TYPE</th>\n",
       "      <th>STORE_CITY</th>\n",
       "      <th>STORE_CLUSTER</th>\n",
       "      <th>STORE_DIAG_ABC</th>\n",
       "      <th>STORE_DIAG_SPECTR</th>\n",
       "      <th>STORE_FORMAT</th>\n",
       "      <th>STORE_OPEN_DTTM</th>\n",
       "      <th>STORE_PRICE_TYPE</th>\n",
       "      <th>STORE_REGION</th>\n",
       "      <th>STORE_RES_ABC</th>\n",
       "      <th>STORE_RES_SPECTR</th>\n",
       "      <th>STORE_TYPE_A</th>\n",
       "      <th>STORE_TYPE_B</th>\n",
       "      <th>STORE_TYPE_C</th>\n",
       "      <th>STORE_TYPE_SPECTR</th>\n",
       "    </tr>\n",
       "    <tr>\n",
       "      <th>ID</th>\n",
       "      <th></th>\n",
       "      <th></th>\n",
       "      <th></th>\n",
       "      <th></th>\n",
       "      <th></th>\n",
       "      <th></th>\n",
       "      <th></th>\n",
       "      <th></th>\n",
       "      <th></th>\n",
       "      <th></th>\n",
       "      <th></th>\n",
       "      <th></th>\n",
       "      <th></th>\n",
       "      <th></th>\n",
       "      <th></th>\n",
       "      <th></th>\n",
       "      <th></th>\n",
       "      <th></th>\n",
       "      <th></th>\n",
       "      <th></th>\n",
       "      <th></th>\n",
       "      <th></th>\n",
       "      <th></th>\n",
       "      <th></th>\n",
       "      <th></th>\n",
       "      <th></th>\n",
       "      <th></th>\n",
       "      <th></th>\n",
       "      <th></th>\n",
       "      <th></th>\n",
       "      <th></th>\n",
       "      <th></th>\n",
       "      <th></th>\n",
       "    </tr>\n",
       "  </thead>\n",
       "  <tbody>\n",
       "    <tr>\n",
       "      <th>13449</th>\n",
       "      <td>27.509939</td>\n",
       "      <td>29802</td>\n",
       "      <td>apple</td>\n",
       "      <td>43911.8500</td>\n",
       "      <td>16.0</td>\n",
       "      <td>4.7</td>\n",
       "      <td>big</td>\n",
       "      <td>1334.0</td>\n",
       "      <td>2112</td>\n",
       "      <td>5.333</td>\n",
       "      <td>iphone 6 64gb</td>\n",
       "      <td>gsm-ios</td>\n",
       "      <td>hd</td>\n",
       "      <td>смартфон</td>\n",
       "      <td>750.0</td>\n",
       "      <td>113.0</td>\n",
       "      <td>A</td>\n",
       "      <td>0.56</td>\n",
       "      <td>капитальное строение</td>\n",
       "      <td>казань г</td>\n",
       "      <td>u2m3</td>\n",
       "      <td>A</td>\n",
       "      <td>0.59</td>\n",
       "      <td>новый формат</td>\n",
       "      <td>29APR09:00:00:00</td>\n",
       "      <td>розничная цена (поволжье-казань под днс)</td>\n",
       "      <td>поволжье</td>\n",
       "      <td>A</td>\n",
       "      <td>0.64</td>\n",
       "      <td>0.50</td>\n",
       "      <td>0.50</td>\n",
       "      <td>0.00</td>\n",
       "      <td>2.51</td>\n",
       "    </tr>\n",
       "    <tr>\n",
       "      <th>28358</th>\n",
       "      <td>14.228448</td>\n",
       "      <td>1689780482</td>\n",
       "      <td>lenovo</td>\n",
       "      <td>5571.0900</td>\n",
       "      <td>NaN</td>\n",
       "      <td>4.5</td>\n",
       "      <td>big</td>\n",
       "      <td>480.0</td>\n",
       "      <td>170770</td>\n",
       "      <td>NaN</td>\n",
       "      <td>lenovo a2010 dual sim</td>\n",
       "      <td>gsm-and</td>\n",
       "      <td>low</td>\n",
       "      <td>смартфон</td>\n",
       "      <td>854.0</td>\n",
       "      <td>175.0</td>\n",
       "      <td>A</td>\n",
       "      <td>0.75</td>\n",
       "      <td>торговый центр</td>\n",
       "      <td>санкт-петербург г</td>\n",
       "      <td>тест</td>\n",
       "      <td>A</td>\n",
       "      <td>0.79</td>\n",
       "      <td>новый формат</td>\n",
       "      <td>06AUG14:00:00:00</td>\n",
       "      <td>розничная цена (северо-запад-санкт-петербург)</td>\n",
       "      <td>северо-запад</td>\n",
       "      <td>A</td>\n",
       "      <td>0.85</td>\n",
       "      <td>1.00</td>\n",
       "      <td>0.00</td>\n",
       "      <td>0.00</td>\n",
       "      <td>3.12</td>\n",
       "    </tr>\n",
       "    <tr>\n",
       "      <th>3413</th>\n",
       "      <td>14.228448</td>\n",
       "      <td>28656</td>\n",
       "      <td>alcatel</td>\n",
       "      <td>2435.4080</td>\n",
       "      <td>2.0</td>\n",
       "      <td>4.0</td>\n",
       "      <td>medium</td>\n",
       "      <td>480.0</td>\n",
       "      <td>1613</td>\n",
       "      <td>0.467</td>\n",
       "      <td>alcatel ot4013d</td>\n",
       "      <td>gsm-and</td>\n",
       "      <td>low</td>\n",
       "      <td>смартфон</td>\n",
       "      <td>800.0</td>\n",
       "      <td>117.0</td>\n",
       "      <td>A</td>\n",
       "      <td>0.95</td>\n",
       "      <td>павильон</td>\n",
       "      <td>санкт-петербург г</td>\n",
       "      <td>u3m3</td>\n",
       "      <td>A</td>\n",
       "      <td>0.83</td>\n",
       "      <td>стандарт</td>\n",
       "      <td>23OCT09:00:00:00</td>\n",
       "      <td>розничная цена (северо-запад-санкт-петербург)</td>\n",
       "      <td>северо-запад</td>\n",
       "      <td>A</td>\n",
       "      <td>0.76</td>\n",
       "      <td>0.75</td>\n",
       "      <td>0.00</td>\n",
       "      <td>0.25</td>\n",
       "      <td>2.60</td>\n",
       "    </tr>\n",
       "    <tr>\n",
       "      <th>17301</th>\n",
       "      <td>14.228448</td>\n",
       "      <td>1976155686</td>\n",
       "      <td>texet</td>\n",
       "      <td>813.7200</td>\n",
       "      <td>NaN</td>\n",
       "      <td>1.8</td>\n",
       "      <td>small</td>\n",
       "      <td>128.0</td>\n",
       "      <td>147914</td>\n",
       "      <td>NaN</td>\n",
       "      <td>texet tm-101</td>\n",
       "      <td>gsm без ос</td>\n",
       "      <td>low</td>\n",
       "      <td>не смартфон</td>\n",
       "      <td>160.0</td>\n",
       "      <td>175.0</td>\n",
       "      <td>A</td>\n",
       "      <td>0.97</td>\n",
       "      <td>торговый центр</td>\n",
       "      <td>якутск г</td>\n",
       "      <td>тест</td>\n",
       "      <td>A</td>\n",
       "      <td>1.04</td>\n",
       "      <td>новый формат</td>\n",
       "      <td>27JAN16:00:00:00</td>\n",
       "      <td>розничная цена (дальний восток-якутск)</td>\n",
       "      <td>дальний восток</td>\n",
       "      <td>A</td>\n",
       "      <td>0.96</td>\n",
       "      <td>1.00</td>\n",
       "      <td>0.00</td>\n",
       "      <td>0.00</td>\n",
       "      <td>3.88</td>\n",
       "    </tr>\n",
       "    <tr>\n",
       "      <th>38544</th>\n",
       "      <td>14.228448</td>\n",
       "      <td>28467</td>\n",
       "      <td>philips</td>\n",
       "      <td>3256.1900</td>\n",
       "      <td>15.0</td>\n",
       "      <td>4.5</td>\n",
       "      <td>big</td>\n",
       "      <td>540.0</td>\n",
       "      <td>2659</td>\n",
       "      <td>0.967</td>\n",
       "      <td>philips s388</td>\n",
       "      <td>gsm-and</td>\n",
       "      <td>low</td>\n",
       "      <td>смартфон</td>\n",
       "      <td>960.0</td>\n",
       "      <td>124.0</td>\n",
       "      <td>A</td>\n",
       "      <td>0.74</td>\n",
       "      <td>капитальное строение</td>\n",
       "      <td>санкт-петербург г</td>\n",
       "      <td>u4m4</td>\n",
       "      <td>A</td>\n",
       "      <td>0.77</td>\n",
       "      <td>стандарт</td>\n",
       "      <td>19NOV09:00:00:00</td>\n",
       "      <td>розничная цена (северо-запад-санкт-петербург)</td>\n",
       "      <td>северо-запад</td>\n",
       "      <td>A</td>\n",
       "      <td>0.84</td>\n",
       "      <td>1.00</td>\n",
       "      <td>0.00</td>\n",
       "      <td>0.00</td>\n",
       "      <td>3.05</td>\n",
       "    </tr>\n",
       "    <tr>\n",
       "      <th>2388</th>\n",
       "      <td>14.228448</td>\n",
       "      <td>1855473741</td>\n",
       "      <td>microsoft</td>\n",
       "      <td>814.0867</td>\n",
       "      <td>NaN</td>\n",
       "      <td>1.4</td>\n",
       "      <td>small</td>\n",
       "      <td>128.0</td>\n",
       "      <td>2399</td>\n",
       "      <td>NaN</td>\n",
       "      <td>nokia 105</td>\n",
       "      <td>gsm без ос</td>\n",
       "      <td>low</td>\n",
       "      <td>не смартфон</td>\n",
       "      <td>128.0</td>\n",
       "      <td>NaN</td>\n",
       "      <td>NaN</td>\n",
       "      <td>NaN</td>\n",
       "      <td>торговый центр</td>\n",
       "      <td>санкт-петербург г</td>\n",
       "      <td>u1m2</td>\n",
       "      <td>NaN</td>\n",
       "      <td>NaN</td>\n",
       "      <td>новый формат</td>\n",
       "      <td>25JUN15:00:00:00</td>\n",
       "      <td>розничная цена (северо-запад-боровичи)</td>\n",
       "      <td>северо-запад</td>\n",
       "      <td>NaN</td>\n",
       "      <td>NaN</td>\n",
       "      <td>0.00</td>\n",
       "      <td>0.00</td>\n",
       "      <td>0.00</td>\n",
       "      <td>0.00</td>\n",
       "    </tr>\n",
       "    <tr>\n",
       "      <th>28440</th>\n",
       "      <td>14.228448</td>\n",
       "      <td>29804</td>\n",
       "      <td>alcatel</td>\n",
       "      <td>3998.5700</td>\n",
       "      <td>2.0</td>\n",
       "      <td>5.0</td>\n",
       "      <td>big</td>\n",
       "      <td>480.0</td>\n",
       "      <td>356990</td>\n",
       "      <td>0.600</td>\n",
       "      <td>alcatel ot5010d pixi 4 dual sim</td>\n",
       "      <td>gsm-and</td>\n",
       "      <td>low</td>\n",
       "      <td>смартфон</td>\n",
       "      <td>864.0</td>\n",
       "      <td>114.0</td>\n",
       "      <td>A</td>\n",
       "      <td>0.81</td>\n",
       "      <td>капитальное строение</td>\n",
       "      <td>казань г</td>\n",
       "      <td>unknown</td>\n",
       "      <td>A</td>\n",
       "      <td>0.53</td>\n",
       "      <td>эконом-new</td>\n",
       "      <td>01JAN10:00:00:00</td>\n",
       "      <td>розничная цена (поволжье-казань под днс)</td>\n",
       "      <td>поволжье</td>\n",
       "      <td>A</td>\n",
       "      <td>0.47</td>\n",
       "      <td>1.00</td>\n",
       "      <td>0.00</td>\n",
       "      <td>0.00</td>\n",
       "      <td>2.30</td>\n",
       "    </tr>\n",
       "    <tr>\n",
       "      <th>9493</th>\n",
       "      <td>14.228448</td>\n",
       "      <td>1869032693</td>\n",
       "      <td>alcatel</td>\n",
       "      <td>6197.2800</td>\n",
       "      <td>NaN</td>\n",
       "      <td>5.0</td>\n",
       "      <td>big</td>\n",
       "      <td>540.0</td>\n",
       "      <td>1631</td>\n",
       "      <td>NaN</td>\n",
       "      <td>alcatel ot6037k idol 2 dual sim</td>\n",
       "      <td>gsm-and</td>\n",
       "      <td>low</td>\n",
       "      <td>смартфон</td>\n",
       "      <td>960.0</td>\n",
       "      <td>99.0</td>\n",
       "      <td>A</td>\n",
       "      <td>0.71</td>\n",
       "      <td>павильон</td>\n",
       "      <td>санкт-петербург г</td>\n",
       "      <td>u2m2</td>\n",
       "      <td>B</td>\n",
       "      <td>0.66</td>\n",
       "      <td>новый формат</td>\n",
       "      <td>20JUL15:00:00:00</td>\n",
       "      <td>розничная цена (северо-запад-санкт-петербург)</td>\n",
       "      <td>северо-запад</td>\n",
       "      <td>B</td>\n",
       "      <td>0.77</td>\n",
       "      <td>0.25</td>\n",
       "      <td>0.75</td>\n",
       "      <td>0.00</td>\n",
       "      <td>2.77</td>\n",
       "    </tr>\n",
       "    <tr>\n",
       "      <th>33042</th>\n",
       "      <td>14.228448</td>\n",
       "      <td>28645</td>\n",
       "      <td>apple</td>\n",
       "      <td>36257.2300</td>\n",
       "      <td>28.0</td>\n",
       "      <td>4.7</td>\n",
       "      <td>big</td>\n",
       "      <td>1334.0</td>\n",
       "      <td>2111</td>\n",
       "      <td>7.600</td>\n",
       "      <td>iphone 6 16gb</td>\n",
       "      <td>gsm-ios</td>\n",
       "      <td>hd</td>\n",
       "      <td>смартфон</td>\n",
       "      <td>750.0</td>\n",
       "      <td>139.0</td>\n",
       "      <td>A</td>\n",
       "      <td>0.54</td>\n",
       "      <td>капитальное строение</td>\n",
       "      <td>санкт-петербург г</td>\n",
       "      <td>u4m4</td>\n",
       "      <td>A</td>\n",
       "      <td>0.50</td>\n",
       "      <td>стандарт</td>\n",
       "      <td>21OCT09:00:00:00</td>\n",
       "      <td>розничная цена (северо-запад-санкт-петербург)</td>\n",
       "      <td>северо-запад</td>\n",
       "      <td>A</td>\n",
       "      <td>0.48</td>\n",
       "      <td>0.75</td>\n",
       "      <td>0.00</td>\n",
       "      <td>0.00</td>\n",
       "      <td>2.29</td>\n",
       "    </tr>\n",
       "    <tr>\n",
       "      <th>27144</th>\n",
       "      <td>14.228448</td>\n",
       "      <td>1624283796</td>\n",
       "      <td>apple</td>\n",
       "      <td>49133.1800</td>\n",
       "      <td>NaN</td>\n",
       "      <td>4.7</td>\n",
       "      <td>big</td>\n",
       "      <td>1334.0</td>\n",
       "      <td>2110</td>\n",
       "      <td>NaN</td>\n",
       "      <td>iphone 6 128gb</td>\n",
       "      <td>gsm-ios</td>\n",
       "      <td>hd</td>\n",
       "      <td>смартфон</td>\n",
       "      <td>750.0</td>\n",
       "      <td>181.0</td>\n",
       "      <td>A</td>\n",
       "      <td>0.77</td>\n",
       "      <td>торговый центр</td>\n",
       "      <td>бугры п</td>\n",
       "      <td>u4m4</td>\n",
       "      <td>A</td>\n",
       "      <td>0.67</td>\n",
       "      <td>новый формат</td>\n",
       "      <td>14MAR14:00:00:00</td>\n",
       "      <td>розничная цена (северо-запад-санкт-петербург)</td>\n",
       "      <td>северо-запад</td>\n",
       "      <td>A</td>\n",
       "      <td>0.63</td>\n",
       "      <td>1.00</td>\n",
       "      <td>0.00</td>\n",
       "      <td>0.00</td>\n",
       "      <td>2.77</td>\n",
       "    </tr>\n",
       "  </tbody>\n",
       "</table>\n",
       "</div>"
      ],
      "text/plain": [
       "          DEMAND  LOCATION_ID MODEL_BRAND  MODEL_COST_AVG  \\\n",
       "ID                                                          \n",
       "13449  27.509939        29802       apple      43911.8500   \n",
       "28358  14.228448   1689780482      lenovo       5571.0900   \n",
       "3413   14.228448        28656     alcatel       2435.4080   \n",
       "17301  14.228448   1976155686       texet        813.7200   \n",
       "38544  14.228448        28467     philips       3256.1900   \n",
       "2388   14.228448   1855473741   microsoft        814.0867   \n",
       "28440  14.228448        29804     alcatel       3998.5700   \n",
       "9493   14.228448   1869032693     alcatel       6197.2800   \n",
       "33042  14.228448        28645       apple      36257.2300   \n",
       "27144  14.228448   1624283796       apple      49133.1800   \n",
       "\n",
       "       MODEL_COUNT_SALES_DAYS  MODEL_DIAG MODEL_DIAG_TYPE  MODEL_HEIGHT  \\\n",
       "ID                                                                        \n",
       "13449                    16.0         4.7             big        1334.0   \n",
       "28358                     NaN         4.5             big         480.0   \n",
       "3413                      2.0         4.0          medium         480.0   \n",
       "17301                     NaN         1.8           small         128.0   \n",
       "38544                    15.0         4.5             big         540.0   \n",
       "2388                      NaN         1.4           small         128.0   \n",
       "28440                     2.0         5.0             big         480.0   \n",
       "9493                      NaN         5.0             big         540.0   \n",
       "33042                    28.0         4.7             big        1334.0   \n",
       "27144                     NaN         4.7             big        1334.0   \n",
       "\n",
       "       MODEL_ID  MODEL_MEAN_SALES                       MODEL_NAME  \\\n",
       "ID                                                                   \n",
       "13449      2112             5.333                    iphone 6 64gb   \n",
       "28358    170770               NaN            lenovo a2010 dual sim   \n",
       "3413       1613             0.467                  alcatel ot4013d   \n",
       "17301    147914               NaN                     texet tm-101   \n",
       "38544      2659             0.967                     philips s388   \n",
       "2388       2399               NaN                        nokia 105   \n",
       "28440    356990             0.600  alcatel ot5010d pixi 4 dual sim   \n",
       "9493       1631               NaN  alcatel ot6037k idol 2 dual sim   \n",
       "33042      2111             7.600                    iphone 6 16gb   \n",
       "27144      2110               NaN                   iphone 6 128gb   \n",
       "\n",
       "         MODEL_OS MODEL_RES_TYPE   MODEL_TYPE  MODEL_WIDTH  STORE_ASSORTMENT  \\\n",
       "ID                                                                             \n",
       "13449     gsm-ios             hd     смартфон        750.0             113.0   \n",
       "28358     gsm-and            low     смартфон        854.0             175.0   \n",
       "3413      gsm-and            low     смартфон        800.0             117.0   \n",
       "17301  gsm без ос            low  не смартфон        160.0             175.0   \n",
       "38544     gsm-and            low     смартфон        960.0             124.0   \n",
       "2388   gsm без ос            low  не смартфон        128.0               NaN   \n",
       "28440     gsm-and            low     смартфон        864.0             114.0   \n",
       "9493      gsm-and            low     смартфон        960.0              99.0   \n",
       "33042     gsm-ios             hd     смартфон        750.0             139.0   \n",
       "27144     gsm-ios             hd     смартфон        750.0             181.0   \n",
       "\n",
       "      STORE_BRAND_ABC  STORE_BRAND_SPECTR   STORE_BUILDING_TYPE  \\\n",
       "ID                                                                \n",
       "13449               A                0.56  капитальное строение   \n",
       "28358               A                0.75        торговый центр   \n",
       "3413                A                0.95              павильон   \n",
       "17301               A                0.97        торговый центр   \n",
       "38544               A                0.74  капитальное строение   \n",
       "2388              NaN                 NaN        торговый центр   \n",
       "28440               A                0.81  капитальное строение   \n",
       "9493                A                0.71              павильон   \n",
       "33042               A                0.54  капитальное строение   \n",
       "27144               A                0.77        торговый центр   \n",
       "\n",
       "              STORE_CITY STORE_CLUSTER STORE_DIAG_ABC  STORE_DIAG_SPECTR  \\\n",
       "ID                                                                         \n",
       "13449           казань г          u2m3              A               0.59   \n",
       "28358  санкт-петербург г          тест              A               0.79   \n",
       "3413   санкт-петербург г          u3m3              A               0.83   \n",
       "17301           якутск г          тест              A               1.04   \n",
       "38544  санкт-петербург г          u4m4              A               0.77   \n",
       "2388   санкт-петербург г          u1m2            NaN                NaN   \n",
       "28440           казань г       unknown              A               0.53   \n",
       "9493   санкт-петербург г          u2m2              B               0.66   \n",
       "33042  санкт-петербург г          u4m4              A               0.50   \n",
       "27144            бугры п          u4m4              A               0.67   \n",
       "\n",
       "       STORE_FORMAT   STORE_OPEN_DTTM  \\\n",
       "ID                                      \n",
       "13449  новый формат  29APR09:00:00:00   \n",
       "28358  новый формат  06AUG14:00:00:00   \n",
       "3413       стандарт  23OCT09:00:00:00   \n",
       "17301  новый формат  27JAN16:00:00:00   \n",
       "38544      стандарт  19NOV09:00:00:00   \n",
       "2388   новый формат  25JUN15:00:00:00   \n",
       "28440    эконом-new  01JAN10:00:00:00   \n",
       "9493   новый формат  20JUL15:00:00:00   \n",
       "33042      стандарт  21OCT09:00:00:00   \n",
       "27144  новый формат  14MAR14:00:00:00   \n",
       "\n",
       "                                    STORE_PRICE_TYPE    STORE_REGION  \\\n",
       "ID                                                                     \n",
       "13449       розничная цена (поволжье-казань под днс)        поволжье   \n",
       "28358  розничная цена (северо-запад-санкт-петербург)    северо-запад   \n",
       "3413   розничная цена (северо-запад-санкт-петербург)    северо-запад   \n",
       "17301         розничная цена (дальний восток-якутск)  дальний восток   \n",
       "38544  розничная цена (северо-запад-санкт-петербург)    северо-запад   \n",
       "2388          розничная цена (северо-запад-боровичи)    северо-запад   \n",
       "28440       розничная цена (поволжье-казань под днс)        поволжье   \n",
       "9493   розничная цена (северо-запад-санкт-петербург)    северо-запад   \n",
       "33042  розничная цена (северо-запад-санкт-петербург)    северо-запад   \n",
       "27144  розничная цена (северо-запад-санкт-петербург)    северо-запад   \n",
       "\n",
       "      STORE_RES_ABC  STORE_RES_SPECTR  STORE_TYPE_A  STORE_TYPE_B  \\\n",
       "ID                                                                  \n",
       "13449             A              0.64          0.50          0.50   \n",
       "28358             A              0.85          1.00          0.00   \n",
       "3413              A              0.76          0.75          0.00   \n",
       "17301             A              0.96          1.00          0.00   \n",
       "38544             A              0.84          1.00          0.00   \n",
       "2388            NaN               NaN          0.00          0.00   \n",
       "28440             A              0.47          1.00          0.00   \n",
       "9493              B              0.77          0.25          0.75   \n",
       "33042             A              0.48          0.75          0.00   \n",
       "27144             A              0.63          1.00          0.00   \n",
       "\n",
       "       STORE_TYPE_C  STORE_TYPE_SPECTR  \n",
       "ID                                      \n",
       "13449          0.00               2.51  \n",
       "28358          0.00               3.12  \n",
       "3413           0.25               2.60  \n",
       "17301          0.00               3.88  \n",
       "38544          0.00               3.05  \n",
       "2388           0.00               0.00  \n",
       "28440          0.00               2.30  \n",
       "9493           0.00               2.77  \n",
       "33042          0.00               2.29  \n",
       "27144          0.00               2.77  "
      ]
     },
     "execution_count": 6,
     "metadata": {},
     "output_type": "execute_result"
    }
   ],
   "source": [
    "data.sort([\"DEMAND\"], ascending=False).head(10)"
   ]
  },
  {
   "cell_type": "code",
   "execution_count": 7,
   "metadata": {
    "collapsed": false
   },
   "outputs": [
    {
     "data": {
      "image/png": "[encoded data removed]",
      "text/plain": [
       "<matplotlib.figure.Figure at 0x10df50208>"
      ]
     },
     "metadata": {},
     "output_type": "display_data"
    }
   ],
   "source": [
    "plt.hist(data[\"DEMAND\"].values, bins=50, log=True)\n",
    "plt.show()"
   ]
  },
  {
   "cell_type": "code",
   "execution_count": 8,
   "metadata": {
    "collapsed": false
   },
   "outputs": [
    {
     "data": {
      "text/plain": [
       "<seaborn.axisgrid.PairGrid at 0x11318aac8>"
      ]
     },
     "execution_count": 8,
     "metadata": {},
     "output_type": "execute_result"
    },
    {
     "data": {
      "image/png": "[encoded data removed]",
      "text/plain": [
       "<matplotlib.figure.Figure at 0x11318a898>"
      ]
     },
     "metadata": {},
     "output_type": "display_data"
    }
   ],
   "source": [
    "sns.pairplot(data[[\"DEMAND\", \"MODEL_COST_AVG\", \"MODEL_DIAG\"]].dropna(), size=4.5)"
   ]
  },
  {
   "cell_type": "markdown",
   "metadata": {},
   "source": [
    "Дата открытия в не очень хорошем формате, распарсим ее"
   ]
  },
  {
   "cell_type": "code",
   "execution_count": 9,
   "metadata": {
    "collapsed": true
   },
   "outputs": [],
   "source": [
    "def parse_date(s):\n",
    "    date = s.split(\":\")[0]\n",
    "    return parser.parse(\"{} {} {}\".format(date[:2], date[2:5], date[5:]))\n",
    "\n",
    "data[\"STORE_OPEN_DTTM\"] = data[\"STORE_OPEN_DTTM\"].apply(parse_date)"
   ]
  },
  {
   "cell_type": "code",
   "execution_count": 10,
   "metadata": {
    "collapsed": false
   },
   "outputs": [],
   "source": [
    "def get_days_from_now(dt):\n",
    "    return (datetime.now() - dt).days\n",
    "\n",
    "data[\"STORE_OPEN_DAYS\"] = data[\"STORE_OPEN_DTTM\"].apply(get_days_from_now)"
   ]
  },
  {
   "cell_type": "markdown",
   "metadata": {},
   "source": [
    "Распарсим также STORE_CLUSTER"
   ]
  },
  {
   "cell_type": "code",
   "execution_count": 11,
   "metadata": {
    "collapsed": true
   },
   "outputs": [],
   "source": [
    "def parse_cluster_m(s):\n",
    "    try:\n",
    "        return float(s.split(\"m\")[1])\n",
    "    except:\n",
    "        return None\n",
    "    \n",
    "def parse_cluster_u(s):\n",
    "    try:\n",
    "        return float(s.split(\"m\")[0].split(\"u\")[1])\n",
    "    except:\n",
    "        return None\n",
    "\n",
    "data[\"STORE_CLUSTER_M\"] = data[\"STORE_CLUSTER\"].apply(parse_cluster_m)\n",
    "data[\"STORE_CLUSTER_U\"] = data[\"STORE_CLUSTER\"].apply(parse_cluster_u)"
   ]
  },
  {
   "cell_type": "code",
   "execution_count": 12,
   "metadata": {
    "collapsed": false
   },
   "outputs": [
    {
     "data": {
      "text/html": [
       "<div>\n",
       "<table border=\"1\" class=\"dataframe\">\n",
       "  <thead>\n",
       "    <tr style=\"text-align: right;\">\n",
       "      <th></th>\n",
       "      <th>DEMAND</th>\n",
       "      <th>LOCATION_ID</th>\n",
       "      <th>MODEL_BRAND</th>\n",
       "      <th>MODEL_COST_AVG</th>\n",
       "      <th>MODEL_COUNT_SALES_DAYS</th>\n",
       "      <th>MODEL_DIAG</th>\n",
       "      <th>MODEL_DIAG_TYPE</th>\n",
       "      <th>MODEL_HEIGHT</th>\n",
       "      <th>MODEL_ID</th>\n",
       "      <th>MODEL_MEAN_SALES</th>\n",
       "      <th>MODEL_NAME</th>\n",
       "      <th>MODEL_OS</th>\n",
       "      <th>MODEL_RES_TYPE</th>\n",
       "      <th>MODEL_TYPE</th>\n",
       "      <th>MODEL_WIDTH</th>\n",
       "      <th>STORE_ASSORTMENT</th>\n",
       "      <th>STORE_BRAND_ABC</th>\n",
       "      <th>STORE_BRAND_SPECTR</th>\n",
       "      <th>STORE_BUILDING_TYPE</th>\n",
       "      <th>STORE_CITY</th>\n",
       "      <th>STORE_CLUSTER</th>\n",
       "      <th>STORE_DIAG_ABC</th>\n",
       "      <th>STORE_DIAG_SPECTR</th>\n",
       "      <th>STORE_FORMAT</th>\n",
       "      <th>STORE_OPEN_DTTM</th>\n",
       "      <th>STORE_PRICE_TYPE</th>\n",
       "      <th>STORE_REGION</th>\n",
       "      <th>STORE_RES_ABC</th>\n",
       "      <th>STORE_RES_SPECTR</th>\n",
       "      <th>STORE_TYPE_A</th>\n",
       "      <th>STORE_TYPE_B</th>\n",
       "      <th>STORE_TYPE_C</th>\n",
       "      <th>STORE_TYPE_SPECTR</th>\n",
       "      <th>STORE_OPEN_DAYS</th>\n",
       "      <th>STORE_CLUSTER_M</th>\n",
       "      <th>STORE_CLUSTER_U</th>\n",
       "    </tr>\n",
       "    <tr>\n",
       "      <th>ID</th>\n",
       "      <th></th>\n",
       "      <th></th>\n",
       "      <th></th>\n",
       "      <th></th>\n",
       "      <th></th>\n",
       "      <th></th>\n",
       "      <th></th>\n",
       "      <th></th>\n",
       "      <th></th>\n",
       "      <th></th>\n",
       "      <th></th>\n",
       "      <th></th>\n",
       "      <th></th>\n",
       "      <th></th>\n",
       "      <th></th>\n",
       "      <th></th>\n",
       "      <th></th>\n",
       "      <th></th>\n",
       "      <th></th>\n",
       "      <th></th>\n",
       "      <th></th>\n",
       "      <th></th>\n",
       "      <th></th>\n",
       "      <th></th>\n",
       "      <th></th>\n",
       "      <th></th>\n",
       "      <th></th>\n",
       "      <th></th>\n",
       "      <th></th>\n",
       "      <th></th>\n",
       "      <th></th>\n",
       "      <th></th>\n",
       "      <th></th>\n",
       "      <th></th>\n",
       "      <th></th>\n",
       "      <th></th>\n",
       "    </tr>\n",
       "  </thead>\n",
       "  <tbody>\n",
       "    <tr>\n",
       "      <th>0</th>\n",
       "      <td>0.105360</td>\n",
       "      <td>1835543262</td>\n",
       "      <td>ark</td>\n",
       "      <td>5179.7500</td>\n",
       "      <td>NaN</td>\n",
       "      <td>5.5</td>\n",
       "      <td>big</td>\n",
       "      <td>720.0</td>\n",
       "      <td>1682</td>\n",
       "      <td>NaN</td>\n",
       "      <td>ark benefit m7</td>\n",
       "      <td>gsm-and</td>\n",
       "      <td>hd</td>\n",
       "      <td>смартфон</td>\n",
       "      <td>1280.0</td>\n",
       "      <td>136.0</td>\n",
       "      <td>A</td>\n",
       "      <td>0.76</td>\n",
       "      <td>торговый центр</td>\n",
       "      <td>санкт-петербург г</td>\n",
       "      <td>u3m3</td>\n",
       "      <td>A</td>\n",
       "      <td>0.78</td>\n",
       "      <td>новый формат</td>\n",
       "      <td>2015-05-19</td>\n",
       "      <td>розничная цена (северо-запад-санкт-петербург)</td>\n",
       "      <td>северо-запад</td>\n",
       "      <td>B</td>\n",
       "      <td>0.67</td>\n",
       "      <td>0.75</td>\n",
       "      <td>0.25</td>\n",
       "      <td>0.0</td>\n",
       "      <td>3.06</td>\n",
       "      <td>558</td>\n",
       "      <td>3.0</td>\n",
       "      <td>3.0</td>\n",
       "    </tr>\n",
       "    <tr>\n",
       "      <th>1</th>\n",
       "      <td>0.000100</td>\n",
       "      <td>1972241965</td>\n",
       "      <td>samsung</td>\n",
       "      <td>22015.3300</td>\n",
       "      <td>NaN</td>\n",
       "      <td>5.2</td>\n",
       "      <td>big</td>\n",
       "      <td>1920.0</td>\n",
       "      <td>34706</td>\n",
       "      <td>NaN</td>\n",
       "      <td>samsung a510 galaxy a5 (2016 edition)</td>\n",
       "      <td>gsm-and</td>\n",
       "      <td>hd</td>\n",
       "      <td>смартфон</td>\n",
       "      <td>1080.0</td>\n",
       "      <td>70.0</td>\n",
       "      <td>B</td>\n",
       "      <td>0.73</td>\n",
       "      <td>павильон</td>\n",
       "      <td>санкт-петербург г</td>\n",
       "      <td>u1m2</td>\n",
       "      <td>B</td>\n",
       "      <td>0.65</td>\n",
       "      <td>новый формат</td>\n",
       "      <td>2016-01-20</td>\n",
       "      <td>розничная цена (северо-запад-днс1)</td>\n",
       "      <td>северо-запад</td>\n",
       "      <td>C</td>\n",
       "      <td>0.48</td>\n",
       "      <td>0.00</td>\n",
       "      <td>1.00</td>\n",
       "      <td>0.0</td>\n",
       "      <td>2.51</td>\n",
       "      <td>312</td>\n",
       "      <td>2.0</td>\n",
       "      <td>1.0</td>\n",
       "    </tr>\n",
       "    <tr>\n",
       "      <th>2</th>\n",
       "      <td>0.000100</td>\n",
       "      <td>2027986985</td>\n",
       "      <td>samsung</td>\n",
       "      <td>15592.5900</td>\n",
       "      <td>NaN</td>\n",
       "      <td>5.0</td>\n",
       "      <td>big</td>\n",
       "      <td>1280.0</td>\n",
       "      <td>2753</td>\n",
       "      <td>NaN</td>\n",
       "      <td>samsung a5</td>\n",
       "      <td>gsm-and</td>\n",
       "      <td>hd</td>\n",
       "      <td>смартфон</td>\n",
       "      <td>1280.0</td>\n",
       "      <td>106.0</td>\n",
       "      <td>A</td>\n",
       "      <td>0.89</td>\n",
       "      <td>капитальное строение</td>\n",
       "      <td>якутск г</td>\n",
       "      <td>тест</td>\n",
       "      <td>A</td>\n",
       "      <td>0.67</td>\n",
       "      <td>новый формат</td>\n",
       "      <td>2016-04-27</td>\n",
       "      <td>розничная цена (дальний восток-якутск)</td>\n",
       "      <td>дальний восток</td>\n",
       "      <td>A</td>\n",
       "      <td>0.64</td>\n",
       "      <td>1.00</td>\n",
       "      <td>0.00</td>\n",
       "      <td>0.0</td>\n",
       "      <td>2.72</td>\n",
       "      <td>214</td>\n",
       "      <td>NaN</td>\n",
       "      <td>NaN</td>\n",
       "    </tr>\n",
       "    <tr>\n",
       "      <th>3</th>\n",
       "      <td>0.000100</td>\n",
       "      <td>28432</td>\n",
       "      <td>alcatel</td>\n",
       "      <td>540.9533</td>\n",
       "      <td>29.0</td>\n",
       "      <td>1.8</td>\n",
       "      <td>small</td>\n",
       "      <td>128.0</td>\n",
       "      <td>1593</td>\n",
       "      <td>7.533</td>\n",
       "      <td>alcatel ot1042d</td>\n",
       "      <td>gsm без ос</td>\n",
       "      <td>low</td>\n",
       "      <td>не смартфон</td>\n",
       "      <td>160.0</td>\n",
       "      <td>132.0</td>\n",
       "      <td>B</td>\n",
       "      <td>0.67</td>\n",
       "      <td>капитальное строение</td>\n",
       "      <td>ломоносов г</td>\n",
       "      <td>u3m3</td>\n",
       "      <td>B</td>\n",
       "      <td>0.60</td>\n",
       "      <td>стандарт</td>\n",
       "      <td>2009-10-21</td>\n",
       "      <td>розничная цена (северо-запад-боровичи)</td>\n",
       "      <td>северо-запад</td>\n",
       "      <td>B</td>\n",
       "      <td>0.65</td>\n",
       "      <td>0.50</td>\n",
       "      <td>0.25</td>\n",
       "      <td>0.0</td>\n",
       "      <td>2.04</td>\n",
       "      <td>2594</td>\n",
       "      <td>3.0</td>\n",
       "      <td>3.0</td>\n",
       "    </tr>\n",
       "    <tr>\n",
       "      <th>4</th>\n",
       "      <td>0.000100</td>\n",
       "      <td>28547</td>\n",
       "      <td>мтс</td>\n",
       "      <td>444.7300</td>\n",
       "      <td>30.0</td>\n",
       "      <td>4.0</td>\n",
       "      <td>medium</td>\n",
       "      <td>480.0</td>\n",
       "      <td>80644</td>\n",
       "      <td>16.830</td>\n",
       "      <td>мтс smart start 2 dual sim lock</td>\n",
       "      <td>gsm-and</td>\n",
       "      <td>low</td>\n",
       "      <td>смартфон</td>\n",
       "      <td>800.0</td>\n",
       "      <td>95.0</td>\n",
       "      <td>A</td>\n",
       "      <td>1.00</td>\n",
       "      <td>павильон</td>\n",
       "      <td>санкт-петербург г</td>\n",
       "      <td>unknown</td>\n",
       "      <td>A</td>\n",
       "      <td>0.71</td>\n",
       "      <td>стандарт</td>\n",
       "      <td>2009-05-20</td>\n",
       "      <td>розничная цена (северо-запад-санкт-петербург)</td>\n",
       "      <td>северо-запад</td>\n",
       "      <td>A</td>\n",
       "      <td>0.83</td>\n",
       "      <td>0.75</td>\n",
       "      <td>0.25</td>\n",
       "      <td>0.0</td>\n",
       "      <td>2.37</td>\n",
       "      <td>2748</td>\n",
       "      <td>NaN</td>\n",
       "      <td>NaN</td>\n",
       "    </tr>\n",
       "    <tr>\n",
       "      <th>5</th>\n",
       "      <td>0.000100</td>\n",
       "      <td>183773</td>\n",
       "      <td>alcatel</td>\n",
       "      <td>1681.5950</td>\n",
       "      <td>30.0</td>\n",
       "      <td>4.0</td>\n",
       "      <td>medium</td>\n",
       "      <td>480.0</td>\n",
       "      <td>1616</td>\n",
       "      <td>26.300</td>\n",
       "      <td>alcatel ot4032d pop c2</td>\n",
       "      <td>gsm-and</td>\n",
       "      <td>low</td>\n",
       "      <td>смартфон</td>\n",
       "      <td>800.0</td>\n",
       "      <td>116.0</td>\n",
       "      <td>B</td>\n",
       "      <td>0.52</td>\n",
       "      <td>капитальное строение</td>\n",
       "      <td>нерюнгри г</td>\n",
       "      <td>u3m4</td>\n",
       "      <td>A</td>\n",
       "      <td>0.71</td>\n",
       "      <td>эконом-new</td>\n",
       "      <td>2011-06-14</td>\n",
       "      <td>розничная цена (дальний восток-якутск)</td>\n",
       "      <td>дальний восток</td>\n",
       "      <td>A</td>\n",
       "      <td>0.67</td>\n",
       "      <td>0.50</td>\n",
       "      <td>0.25</td>\n",
       "      <td>0.0</td>\n",
       "      <td>1.91</td>\n",
       "      <td>1993</td>\n",
       "      <td>4.0</td>\n",
       "      <td>3.0</td>\n",
       "    </tr>\n",
       "    <tr>\n",
       "      <th>6</th>\n",
       "      <td>0.036368</td>\n",
       "      <td>1876723290</td>\n",
       "      <td>samsung</td>\n",
       "      <td>38130.2200</td>\n",
       "      <td>NaN</td>\n",
       "      <td>5.5</td>\n",
       "      <td>big</td>\n",
       "      <td>2560.0</td>\n",
       "      <td>168722</td>\n",
       "      <td>NaN</td>\n",
       "      <td>samsung g935 galaxy s7 edge 32gb lte</td>\n",
       "      <td>gsm-and</td>\n",
       "      <td>hd</td>\n",
       "      <td>смартфон</td>\n",
       "      <td>1440.0</td>\n",
       "      <td>87.0</td>\n",
       "      <td>A</td>\n",
       "      <td>0.89</td>\n",
       "      <td>капитальное строение</td>\n",
       "      <td>ленск г</td>\n",
       "      <td>u2m3</td>\n",
       "      <td>A</td>\n",
       "      <td>0.73</td>\n",
       "      <td>новый формат</td>\n",
       "      <td>2015-08-05</td>\n",
       "      <td>розничная цена (дальний восток-якутск)</td>\n",
       "      <td>дальний восток</td>\n",
       "      <td>A</td>\n",
       "      <td>0.68</td>\n",
       "      <td>1.00</td>\n",
       "      <td>0.00</td>\n",
       "      <td>0.0</td>\n",
       "      <td>3.00</td>\n",
       "      <td>480</td>\n",
       "      <td>3.0</td>\n",
       "      <td>2.0</td>\n",
       "    </tr>\n",
       "    <tr>\n",
       "      <th>7</th>\n",
       "      <td>0.081096</td>\n",
       "      <td>1272996680</td>\n",
       "      <td>ark</td>\n",
       "      <td>3546.1150</td>\n",
       "      <td>NaN</td>\n",
       "      <td>5.0</td>\n",
       "      <td>big</td>\n",
       "      <td>480.0</td>\n",
       "      <td>1680</td>\n",
       "      <td>NaN</td>\n",
       "      <td>ark benefit m5 plus dual</td>\n",
       "      <td>gsm-and</td>\n",
       "      <td>low</td>\n",
       "      <td>смартфон</td>\n",
       "      <td>854.0</td>\n",
       "      <td>153.0</td>\n",
       "      <td>A</td>\n",
       "      <td>0.76</td>\n",
       "      <td>торговый центр</td>\n",
       "      <td>санкт-петербург г</td>\n",
       "      <td>u4m4</td>\n",
       "      <td>A</td>\n",
       "      <td>0.70</td>\n",
       "      <td>эконом-new</td>\n",
       "      <td>2013-02-26</td>\n",
       "      <td>розничная цена (северо-запад-санкт-петербург)</td>\n",
       "      <td>северо-запад</td>\n",
       "      <td>A</td>\n",
       "      <td>0.94</td>\n",
       "      <td>1.00</td>\n",
       "      <td>0.00</td>\n",
       "      <td>0.0</td>\n",
       "      <td>2.99</td>\n",
       "      <td>1370</td>\n",
       "      <td>4.0</td>\n",
       "      <td>4.0</td>\n",
       "    </tr>\n",
       "    <tr>\n",
       "      <th>8</th>\n",
       "      <td>0.000100</td>\n",
       "      <td>488028688</td>\n",
       "      <td>alcatel</td>\n",
       "      <td>1511.1900</td>\n",
       "      <td>NaN</td>\n",
       "      <td>2.4</td>\n",
       "      <td>medium</td>\n",
       "      <td>240.0</td>\n",
       "      <td>1598</td>\n",
       "      <td>NaN</td>\n",
       "      <td>alcatel ot2004g (без кредла)</td>\n",
       "      <td>gsm без ос</td>\n",
       "      <td>low</td>\n",
       "      <td>не смартфон</td>\n",
       "      <td>320.0</td>\n",
       "      <td>187.0</td>\n",
       "      <td>A</td>\n",
       "      <td>0.53</td>\n",
       "      <td>торговый центр</td>\n",
       "      <td>санкт-петербург г</td>\n",
       "      <td>u4m4</td>\n",
       "      <td>A</td>\n",
       "      <td>0.56</td>\n",
       "      <td>новый формат</td>\n",
       "      <td>2012-05-12</td>\n",
       "      <td>розничная цена (северо-запад-санкт-петербург)</td>\n",
       "      <td>северо-запад</td>\n",
       "      <td>A</td>\n",
       "      <td>0.66</td>\n",
       "      <td>1.00</td>\n",
       "      <td>0.00</td>\n",
       "      <td>0.0</td>\n",
       "      <td>2.91</td>\n",
       "      <td>1660</td>\n",
       "      <td>4.0</td>\n",
       "      <td>4.0</td>\n",
       "    </tr>\n",
       "    <tr>\n",
       "      <th>9</th>\n",
       "      <td>0.037740</td>\n",
       "      <td>28467</td>\n",
       "      <td>ark</td>\n",
       "      <td>1668.7900</td>\n",
       "      <td>10.0</td>\n",
       "      <td>4.0</td>\n",
       "      <td>medium</td>\n",
       "      <td>480.0</td>\n",
       "      <td>1676</td>\n",
       "      <td>1.000</td>\n",
       "      <td>ark benefit m2c</td>\n",
       "      <td>gsm-and</td>\n",
       "      <td>low</td>\n",
       "      <td>смартфон</td>\n",
       "      <td>800.0</td>\n",
       "      <td>134.0</td>\n",
       "      <td>A</td>\n",
       "      <td>0.76</td>\n",
       "      <td>капитальное строение</td>\n",
       "      <td>санкт-петербург г</td>\n",
       "      <td>u4m4</td>\n",
       "      <td>A</td>\n",
       "      <td>0.94</td>\n",
       "      <td>стандарт</td>\n",
       "      <td>2009-11-19</td>\n",
       "      <td>розничная цена (северо-запад-санкт-петербург)</td>\n",
       "      <td>северо-запад</td>\n",
       "      <td>A</td>\n",
       "      <td>0.82</td>\n",
       "      <td>1.00</td>\n",
       "      <td>0.00</td>\n",
       "      <td>0.0</td>\n",
       "      <td>3.26</td>\n",
       "      <td>2565</td>\n",
       "      <td>4.0</td>\n",
       "      <td>4.0</td>\n",
       "    </tr>\n",
       "  </tbody>\n",
       "</table>\n",
       "</div>"
      ],
      "text/plain": [
       "      DEMAND  LOCATION_ID MODEL_BRAND  MODEL_COST_AVG  MODEL_COUNT_SALES_DAYS  \\\n",
       "ID                                                                              \n",
       "0   0.105360   1835543262         ark       5179.7500                     NaN   \n",
       "1   0.000100   1972241965     samsung      22015.3300                     NaN   \n",
       "2   0.000100   2027986985     samsung      15592.5900                     NaN   \n",
       "3   0.000100        28432     alcatel        540.9533                    29.0   \n",
       "4   0.000100        28547         мтс        444.7300                    30.0   \n",
       "5   0.000100       183773     alcatel       1681.5950                    30.0   \n",
       "6   0.036368   1876723290     samsung      38130.2200                     NaN   \n",
       "7   0.081096   1272996680         ark       3546.1150                     NaN   \n",
       "8   0.000100    488028688     alcatel       1511.1900                     NaN   \n",
       "9   0.037740        28467         ark       1668.7900                    10.0   \n",
       "\n",
       "    MODEL_DIAG MODEL_DIAG_TYPE  MODEL_HEIGHT  MODEL_ID  MODEL_MEAN_SALES  \\\n",
       "ID                                                                         \n",
       "0          5.5             big         720.0      1682               NaN   \n",
       "1          5.2             big        1920.0     34706               NaN   \n",
       "2          5.0             big        1280.0      2753               NaN   \n",
       "3          1.8           small         128.0      1593             7.533   \n",
       "4          4.0          medium         480.0     80644            16.830   \n",
       "5          4.0          medium         480.0      1616            26.300   \n",
       "6          5.5             big        2560.0    168722               NaN   \n",
       "7          5.0             big         480.0      1680               NaN   \n",
       "8          2.4          medium         240.0      1598               NaN   \n",
       "9          4.0          medium         480.0      1676             1.000   \n",
       "\n",
       "                               MODEL_NAME    MODEL_OS MODEL_RES_TYPE  \\\n",
       "ID                                                                     \n",
       "0                          ark benefit m7     gsm-and             hd   \n",
       "1   samsung a510 galaxy a5 (2016 edition)     gsm-and             hd   \n",
       "2                              samsung a5     gsm-and             hd   \n",
       "3                         alcatel ot1042d  gsm без ос            low   \n",
       "4         мтс smart start 2 dual sim lock     gsm-and            low   \n",
       "5                  alcatel ot4032d pop c2     gsm-and            low   \n",
       "6    samsung g935 galaxy s7 edge 32gb lte     gsm-and             hd   \n",
       "7                ark benefit m5 plus dual     gsm-and            low   \n",
       "8            alcatel ot2004g (без кредла)  gsm без ос            low   \n",
       "9                         ark benefit m2c     gsm-and            low   \n",
       "\n",
       "     MODEL_TYPE  MODEL_WIDTH  STORE_ASSORTMENT STORE_BRAND_ABC  \\\n",
       "ID                                                               \n",
       "0      смартфон       1280.0             136.0               A   \n",
       "1      смартфон       1080.0              70.0               B   \n",
       "2      смартфон       1280.0             106.0               A   \n",
       "3   не смартфон        160.0             132.0               B   \n",
       "4      смартфон        800.0              95.0               A   \n",
       "5      смартфон        800.0             116.0               B   \n",
       "6      смартфон       1440.0              87.0               A   \n",
       "7      смартфон        854.0             153.0               A   \n",
       "8   не смартфон        320.0             187.0               A   \n",
       "9      смартфон        800.0             134.0               A   \n",
       "\n",
       "    STORE_BRAND_SPECTR   STORE_BUILDING_TYPE         STORE_CITY STORE_CLUSTER  \\\n",
       "ID                                                                              \n",
       "0                 0.76        торговый центр  санкт-петербург г          u3m3   \n",
       "1                 0.73              павильон  санкт-петербург г          u1m2   \n",
       "2                 0.89  капитальное строение           якутск г          тест   \n",
       "3                 0.67  капитальное строение        ломоносов г          u3m3   \n",
       "4                 1.00              павильон  санкт-петербург г       unknown   \n",
       "5                 0.52  капитальное строение         нерюнгри г          u3m4   \n",
       "6                 0.89  капитальное строение            ленск г          u2m3   \n",
       "7                 0.76        торговый центр  санкт-петербург г          u4m4   \n",
       "8                 0.53        торговый центр  санкт-петербург г          u4m4   \n",
       "9                 0.76  капитальное строение  санкт-петербург г          u4m4   \n",
       "\n",
       "   STORE_DIAG_ABC  STORE_DIAG_SPECTR  STORE_FORMAT STORE_OPEN_DTTM  \\\n",
       "ID                                                                   \n",
       "0               A               0.78  новый формат      2015-05-19   \n",
       "1               B               0.65  новый формат      2016-01-20   \n",
       "2               A               0.67  новый формат      2016-04-27   \n",
       "3               B               0.60      стандарт      2009-10-21   \n",
       "4               A               0.71      стандарт      2009-05-20   \n",
       "5               A               0.71    эконом-new      2011-06-14   \n",
       "6               A               0.73  новый формат      2015-08-05   \n",
       "7               A               0.70    эконом-new      2013-02-26   \n",
       "8               A               0.56  новый формат      2012-05-12   \n",
       "9               A               0.94      стандарт      2009-11-19   \n",
       "\n",
       "                                 STORE_PRICE_TYPE    STORE_REGION  \\\n",
       "ID                                                                  \n",
       "0   розничная цена (северо-запад-санкт-петербург)    северо-запад   \n",
       "1              розничная цена (северо-запад-днс1)    северо-запад   \n",
       "2          розничная цена (дальний восток-якутск)  дальний восток   \n",
       "3          розничная цена (северо-запад-боровичи)    северо-запад   \n",
       "4   розничная цена (северо-запад-санкт-петербург)    северо-запад   \n",
       "5          розничная цена (дальний восток-якутск)  дальний восток   \n",
       "6          розничная цена (дальний восток-якутск)  дальний восток   \n",
       "7   розничная цена (северо-запад-санкт-петербург)    северо-запад   \n",
       "8   розничная цена (северо-запад-санкт-петербург)    северо-запад   \n",
       "9   розничная цена (северо-запад-санкт-петербург)    северо-запад   \n",
       "\n",
       "   STORE_RES_ABC  STORE_RES_SPECTR  STORE_TYPE_A  STORE_TYPE_B  STORE_TYPE_C  \\\n",
       "ID                                                                             \n",
       "0              B              0.67          0.75          0.25           0.0   \n",
       "1              C              0.48          0.00          1.00           0.0   \n",
       "2              A              0.64          1.00          0.00           0.0   \n",
       "3              B              0.65          0.50          0.25           0.0   \n",
       "4              A              0.83          0.75          0.25           0.0   \n",
       "5              A              0.67          0.50          0.25           0.0   \n",
       "6              A              0.68          1.00          0.00           0.0   \n",
       "7              A              0.94          1.00          0.00           0.0   \n",
       "8              A              0.66          1.00          0.00           0.0   \n",
       "9              A              0.82          1.00          0.00           0.0   \n",
       "\n",
       "    STORE_TYPE_SPECTR  STORE_OPEN_DAYS  STORE_CLUSTER_M  STORE_CLUSTER_U  \n",
       "ID                                                                        \n",
       "0                3.06              558              3.0              3.0  \n",
       "1                2.51              312              2.0              1.0  \n",
       "2                2.72              214              NaN              NaN  \n",
       "3                2.04             2594              3.0              3.0  \n",
       "4                2.37             2748              NaN              NaN  \n",
       "5                1.91             1993              4.0              3.0  \n",
       "6                3.00              480              3.0              2.0  \n",
       "7                2.99             1370              4.0              4.0  \n",
       "8                2.91             1660              4.0              4.0  \n",
       "9                3.26             2565              4.0              4.0  "
      ]
     },
     "execution_count": 12,
     "metadata": {},
     "output_type": "execute_result"
    }
   ],
   "source": [
    "data.head(10)"
   ]
  },
  {
   "cell_type": "markdown",
   "metadata": {},
   "source": [
    "### Категориальные признаки\n",
    "#### 1. Какие категориальные признаки следует использовать в первую очередь? \n",
    " \n",
    " BRAND, STORE_CLUSTER (но надо распарсить и превратить в числовой, как я и сделал), *_ABC признаки\n",
    " \n",
    " Может также пригодится STORE_OPEN_DTTM, но его надо превратить в числовой (количество дней, в течении которых был открыт магазин). Это тоже сделано сверху\n",
    "\n",
    "#### 2. Есть ли категориальные признаки, которые в принципе не понятно, как использовать?\n",
    " \n",
    " MODEL_NAME, MODEL_ID, LOCATION_ID"
   ]
  },
  {
   "cell_type": "code",
   "execution_count": 13,
   "metadata": {
    "collapsed": false
   },
   "outputs": [
    {
     "data": {
      "text/plain": [
       "Index(['LOCATION_ID', 'MODEL_BRAND', 'MODEL_DIAG_TYPE', 'MODEL_ID',\n",
       "       'MODEL_NAME', 'MODEL_OS', 'MODEL_RES_TYPE', 'MODEL_TYPE',\n",
       "       'STORE_BRAND_ABC', 'STORE_BUILDING_TYPE', 'STORE_CITY', 'STORE_CLUSTER',\n",
       "       'STORE_DIAG_ABC', 'STORE_FORMAT', 'STORE_PRICE_TYPE', 'STORE_REGION',\n",
       "       'STORE_RES_ABC'],\n",
       "      dtype='object')"
      ]
     },
     "execution_count": 13,
     "metadata": {},
     "output_type": "execute_result"
    }
   ],
   "source": [
    "# Определяем категориальные признаки\n",
    "# По понятным причинам 'LOCATION_ID', 'MODEL_ID' считаются числовыми признаками - их добавляем руками отдельно\n",
    "Categorical_columns = (data.columns[([isinstance(z, str) for z in data.ix[0]])] |\n",
    "                       data.columns[data.columns == \"LOCATION_ID\"] |\n",
    "                       data.columns[data.columns == \"MODEL_ID\"])\n",
    "Categorical_columns"
   ]
  },
  {
   "cell_type": "code",
   "execution_count": 14,
   "metadata": {
    "collapsed": false
   },
   "outputs": [
    {
     "name": "stdout",
     "output_type": "stream",
     "text": [
      "Количество уникальных категориальных значений: [1408]\n",
      "Удаляем признаки с номерами: \n",
      "                     NoUniqueValues\n",
      "MODEL_ID                        447\n",
      "MODEL_NAME                      447\n",
      "LOCATION_ID                     362\n",
      "STORE_CITY                       36\n",
      "MODEL_BRAND                      33\n",
      "STORE_CLUSTER                    23\n",
      "STORE_PRICE_TYPE                 20\n",
      "STORE_FORMAT                     10\n",
      "STORE_REGION                      5\n",
      "MODEL_OS                          5\n",
      "STORE_DIAG_ABC                    3\n",
      "STORE_BRAND_ABC                   3\n",
      "STORE_BUILDING_TYPE               3\n",
      "MODEL_RES_TYPE                    3\n",
      "MODEL_DIAG_TYPE                   3\n",
      "STORE_RES_ABC                     3\n",
      "MODEL_TYPE                        2\n"
     ]
    }
   ],
   "source": [
    "# Количество уникальных значений в категориальных признаках\n",
    "dist_val = pd.DataFrame({'NoUniqueValues': [data[z].nunique() for z in Categorical_columns]}, index = Categorical_columns)\n",
    "\n",
    "print('Количество уникальных категориальных значений: '+ str(dist_val.sum().values))\n",
    "print('Удаляем признаки с номерами: \\n'+ str(dist_val.ix[dist_val['NoUniqueValues']>0].sort_values(by='NoUniqueValues', ascending=False)))"
   ]
  },
  {
   "cell_type": "code",
   "execution_count": 15,
   "metadata": {
    "collapsed": false
   },
   "outputs": [],
   "source": [
    "# Запоминаем те категориальные признаки, с которыми будем далее работать (используется далее)\n",
    "\n",
    "Categorical_columns_use = Categorical_columns[list(set(range(len(Categorical_columns))) - {0, 3, 4, 11})]"
   ]
  },
  {
   "cell_type": "code",
   "execution_count": 16,
   "metadata": {
    "collapsed": false
   },
   "outputs": [
    {
     "name": "stdout",
     "output_type": "stream",
     "text": [
      "Количество уникальных категориальных значений: [129]\n",
      "Удаляем признаки с номерами: \n",
      "                     NoUniqueValues\n",
      "STORE_CITY                       36\n",
      "MODEL_BRAND                      33\n",
      "STORE_PRICE_TYPE                 20\n",
      "STORE_FORMAT                     10\n",
      "MODEL_OS                          5\n",
      "STORE_REGION                      5\n",
      "MODEL_DIAG_TYPE                   3\n",
      "MODEL_RES_TYPE                    3\n",
      "STORE_BRAND_ABC                   3\n",
      "STORE_BUILDING_TYPE               3\n",
      "STORE_DIAG_ABC                    3\n",
      "STORE_RES_ABC                     3\n",
      "MODEL_TYPE                        2\n"
     ]
    }
   ],
   "source": [
    "# Количество уникальных значений в категориальных признаках\n",
    "dist_val = pd.DataFrame({'NoUniqueValues': [data[z].nunique() for z in Categorical_columns_use]}, index = Categorical_columns_use)\n",
    "\n",
    "print('Количество уникальных категориальных значений: '+ str(dist_val.sum().values))\n",
    "print('Удаляем признаки с номерами: \\n'+ str(dist_val.ix[dist_val['NoUniqueValues']>0].sort_values(by='NoUniqueValues', ascending=False)))"
   ]
  },
  {
   "cell_type": "markdown",
   "metadata": {},
   "source": [
    "### Числовые признаки\n",
    "#### 1. Какие числовые признаки следует использовать в первую очередь? \n",
    "\n",
    "MODEL_COST_AVG, *_SPECT, STORE_CLUSTER_M, STORE_CLUSTER_U\n",
    "\n",
    "#### 2. Есть ли числовые признаки, которые в принципе не понятно, как использовать?\n",
    "\n",
    "Нет таких\n",
    "\n",
    "#### 3. Как заполнять NaN?\n",
    "\n",
    "Для разных значений по разному"
   ]
  },
  {
   "cell_type": "code",
   "execution_count": 17,
   "metadata": {
    "collapsed": false
   },
   "outputs": [
    {
     "data": {
      "text/plain": [
       "Index(['DEMAND', 'MODEL_COST_AVG', 'MODEL_COUNT_SALES_DAYS', 'MODEL_DIAG',\n",
       "       'MODEL_HEIGHT', 'MODEL_MEAN_SALES', 'MODEL_WIDTH', 'STORE_ASSORTMENT',\n",
       "       'STORE_BRAND_SPECTR', 'STORE_DIAG_SPECTR', 'STORE_RES_SPECTR',\n",
       "       'STORE_TYPE_A', 'STORE_TYPE_B', 'STORE_TYPE_C', 'STORE_TYPE_SPECTR',\n",
       "       'STORE_OPEN_DAYS', 'STORE_CLUSTER_M', 'STORE_CLUSTER_U'],\n",
       "      dtype='object')"
      ]
     },
     "execution_count": 17,
     "metadata": {},
     "output_type": "execute_result"
    }
   ],
   "source": [
    "# Выделяем числовой датасет: В данном случае удаляем все + MODEL_ID и LOCATION_ID\n",
    "num_data = data.drop(Categorical_columns | data.columns[[1,8,24]], axis = 1)\n",
    "num_data.columns"
   ]
  },
  {
   "cell_type": "code",
   "execution_count": 18,
   "metadata": {
    "collapsed": false
   },
   "outputs": [
    {
     "name": "stdout",
     "output_type": "stream",
     "text": [
      "Количество NaN:\n"
     ]
    },
    {
     "data": {
      "text/plain": [
       "DEMAND                        0\n",
       "MODEL_COST_AVG                0\n",
       "MODEL_COUNT_SALES_DAYS    18917\n",
       "MODEL_DIAG                  212\n",
       "MODEL_HEIGHT                212\n",
       "MODEL_MEAN_SALES          18917\n",
       "MODEL_WIDTH                 212\n",
       "STORE_ASSORTMENT            235\n",
       "STORE_BRAND_SPECTR          235\n",
       "STORE_DIAG_SPECTR           442\n",
       "STORE_RES_SPECTR            446\n",
       "STORE_TYPE_A                  0\n",
       "STORE_TYPE_B                  0\n",
       "STORE_TYPE_C                  0\n",
       "STORE_TYPE_SPECTR             0\n",
       "STORE_OPEN_DAYS               0\n",
       "STORE_CLUSTER_M            9824\n",
       "STORE_CLUSTER_U            9824\n",
       "dtype: int64"
      ]
     },
     "execution_count": 18,
     "metadata": {},
     "output_type": "execute_result"
    }
   ],
   "source": [
    "# Количество NaN в числовых признаках\n",
    "print('Количество NaN:')\n",
    "nan_val = num_data.isnull().sum().T\n",
    "nan_val\n",
    "# print('Удаляем признаки с номерами: \\n'+ str(nan_val.sort_values(by='NoUniqueValues', ascending=False)))"
   ]
  },
  {
   "cell_type": "markdown",
   "metadata": {},
   "source": [
    "##### Преобразовываем числовые признаки (удаляем/добавляем/заменяем nan)"
   ]
  },
  {
   "cell_type": "code",
   "execution_count": 19,
   "metadata": {
    "collapsed": false
   },
   "outputs": [],
   "source": [
    "# Здесь добавьте код по заполнению NaN\n",
    "num_data = num_data.fillna(num_data.mean())"
   ]
  },
  {
   "cell_type": "code",
   "execution_count": 20,
   "metadata": {
    "collapsed": false
   },
   "outputs": [
    {
     "data": {
      "text/html": [
       "<div>\n",
       "<table border=\"1\" class=\"dataframe\">\n",
       "  <thead>\n",
       "    <tr style=\"text-align: right;\">\n",
       "      <th></th>\n",
       "      <th>DEMAND</th>\n",
       "      <th>MODEL_COST_AVG</th>\n",
       "      <th>MODEL_COUNT_SALES_DAYS</th>\n",
       "      <th>MODEL_DIAG</th>\n",
       "      <th>MODEL_HEIGHT</th>\n",
       "      <th>MODEL_MEAN_SALES</th>\n",
       "      <th>MODEL_WIDTH</th>\n",
       "      <th>STORE_ASSORTMENT</th>\n",
       "      <th>STORE_BRAND_SPECTR</th>\n",
       "      <th>STORE_DIAG_SPECTR</th>\n",
       "      <th>STORE_RES_SPECTR</th>\n",
       "      <th>STORE_TYPE_A</th>\n",
       "      <th>STORE_TYPE_B</th>\n",
       "      <th>STORE_TYPE_C</th>\n",
       "      <th>STORE_TYPE_SPECTR</th>\n",
       "      <th>STORE_OPEN_DAYS</th>\n",
       "      <th>STORE_CLUSTER_M</th>\n",
       "      <th>STORE_CLUSTER_U</th>\n",
       "    </tr>\n",
       "    <tr>\n",
       "      <th>ID</th>\n",
       "      <th></th>\n",
       "      <th></th>\n",
       "      <th></th>\n",
       "      <th></th>\n",
       "      <th></th>\n",
       "      <th></th>\n",
       "      <th></th>\n",
       "      <th></th>\n",
       "      <th></th>\n",
       "      <th></th>\n",
       "      <th></th>\n",
       "      <th></th>\n",
       "      <th></th>\n",
       "      <th></th>\n",
       "      <th></th>\n",
       "      <th></th>\n",
       "      <th></th>\n",
       "      <th></th>\n",
       "    </tr>\n",
       "  </thead>\n",
       "  <tbody>\n",
       "    <tr>\n",
       "      <th>0</th>\n",
       "      <td>0.10536</td>\n",
       "      <td>5179.7500</td>\n",
       "      <td>19.589764</td>\n",
       "      <td>5.5</td>\n",
       "      <td>720.0</td>\n",
       "      <td>6.144029</td>\n",
       "      <td>1280.0</td>\n",
       "      <td>136.0</td>\n",
       "      <td>0.76</td>\n",
       "      <td>0.78</td>\n",
       "      <td>0.67</td>\n",
       "      <td>0.75</td>\n",
       "      <td>0.25</td>\n",
       "      <td>0.0</td>\n",
       "      <td>3.06</td>\n",
       "      <td>558</td>\n",
       "      <td>3.000000</td>\n",
       "      <td>3.000000</td>\n",
       "    </tr>\n",
       "    <tr>\n",
       "      <th>1</th>\n",
       "      <td>0.00010</td>\n",
       "      <td>22015.3300</td>\n",
       "      <td>19.589764</td>\n",
       "      <td>5.2</td>\n",
       "      <td>1920.0</td>\n",
       "      <td>6.144029</td>\n",
       "      <td>1080.0</td>\n",
       "      <td>70.0</td>\n",
       "      <td>0.73</td>\n",
       "      <td>0.65</td>\n",
       "      <td>0.48</td>\n",
       "      <td>0.00</td>\n",
       "      <td>1.00</td>\n",
       "      <td>0.0</td>\n",
       "      <td>2.51</td>\n",
       "      <td>312</td>\n",
       "      <td>2.000000</td>\n",
       "      <td>1.000000</td>\n",
       "    </tr>\n",
       "    <tr>\n",
       "      <th>2</th>\n",
       "      <td>0.00010</td>\n",
       "      <td>15592.5900</td>\n",
       "      <td>19.589764</td>\n",
       "      <td>5.0</td>\n",
       "      <td>1280.0</td>\n",
       "      <td>6.144029</td>\n",
       "      <td>1280.0</td>\n",
       "      <td>106.0</td>\n",
       "      <td>0.89</td>\n",
       "      <td>0.67</td>\n",
       "      <td>0.64</td>\n",
       "      <td>1.00</td>\n",
       "      <td>0.00</td>\n",
       "      <td>0.0</td>\n",
       "      <td>2.72</td>\n",
       "      <td>214</td>\n",
       "      <td>2.984491</td>\n",
       "      <td>2.816808</td>\n",
       "    </tr>\n",
       "    <tr>\n",
       "      <th>3</th>\n",
       "      <td>0.00010</td>\n",
       "      <td>540.9533</td>\n",
       "      <td>29.000000</td>\n",
       "      <td>1.8</td>\n",
       "      <td>128.0</td>\n",
       "      <td>7.533000</td>\n",
       "      <td>160.0</td>\n",
       "      <td>132.0</td>\n",
       "      <td>0.67</td>\n",
       "      <td>0.60</td>\n",
       "      <td>0.65</td>\n",
       "      <td>0.50</td>\n",
       "      <td>0.25</td>\n",
       "      <td>0.0</td>\n",
       "      <td>2.04</td>\n",
       "      <td>2594</td>\n",
       "      <td>3.000000</td>\n",
       "      <td>3.000000</td>\n",
       "    </tr>\n",
       "    <tr>\n",
       "      <th>4</th>\n",
       "      <td>0.00010</td>\n",
       "      <td>444.7300</td>\n",
       "      <td>30.000000</td>\n",
       "      <td>4.0</td>\n",
       "      <td>480.0</td>\n",
       "      <td>16.830000</td>\n",
       "      <td>800.0</td>\n",
       "      <td>95.0</td>\n",
       "      <td>1.00</td>\n",
       "      <td>0.71</td>\n",
       "      <td>0.83</td>\n",
       "      <td>0.75</td>\n",
       "      <td>0.25</td>\n",
       "      <td>0.0</td>\n",
       "      <td>2.37</td>\n",
       "      <td>2748</td>\n",
       "      <td>2.984491</td>\n",
       "      <td>2.816808</td>\n",
       "    </tr>\n",
       "  </tbody>\n",
       "</table>\n",
       "</div>"
      ],
      "text/plain": [
       "     DEMAND  MODEL_COST_AVG  MODEL_COUNT_SALES_DAYS  MODEL_DIAG  MODEL_HEIGHT  \\\n",
       "ID                                                                              \n",
       "0   0.10536       5179.7500               19.589764         5.5         720.0   \n",
       "1   0.00010      22015.3300               19.589764         5.2        1920.0   \n",
       "2   0.00010      15592.5900               19.589764         5.0        1280.0   \n",
       "3   0.00010        540.9533               29.000000         1.8         128.0   \n",
       "4   0.00010        444.7300               30.000000         4.0         480.0   \n",
       "\n",
       "    MODEL_MEAN_SALES  MODEL_WIDTH  STORE_ASSORTMENT  STORE_BRAND_SPECTR  \\\n",
       "ID                                                                        \n",
       "0           6.144029       1280.0             136.0                0.76   \n",
       "1           6.144029       1080.0              70.0                0.73   \n",
       "2           6.144029       1280.0             106.0                0.89   \n",
       "3           7.533000        160.0             132.0                0.67   \n",
       "4          16.830000        800.0              95.0                1.00   \n",
       "\n",
       "    STORE_DIAG_SPECTR  STORE_RES_SPECTR  STORE_TYPE_A  STORE_TYPE_B  \\\n",
       "ID                                                                    \n",
       "0                0.78              0.67          0.75          0.25   \n",
       "1                0.65              0.48          0.00          1.00   \n",
       "2                0.67              0.64          1.00          0.00   \n",
       "3                0.60              0.65          0.50          0.25   \n",
       "4                0.71              0.83          0.75          0.25   \n",
       "\n",
       "    STORE_TYPE_C  STORE_TYPE_SPECTR  STORE_OPEN_DAYS  STORE_CLUSTER_M  \\\n",
       "ID                                                                      \n",
       "0            0.0               3.06              558         3.000000   \n",
       "1            0.0               2.51              312         2.000000   \n",
       "2            0.0               2.72              214         2.984491   \n",
       "3            0.0               2.04             2594         3.000000   \n",
       "4            0.0               2.37             2748         2.984491   \n",
       "\n",
       "    STORE_CLUSTER_U  \n",
       "ID                   \n",
       "0          3.000000  \n",
       "1          1.000000  \n",
       "2          2.816808  \n",
       "3          3.000000  \n",
       "4          2.816808  "
      ]
     },
     "execution_count": 20,
     "metadata": {},
     "output_type": "execute_result"
    }
   ],
   "source": [
    "num_data.head()"
   ]
  },
  {
   "cell_type": "markdown",
   "metadata": {},
   "source": [
    "## Предсказание без категориальных признаков (1 балл)\n",
    "### Вспомогательные функции"
   ]
  },
  {
   "cell_type": "code",
   "execution_count": 21,
   "metadata": {
    "collapsed": true
   },
   "outputs": [],
   "source": [
    "def smape_loss_func(x, y):\n",
    "    SymAPE = [ 2*np.abs(x-y)/(np.abs(x)+np.abs(y))] \n",
    "    return np.mean(SymAPE)\n",
    "\n",
    "def get_numerated_data(df, categorical_columns):\n",
    "    simple_df = deepcopy(df)\n",
    "    for column in categorical_columns:\n",
    "        simple_df[column] = pd.Categorical.from_array(simple_df[column]).labels\n",
    "    \n",
    "    return simple_df\n",
    "\n",
    "def get_binarized_data(df, categorical_columns):\n",
    "    binary_df = deepcopy(df)\n",
    "    for column in categorical_columns:\n",
    "        binary_df = pd.concat([binary_df, pd.get_dummies(binary_df[column], prefix=column, prefix_sep=': ')], axis=1)\n",
    "        del binary_df[column]\n",
    "    \n",
    "    return binary_df\n",
    "\n",
    "def split_to_numpy(df, y_column_name):\n",
    "    #print df\n",
    "    #print y_column_name\n",
    "    data_x = df.drop(y_column_name, axis=1).values.astype(np.float32)\n",
    "    data_y = df[y_column_name].values.astype(np.float32)\n",
    "    column_names = df.drop(y_column_name, axis=1).columns\n",
    "    \n",
    "    return data_x, data_y, column_names\n",
    "\n",
    "def split_train_test(df, test_size=0.5, random_state=42, y_column_name='y'):\n",
    "    X = np.asarray(df.drop(y_column_name, axis=1))\n",
    "    y = np.asarray(df[y_column_name]).ravel()\n",
    "    trainX, testX, trainY, testY = cross_validation.train_test_split(X, y, test_size=test_size, random_state=42)\n",
    "    return trainX, testX, trainY, testY"
   ]
  },
  {
   "cell_type": "markdown",
   "metadata": {},
   "source": [
    "### Необходимые функции"
   ]
  },
  {
   "cell_type": "code",
   "execution_count": 22,
   "metadata": {
    "collapsed": false
   },
   "outputs": [],
   "source": [
    "def show_plot(n_est, res, title=\"\", ylabel=\"acc\"):\n",
    "    fig, ax = plt.subplots()\n",
    "    ax.plot(n_est, [res[x][1] for x in n_est], 'ro')\n",
    "#     ax.set_xlim((np.min(n_est) - 10, np.max(n_est) + 10))\n",
    "#     plt.xlabel(\"n_estimators\")\n",
    "#     plt.ylabel(ylabel)\n",
    "#     plt.title(\"Test result\")\n",
    "#     plt.show()\n",
    "    \n",
    "#     fig, ax = plt.subplots()\n",
    "    ax.plot(n_est, [res[x][0] for x in n_est], 'bo')\n",
    "    ax.set_xlim((np.min(n_est) - 10, np.max(n_est) + 10))\n",
    "    plt.xlabel(\"n_estimators\")\n",
    "    plt.ylabel(\"acc\")\n",
    "    plt.title(title)\n",
    "    plt.show()\n",
    "\n",
    "def get_results_dummy_reg(acc=smape_loss_func, verbose=True, strg ='mean', const=None):\n",
    "    results = dict()\n",
    "    reg = DummyRegressor(strategy=strg, constant=const)\n",
    "    reg.fit(trainX, trainY)\n",
    "    predict = reg.predict(testX)\n",
    "    results[1] = (acc(trainY, reg.predict(trainX)), acc(testY, predict))\n",
    "    if verbose:\n",
    "        print(\"Accuracy: \" + str(results[1][1]))\n",
    "    return results\n",
    "\n",
    "def get_results_baggind_rsm(n_est, max_samples, max_features, acc=smape_loss_func, verbose=True):\n",
    "    results = dict()\n",
    "    for i in n_est:\n",
    "        reg = BaggingRegressor(n_estimators=i,\n",
    "                          max_samples=max_samples, max_features=max_features, random_state=1234, n_jobs=-1, verbose=0)\n",
    "        reg.fit(trainX, trainY)\n",
    "#         results[i] = (mse(reg.predict(trainX), trainY), mse(reg.predict(testX), testY))\n",
    "        predict = reg.predict(testX)\n",
    "        results[i] = (acc(trainY, reg.predict(trainX)), acc(testY, predict))\n",
    "        if verbose:\n",
    "            print(\"Count of estimators: \" + str(i) + \", accuracy: \" + str(results[i][1]))\n",
    "    return results\n",
    "\n",
    "def get_results_rf(n_est, oob=False, verbose=True, acc=smape_loss_func):\n",
    "    results = dict()\n",
    "    for i in n_est:\n",
    "        reg = RandomForestRegressor(n_estimators=i, n_jobs=-1, random_state=1234, verbose=0,\n",
    "                                    oob_score=oob, max_features='sqrt')\n",
    "        reg.fit(trainX, trainY)\n",
    "        predict = reg.predict(testX)\n",
    "        if oob:\n",
    "            results[i] = (reg.oob_score_, acc(predict, testY))\n",
    "        else:\n",
    "            results[i] = (acc(trainY, reg.predict(trainX)), acc(testY,predict))\n",
    "        if verbose:\n",
    "            print(\"Count of estimators: \" + str(i) + \", accuracy: \" + str(results[i][1]))\n",
    "    return results\n",
    "\n",
    "def get_results_erte(n_est, verbose=True,acc=smape_loss_func):\n",
    "    results = dict()\n",
    "    for i in n_est:\n",
    "        reg = ExtraTreesRegressor(n_estimators=i, n_jobs=-1, random_state=12, verbose=0)\n",
    "        reg.fit(trainX, trainY)\n",
    "        predict = reg.predict(testX)\n",
    "        results[i] = (acc(trainY,reg.predict(trainX)), acc(testY, predict))\n",
    "        if verbose:\n",
    "            print(\"Count of estimators: \" + str(i) + \", accuracy: \" + str(results[i][1]))\n",
    "    return results\n",
    "\n",
    "def get_results_gbdt(n_est, verbose=True, init=None, acc=smape_loss_func, min_max_filter=True, max_val=1, min_val=0.001):\n",
    "    results = dict()\n",
    "    for i in n_est:\n",
    "        if init is not None:\n",
    "            reg = GradientBoostingRegressor(n_estimators=i, random_state=1234, verbose=0, init=init)\n",
    "        else:\n",
    "            reg = GradientBoostingRegressor(n_estimators=i, random_state=1234, verbose=0)\n",
    "        reg.fit(trainX, trainY)\n",
    "        predict = reg.predict(testX)\n",
    "        if min_max_filter:\n",
    "            predict = np.minimum(np.maximum(predict, min_val),max_val)\n",
    "        results[i] = (acc(trainY, reg.predict(trainX)), acc(testY, predict))\n",
    "        if verbose:\n",
    "            print(\"Count of estimators: \" + str(i) + \", accuracy: \" + str(results[i][1]))    \n",
    "    return results\n",
    "\n",
    "def get_optimal(results):\n",
    "    results = sorted(results, key=lambda x: x[1])"
   ]
  },
  {
   "cell_type": "markdown",
   "metadata": {},
   "source": [
    "### Делим выборку на обучение и контроль"
   ]
  },
  {
   "cell_type": "code",
   "execution_count": 23,
   "metadata": {
    "collapsed": false
   },
   "outputs": [],
   "source": [
    "trainX, testX, trainY, testY = split_train_test(df = num_data, test_size=0.1,  y_column_name='DEMAND')"
   ]
  },
  {
   "cell_type": "markdown",
   "metadata": {},
   "source": [
    "### DummyRegressor\n",
    "* Самый простой классификатор на числовых признаках используется как база для сравнения"
   ]
  },
  {
   "cell_type": "code",
   "execution_count": 25,
   "metadata": {
    "collapsed": false
   },
   "outputs": [
    {
     "name": "stdout",
     "output_type": "stream",
     "text": [
      "Accuracy: 1.24306344718\n",
      "CPU times: user 2.72 ms, sys: 1.56 ms, total: 4.28 ms\n",
      "Wall time: 3.17 ms\n",
      "Accuracy: 1.81014628129\n",
      "CPU times: user 1.36 ms, sys: 86 µs, total: 1.45 ms\n",
      "Wall time: 1.39 ms\n"
     ]
    }
   ],
   "source": [
    "%time results = get_results_dummy_reg()\n",
    "%time results = get_results_dummy_reg(strg='constant', const=0.001)"
   ]
  },
  {
   "cell_type": "markdown",
   "metadata": {},
   "source": [
    "### Bagging and RSM\n",
    "Диапазон для n_est рекомендуется брать небольшим\n",
    "\n",
    "Если трубется изменять дефолтные параметры алгоритма - меняйте код выше"
   ]
  },
  {
   "cell_type": "markdown",
   "metadata": {},
   "source": [
    "** Каким стоит брать размер bootstrap выборки и RSM выборки ** \n",
    "Например: \n",
    "**Bagging:** 0.5 от размера тестовой выборки.\n",
    "\n",
    "**RSM:** 0.5 от размера тестовой выборки."
   ]
  },
  {
   "cell_type": "code",
   "execution_count": 26,
   "metadata": {
    "collapsed": false
   },
   "outputs": [
    {
     "name": "stdout",
     "output_type": "stream",
     "text": [
      "Count of estimators: 10, accuracy: 1.20668117785\n",
      "Count of estimators: 20, accuracy: 1.21688263785\n",
      "Count of estimators: 30, accuracy: 1.21682600395\n",
      "Count of estimators: 40, accuracy: 1.2155622889\n",
      "Count of estimators: 50, accuracy: 1.21641359762\n",
      "Count of estimators: 60, accuracy: 1.21508753847\n",
      "Count of estimators: 70, accuracy: 1.21508582922\n",
      "Count of estimators: 80, accuracy: 1.21669800301\n",
      "Count of estimators: 90, accuracy: 1.2193231763\n",
      "Count of estimators: 100, accuracy: 1.220526743\n",
      "Count of estimators: 110, accuracy: 1.22131794515\n",
      "Count of estimators: 120, accuracy: 1.22159716776\n",
      "Count of estimators: 130, accuracy: 1.22110055747\n",
      "Count of estimators: 140, accuracy: 1.21940826125\n",
      "CPU times: user 10.5 s, sys: 13.8 s, total: 24.3 s\n",
      "Wall time: 1min 29s\n"
     ]
    },
    {
     "data": {
      "image/png": "[encoded data removed]",
      "text/plain": [
       "<matplotlib.figure.Figure at 0x112602908>"
      ]
     },
     "metadata": {},
     "output_type": "display_data"
    }
   ],
   "source": [
    "n_est = range(10, 150, 10)\n",
    "%time results = get_results_baggind_rsm(n_est, 0.5, 0.5, verbose=True)\n",
    "show_plot(n_est, results)"
   ]
  },
  {
   "cell_type": "markdown",
   "metadata": {},
   "source": [
    "### Random Forest\n",
    "Диапазон для n_est рекомендуется брать небольшим\n",
    "\n",
    "Если трубется изменять дефолтные параметры алгоритма - меняйте код выше"
   ]
  },
  {
   "cell_type": "code",
   "execution_count": 27,
   "metadata": {
    "collapsed": false
   },
   "outputs": [
    {
     "name": "stdout",
     "output_type": "stream",
     "text": [
      "Count of estimators: 10, accuracy: 1.17027413449\n",
      "Count of estimators: 20, accuracy: 1.20489123534\n",
      "Count of estimators: 30, accuracy: 1.21255024867\n",
      "Count of estimators: 40, accuracy: 1.21195197267\n",
      "Count of estimators: 50, accuracy: 1.21525216243\n",
      "Count of estimators: 60, accuracy: 1.21639760383\n",
      "Count of estimators: 70, accuracy: 1.21802103454\n",
      "Count of estimators: 80, accuracy: 1.21819642021\n",
      "Count of estimators: 90, accuracy: 1.21758763572\n",
      "Count of estimators: 100, accuracy: 1.21762584431\n",
      "Count of estimators: 110, accuracy: 1.21773897352\n",
      "Count of estimators: 120, accuracy: 1.21918670313\n",
      "Count of estimators: 130, accuracy: 1.21956850029\n",
      "Count of estimators: 140, accuracy: 1.21937800436\n",
      "CPU times: user 2min 18s, sys: 3.9 s, total: 2min 22s\n",
      "Wall time: 49.8 s\n"
     ]
    },
    {
     "data": {
      "image/png": "[encoded data removed]",
      "text/plain": [
       "<matplotlib.figure.Figure at 0x10bd22128>"
      ]
     },
     "metadata": {},
     "output_type": "display_data"
    }
   ],
   "source": [
    "n_est = range(10, 150, 10)\n",
    "%time results = get_results_rf(n_est)\n",
    "show_plot(n_est, results)"
   ]
  },
  {
   "cell_type": "markdown",
   "metadata": {},
   "source": [
    "### Extremely Randomized Trees Ensemble\n",
    "Диапазон для n_est рекомендуется брать небольшим\n",
    "\n",
    "Если трубется изменять дефолтные параметры алгоритма - меняйте код выше"
   ]
  },
  {
   "cell_type": "code",
   "execution_count": 29,
   "metadata": {
    "collapsed": false
   },
   "outputs": [
    {
     "name": "stdout",
     "output_type": "stream",
     "text": [
      "Count of estimators: 10, accuracy: 1.13236068867\n",
      "Count of estimators: 20, accuracy: 1.18713066229\n",
      "Count of estimators: 30, accuracy: 1.20548137639\n",
      "Count of estimators: 40, accuracy: 1.21023955185\n",
      "Count of estimators: 50, accuracy: 1.21506036298\n",
      "Count of estimators: 60, accuracy: 1.21720422876\n",
      "Count of estimators: 70, accuracy: 1.21892898331\n",
      "Count of estimators: 80, accuracy: 1.21893405717\n",
      "Count of estimators: 90, accuracy: 1.21872528858\n",
      "Count of estimators: 100, accuracy: 1.21884171836\n",
      "Count of estimators: 110, accuracy: 1.21889395111\n",
      "Count of estimators: 120, accuracy: 1.219714543\n",
      "Count of estimators: 130, accuracy: 1.21884010712\n",
      "Count of estimators: 140, accuracy: 1.21977615603\n",
      "CPU times: user 3min 55s, sys: 6.58 s, total: 4min 1s\n",
      "Wall time: 1min 21s\n"
     ]
    },
    {
     "data": {
      "image/png": "[encoded data removed]",
      "text/plain": [
       "<matplotlib.figure.Figure at 0x111e9bd68>"
      ]
     },
     "metadata": {},
     "output_type": "display_data"
    }
   ],
   "source": [
    "n_est = range(10, 150, 10)\n",
    "%time results = get_results_erte(n_est)\n",
    "show_plot(n_est, results)"
   ]
  },
  {
   "cell_type": "markdown",
   "metadata": {},
   "source": [
    "## Gradient Boosted Decision Trees\n",
    "Диапазон для n_est рекомендуется брать небольшим\n",
    "\n",
    "Если трубется изменять дефолтные параметры алгоритма - меняйте код выше"
   ]
  },
  {
   "cell_type": "code",
   "execution_count": 30,
   "metadata": {
    "collapsed": false
   },
   "outputs": [
    {
     "name": "stdout",
     "output_type": "stream",
     "text": [
      "Count of estimators: 10, accuracy: 1.22650916601\n",
      "Count of estimators: 20, accuracy: 1.22188685421\n",
      "Count of estimators: 30, accuracy: 1.22090287291\n",
      "Count of estimators: 40, accuracy: 1.22317275249\n",
      "Count of estimators: 50, accuracy: 1.22217604345\n",
      "Count of estimators: 60, accuracy: 1.2214808491\n",
      "Count of estimators: 70, accuracy: 1.22004060235\n",
      "Count of estimators: 80, accuracy: 1.21745979015\n",
      "Count of estimators: 90, accuracy: 1.21667421569\n",
      "Count of estimators: 100, accuracy: 1.21737941598\n",
      "Count of estimators: 110, accuracy: 1.2173091234\n",
      "Count of estimators: 120, accuracy: 1.21641682882\n",
      "Count of estimators: 130, accuracy: 1.2171793577\n",
      "Count of estimators: 140, accuracy: 1.2169082757\n",
      "CPU times: user 41.5 s, sys: 404 ms, total: 41.9 s\n",
      "Wall time: 42.9 s\n"
     ]
    },
    {
     "data": {
      "image/png": "[encoded data removed]",
      "text/plain": [
       "<matplotlib.figure.Figure at 0x112119048>"
      ]
     },
     "metadata": {},
     "output_type": "display_data"
    }
   ],
   "source": [
    "n_est = range(10, 150, 10)\n",
    "%time results = get_results_gbdt(n_est)\n",
    "show_plot(n_est, results)"
   ]
  },
  {
   "cell_type": "markdown",
   "metadata": {},
   "source": [
    "### Вывод\n",
    "Переобучаются ExtraDT, остальные методы показывают результаты на одном уровне (в пределах погрешности).\n",
    "\n",
    "Для RF и Baggin+RSM оптимальные значения кол-ва близко к 20.\n",
    "\n",
    "Для GBDT оптимальное количество алгоритмов находится в районе 50."
   ]
  },
  {
   "cell_type": "markdown",
   "metadata": {},
   "source": [
    "**Вопрос: Дайте интепретацию полученным результатам в вашем случае.**\n",
    "\n",
    "Все алгоритмы сильно переобучаются, нужно работать над уменьшением разрыва между train и test лоссом, например, добавить регуляризацию, ограничить число деревьев в RandomForest, и т.д."
   ]
  },
  {
   "cell_type": "markdown",
   "metadata": {},
   "source": [
    "## Использование категориальных признаков (1 балл)\n",
    "* Проведите аналогичный экспермент при наличии категориальных признаков"
   ]
  },
  {
   "cell_type": "markdown",
   "metadata": {},
   "source": [
    "### Обучение и Контроль"
   ]
  },
  {
   "cell_type": "code",
   "execution_count": 24,
   "metadata": {
    "collapsed": false
   },
   "outputs": [
    {
     "data": {
      "text/plain": [
       "Index(['LOCATION_ID', 'MODEL_BRAND', 'MODEL_DIAG_TYPE', 'MODEL_ID',\n",
       "       'MODEL_NAME', 'MODEL_OS', 'MODEL_RES_TYPE', 'MODEL_TYPE',\n",
       "       'STORE_BRAND_ABC', 'STORE_BUILDING_TYPE', 'STORE_CITY', 'STORE_CLUSTER',\n",
       "       'STORE_DIAG_ABC', 'STORE_FORMAT', 'STORE_PRICE_TYPE', 'STORE_REGION',\n",
       "       'STORE_RES_ABC'],\n",
       "      dtype='object')"
      ]
     },
     "execution_count": 24,
     "metadata": {},
     "output_type": "execute_result"
    }
   ],
   "source": [
    "Categorical_columns"
   ]
  },
  {
   "cell_type": "code",
   "execution_count": 25,
   "metadata": {
    "collapsed": false
   },
   "outputs": [
    {
     "name": "stdout",
     "output_type": "stream",
     "text": [
      "(40000, 152)\n"
     ]
    }
   ],
   "source": [
    "# Для обучения используются полезные категориальные признаки\n",
    "bin_data = get_binarized_data(data, Categorical_columns_use)\n",
    "print(bin_data.shape)"
   ]
  },
  {
   "cell_type": "markdown",
   "metadata": {},
   "source": [
    "##### Исключаем лишние произнаки, заменяем NaN"
   ]
  },
  {
   "cell_type": "code",
   "execution_count": 26,
   "metadata": {
    "collapsed": false
   },
   "outputs": [],
   "source": [
    "bin_data.drop([\"STORE_OPEN_DTTM\", \"MODEL_ID\", \"LOCATION_ID\", \"MODEL_NAME\", \"STORE_CLUSTER\"], axis=1, inplace=True)"
   ]
  },
  {
   "cell_type": "code",
   "execution_count": 27,
   "metadata": {
    "collapsed": false
   },
   "outputs": [],
   "source": [
    "bin_data = bin_data.fillna(bin_data.mean())"
   ]
  },
  {
   "cell_type": "code",
   "execution_count": 28,
   "metadata": {
    "collapsed": false
   },
   "outputs": [
    {
     "name": "stdout",
     "output_type": "stream",
     "text": [
      "1\n"
     ]
    }
   ],
   "source": [
    "print(1)"
   ]
  },
  {
   "cell_type": "code",
   "execution_count": 29,
   "metadata": {
    "collapsed": false
   },
   "outputs": [],
   "source": [
    "# Делим выборку на обучение и контроль\n",
    "trainX, testX, trainY, testY = split_train_test(df = bin_data, test_size=0.1,  y_column_name='DEMAND')"
   ]
  },
  {
   "cell_type": "markdown",
   "metadata": {},
   "source": [
    "### Bagging and RSM\n",
    "Диапазон для n_est рекомендуется брать небольшим\n",
    "\n",
    "Если трубется изменять дефолтные параметры алгоритма - меняйте код выше"
   ]
  },
  {
   "cell_type": "code",
   "execution_count": 62,
   "metadata": {
    "collapsed": false
   },
   "outputs": [
    {
     "name": "stdout",
     "output_type": "stream",
     "text": [
      "Count of estimators: 1, accuracy: 0.849119909409\n",
      "Count of estimators: 2, accuracy: 0.919146902518\n",
      "Count of estimators: 3, accuracy: 0.985708837983\n",
      "Count of estimators: 5, accuracy: 1.05862932912\n",
      "Count of estimators: 10, accuracy: 1.13022572437\n",
      "Count of estimators: 20, accuracy: 1.1832595791\n",
      "Count of estimators: 30, accuracy: 1.19271650918\n",
      "CPU times: user 6.36 s, sys: 2.05 s, total: 8.42 s\n",
      "Wall time: 45.9 s\n"
     ]
    },
    {
     "data": {
      "image/png": "[encoded data removed]",
      "text/plain": [
       "<matplotlib.figure.Figure at 0x1127c4be0>"
      ]
     },
     "metadata": {},
     "output_type": "display_data"
    }
   ],
   "source": [
    "n_est = [1, 2, 3, 5, 10, 20, 30]\n",
    "%time results = get_results_baggind_rsm(n_est, 0.9, 0.9, verbose=True)\n",
    "show_plot(n_est, results)"
   ]
  },
  {
   "cell_type": "markdown",
   "metadata": {},
   "source": [
    "### Random Forest\n",
    "Диапазон для n_est рекомендуется брать небольшим\n",
    "\n",
    "Если трубется изменять дефолтные параметры алгоритма - меняйте код выше"
   ]
  },
  {
   "cell_type": "code",
   "execution_count": 63,
   "metadata": {
    "collapsed": false
   },
   "outputs": [
    {
     "name": "stdout",
     "output_type": "stream",
     "text": [
      "Count of estimators: 1, accuracy: 0.913481504288\n",
      "Count of estimators: 2, accuracy: 0.99490739095\n",
      "Count of estimators: 3, accuracy: 1.05694184259\n",
      "Count of estimators: 5, accuracy: 1.11287341571\n",
      "Count of estimators: 10, accuracy: 1.18091753471\n",
      "Count of estimators: 20, accuracy: 1.1922309894\n",
      "Count of estimators: 30, accuracy: 1.19432538444\n",
      "CPU times: user 13.7 s, sys: 573 ms, total: 14.3 s\n",
      "Wall time: 7.48 s\n"
     ]
    },
    {
     "data": {
      "image/png": "[encoded data removed]",
      "text/plain": [
       "<matplotlib.figure.Figure at 0x1127a37b8>"
      ]
     },
     "metadata": {},
     "output_type": "display_data"
    }
   ],
   "source": [
    "n_est = [1, 2, 3, 5, 10, 20, 30]\n",
    "%time results = get_results_rf(n_est)\n",
    "show_plot(n_est, results)"
   ]
  },
  {
   "cell_type": "markdown",
   "metadata": {},
   "source": [
    "### Extremely Randomized Trees Ensemble\n",
    "Диапазон для n_est рекомендуется брать небольшим\n",
    "\n",
    "Если трубется изменять дефолтные параметры алгоритма - меняйте код выше"
   ]
  },
  {
   "cell_type": "code",
   "execution_count": 64,
   "metadata": {
    "collapsed": false
   },
   "outputs": [
    {
     "name": "stdout",
     "output_type": "stream",
     "text": [
      "Count of estimators: 1, accuracy: 0.852545385692\n",
      "Count of estimators: 2, accuracy: 0.899428602438\n",
      "Count of estimators: 3, accuracy: 0.944617498103\n",
      "Count of estimators: 5, accuracy: 1.01219186982\n",
      "Count of estimators: 10, accuracy: 1.0800643101\n",
      "Count of estimators: 20, accuracy: 1.12969325673\n",
      "Count of estimators: 30, accuracy: 1.14696237549\n",
      "CPU times: user 2min 13s, sys: 2.15 s, total: 2min 15s\n",
      "Wall time: 1min 7s\n"
     ]
    },
    {
     "data": {
      "image/png": "[encoded data removed]",
      "text/plain": [
       "<matplotlib.figure.Figure at 0x1124a8c18>"
      ]
     },
     "metadata": {},
     "output_type": "display_data"
    }
   ],
   "source": [
    "n_est = [1, 2, 3, 5, 10, 20, 30]\n",
    "%time results = get_results_erte(n_est)\n",
    "show_plot(n_est, results)"
   ]
  },
  {
   "cell_type": "markdown",
   "metadata": {},
   "source": [
    "### Gradient Boosted Decision Trees\n",
    "Диапазон для n_est рекомендуется брать небольшим\n",
    "\n",
    "Если трубется изменять дефолтные параметры алгоритма - меняйте код выше"
   ]
  },
  {
   "cell_type": "code",
   "execution_count": 65,
   "metadata": {
    "collapsed": false
   },
   "outputs": [
    {
     "name": "stdout",
     "output_type": "stream",
     "text": [
      "Count of estimators: 1, accuracy: 1.23802018584\n",
      "Count of estimators: 2, accuracy: 1.23450045742\n",
      "Count of estimators: 3, accuracy: 1.23269832469\n",
      "Count of estimators: 5, accuracy: 1.22897402639\n",
      "Count of estimators: 10, accuracy: 1.22243411688\n",
      "Count of estimators: 20, accuracy: 1.2194966013\n",
      "Count of estimators: 30, accuracy: 1.21546578559\n",
      "CPU times: user 25.3 s, sys: 456 ms, total: 25.7 s\n",
      "Wall time: 27.3 s\n"
     ]
    },
    {
     "data": {
      "image/png": "[encoded data removed]",
      "text/plain": [
       "<matplotlib.figure.Figure at 0x10d05e2b0>"
      ]
     },
     "metadata": {},
     "output_type": "display_data"
    }
   ],
   "source": [
    "n_est = [1, 2, 3, 5, 10, 20, 30]\n",
    "%time results = get_results_gbdt(n_est)\n",
    "show_plot(n_est, results)"
   ]
  },
  {
   "cell_type": "markdown",
   "metadata": {},
   "source": [
    "### Вывод"
   ]
  },
  {
   "cell_type": "markdown",
   "metadata": {},
   "source": [
    "**Вопрос: Дайте интепретацию полученным результатам в вашем случае.**\n",
    "\n",
    "С категориальными признаками модели стали работать лучше, но ансамбли не зажгли -- лучшие результаты получает все равно DecisionTreeRegressor. Видимо, ансамбли лучше подходят для задач классификации, а не регрессии."
   ]
  },
  {
   "cell_type": "markdown",
   "metadata": {},
   "source": [
    "## Другие модели и генерация дополнительных признаков (2 балла)"
   ]
  },
  {
   "cell_type": "markdown",
   "metadata": {},
   "source": [
    "* На основании сделанных выводов, предложите другой вариант алгоритма ML, который должен показать лучший результат\n",
    "* Направляния:\n",
    "    -- использовать принципиально другое семейство алгоритмов (NN, GB+kNN, LinearRegression, композиция Baggin и GBDT)\n",
    "    -- исключить бесполезные фичи из обучающей выборки (полезность фич проанализировать с помощью RF);\n",
    "    -- исключить фичи, в которых есть NaN; сделать восстановление NaN более интеллектуально;\n",
    "    -- преобразовать катеориальные признаки так, чтобы получились числовые."
   ]
  },
  {
   "cell_type": "code",
   "execution_count": 30,
   "metadata": {
    "collapsed": true
   },
   "outputs": [],
   "source": [
    "from sklearn.linear_model import LinearRegression, ElasticNet\n",
    "from sklearn.tree import DecisionTreeRegressor"
   ]
  },
  {
   "cell_type": "markdown",
   "metadata": {},
   "source": [
    "Бейзлайн: DecisionTreeRegressor"
   ]
  },
  {
   "cell_type": "code",
   "execution_count": 58,
   "metadata": {
    "collapsed": false
   },
   "outputs": [
    {
     "name": "stdout",
     "output_type": "stream",
     "text": [
      "Test loss: 0.79046652672977\n",
      "Train loss: 0.00010826395153148765\n"
     ]
    }
   ],
   "source": [
    "reg = DecisionTreeRegressor(max_depth=200)\n",
    "reg.fit(trainX, trainY)\n",
    "print(\"Test loss: {}\".format(smape_loss_func(reg.predict(testX), testY)))\n",
    "print(\"Train loss: {}\".format(smape_loss_func(reg.predict(trainX), trainY)))"
   ]
  },
  {
   "cell_type": "markdown",
   "metadata": {},
   "source": [
    "Попробуем линейную модель:"
   ]
  },
  {
   "cell_type": "code",
   "execution_count": 33,
   "metadata": {
    "collapsed": false
   },
   "outputs": [
    {
     "name": "stderr",
     "output_type": "stream",
     "text": [
      "/Users/astepanov/.virtualenvs/tf/lib/python3.5/site-packages/scipy/linalg/basic.py:884: RuntimeWarning: internal gelsd driver lwork query error, required iwork dimension not returned. This is likely the result of LAPACK bug 0038, fixed in LAPACK 3.2.2 (released July 21, 2010). Falling back to 'gelss' driver.\n",
      "  warnings.warn(mesg, RuntimeWarning)\n"
     ]
    },
    {
     "name": "stdout",
     "output_type": "stream",
     "text": [
      "Test loss: 1.2972762857350952\n",
      "Train loss: 1.3064538421476497\n"
     ]
    }
   ],
   "source": [
    "reg = LinearRegression()\n",
    "reg.fit(trainX, trainY)\n",
    "print(\"Test loss: {}\".format(smape_loss_func(reg.predict(testX), testY)))\n",
    "print(\"Train loss: {}\".format(smape_loss_func(reg.predict(trainX), trainY)))"
   ]
  },
  {
   "cell_type": "markdown",
   "metadata": {},
   "source": [
    "Видим, что тест лосс равен трейн лоссу, значит модель не переобучается. Проверим это еще, добавими резуляризацию:"
   ]
  },
  {
   "cell_type": "code",
   "execution_count": 34,
   "metadata": {
    "collapsed": false
   },
   "outputs": [
    {
     "name": "stdout",
     "output_type": "stream",
     "text": [
      "Test loss: 1.2443426437970233\n",
      "Train loss: 1.2566380781303632\n"
     ]
    }
   ],
   "source": [
    "reg = ElasticNet()\n",
    "reg.fit(trainX, trainY)\n",
    "print(\"Test loss: {}\".format(smape_loss_func(reg.predict(testX), testY)))\n",
    "print(\"Train loss: {}\".format(smape_loss_func(reg.predict(trainX), trainY)))"
   ]
  },
  {
   "cell_type": "markdown",
   "metadata": {},
   "source": [
    "Так и есть. Похоже, линии уровня слишком нелинейны для использования простой линейной регресии. Попробуем SVR с rbf ядром. Но для этого придется оставить только 3000 объектов, чтобы работало быстро"
   ]
  },
  {
   "cell_type": "code",
   "execution_count": 39,
   "metadata": {
    "collapsed": true
   },
   "outputs": [],
   "source": [
    "from sklearn.svm import SVR, LinearSVR"
   ]
  },
  {
   "cell_type": "code",
   "execution_count": 40,
   "metadata": {
    "collapsed": false
   },
   "outputs": [
    {
     "name": "stdout",
     "output_type": "stream",
     "text": [
      "Test loss: 1.2803302924255604\n",
      "Train loss: 1.2901011250434717\n"
     ]
    }
   ],
   "source": [
    "reg = SVR()\n",
    "reg.fit(trainX[:3000], trainY[:3000])\n",
    "print(\"Test loss: {}\".format(smape_loss_func(reg.predict(testX), testY)))\n",
    "print(\"Train loss: {}\".format(smape_loss_func(reg.predict(trainX), trainY)))"
   ]
  },
  {
   "cell_type": "markdown",
   "metadata": {},
   "source": [
    "Попробуем LinearSVR + kernel approximation"
   ]
  },
  {
   "cell_type": "code",
   "execution_count": 43,
   "metadata": {
    "collapsed": true
   },
   "outputs": [],
   "source": [
    "from sklearn.kernel_approximation import RBFSampler, Nystroem"
   ]
  },
  {
   "cell_type": "code",
   "execution_count": 51,
   "metadata": {
    "collapsed": false
   },
   "outputs": [],
   "source": [
    "approximator = Nystroem(n_components=1000)\n",
    "new_train_X = approximator.fit_transform(trainX, trainY)\n",
    "new_test_X = approximator.transform(testX)"
   ]
  },
  {
   "cell_type": "code",
   "execution_count": 52,
   "metadata": {
    "collapsed": false
   },
   "outputs": [
    {
     "name": "stdout",
     "output_type": "stream",
     "text": [
      "Test loss: 1.2842917015252493\n",
      "Train loss: 1.265868824013776\n"
     ]
    }
   ],
   "source": [
    "reg = LinearSVR()\n",
    "reg.fit(new_train_X, trainY)\n",
    "print(\"Test loss: {}\".format(smape_loss_func(reg.predict(new_test_X), testY)))\n",
    "print(\"Train loss: {}\".format(smape_loss_func(reg.predict(new_train_X), trainY)))"
   ]
  },
  {
   "cell_type": "code",
   "execution_count": 53,
   "metadata": {
    "collapsed": false
   },
   "outputs": [],
   "source": [
    "approximator = RBFSampler(n_components=1000)\n",
    "new_train_X = approximator.fit_transform(trainX, trainY)\n",
    "new_test_X = approximator.transform(testX)"
   ]
  },
  {
   "cell_type": "code",
   "execution_count": 54,
   "metadata": {
    "collapsed": false
   },
   "outputs": [
    {
     "name": "stdout",
     "output_type": "stream",
     "text": [
      "Test loss: 1.371411090550799\n",
      "Train loss: 1.348567310168889\n"
     ]
    }
   ],
   "source": [
    "reg = LinearSVR()\n",
    "reg.fit(new_train_X, trainY)\n",
    "print(\"Test loss: {}\".format(smape_loss_func(reg.predict(new_test_X), testY)))\n",
    "print(\"Train loss: {}\".format(smape_loss_func(reg.predict(new_train_X), trainY)))"
   ]
  },
  {
   "cell_type": "markdown",
   "metadata": {
    "collapsed": true
   },
   "source": [
    "Чет тоже не очень. Но Nystroem работает лучше RBFSampler"
   ]
  },
  {
   "cell_type": "markdown",
   "metadata": {},
   "source": [
    "### Вывод"
   ]
  },
  {
   "cell_type": "markdown",
   "metadata": {},
   "source": [
    "## Отправка результатов в контест на Kaggle (оценивается по результатам в Leaderboard)"
   ]
  },
  {
   "cell_type": "code",
   "execution_count": 74,
   "metadata": {
    "collapsed": false
   },
   "outputs": [],
   "source": [
    "test = pd.read_csv('./data/test.csv', sep=';',decimal= '.', index_col='ID')\n",
    "\n",
    "test[\"STORE_OPEN_DTTM\"] = test[\"STORE_OPEN_DTTM\"].apply(parse_date)\n",
    "test[\"STORE_OPEN_DAYS\"] = test[\"STORE_OPEN_DTTM\"].apply(get_days_from_now)\n",
    "test[\"STORE_CLUSTER_M\"] = test[\"STORE_CLUSTER\"].apply(parse_cluster_m)\n",
    "test[\"STORE_CLUSTER_U\"] = test[\"STORE_CLUSTER\"].apply(parse_cluster_u)"
   ]
  },
  {
   "cell_type": "code",
   "execution_count": 75,
   "metadata": {
    "collapsed": true
   },
   "outputs": [],
   "source": [
    "# Предобработка тестовой выборки (добавляем\\удаляем признаки, предобработка NaN и пр.)\n",
    "test_data = get_binarized_data(test, Categorical_columns_use)"
   ]
  },
  {
   "cell_type": "code",
   "execution_count": 76,
   "metadata": {
    "collapsed": false
   },
   "outputs": [],
   "source": [
    "# Все отсутствующие в тестовой выборке столбцы полагаем 0\n",
    "add_columns = bin_data.columns[1:].difference(test_data.columns)\n",
    "test_data = pd.merge(test_data, bin_data.ix[test_data.index][add_columns], how='inner', left_index=True, right_index=True)\n",
    "test_data[add_columns]=0\n",
    "\n",
    "# Оставляем только столбцы обучающей выборки (целевая переменная в обучающей выборке отсутствует)\n",
    "test_data = test_data[bin_data.columns[1:]]\n",
    "\n",
    "test_data = test_data.fillna(bin_data[bin_data.columns[1:]].mean(), inplace=True)"
   ]
  },
  {
   "cell_type": "code",
   "execution_count": 77,
   "metadata": {
    "collapsed": true
   },
   "outputs": [],
   "source": [
    "# Обучающая выборка\n",
    "trainX, _, trainY, _ = split_train_test(df = bin_data, test_size=0,  y_column_name='DEMAND')"
   ]
  },
  {
   "cell_type": "code",
   "execution_count": 78,
   "metadata": {
    "collapsed": false
   },
   "outputs": [
    {
     "data": {
      "text/plain": [
       "DecisionTreeRegressor(criterion='mse', max_depth=None, max_features=None,\n",
       "           max_leaf_nodes=None, min_impurity_split=1e-07,\n",
       "           min_samples_leaf=1, min_samples_split=2,\n",
       "           min_weight_fraction_leaf=0.0, presort=False, random_state=None,\n",
       "           splitter='best')"
      ]
     },
     "execution_count": 78,
     "metadata": {},
     "output_type": "execute_result"
    }
   ],
   "source": [
    "# Обучаем финальный алгоритм\n",
    "final_regressor = DecisionTreeRegressor()\n",
    "final_regressor.fit(trainX, trainY)"
   ]
  },
  {
   "cell_type": "code",
   "execution_count": 79,
   "metadata": {
    "collapsed": false
   },
   "outputs": [],
   "source": [
    "# Предсказание интенсивности\n",
    "test_predict = final_regressor.predict(np.asarray(test_data))"
   ]
  },
  {
   "cell_type": "code",
   "execution_count": 80,
   "metadata": {
    "collapsed": false
   },
   "outputs": [],
   "source": [
    "# Сохраняем в csv-файл\n",
    "test['DEMAND'] = test_predict\n",
    "test[['DEMAND']].to_csv('./data/submission_gbdt.csv', sep = ',', index = True)"
   ]
  },
  {
   "cell_type": "code",
   "execution_count": null,
   "metadata": {
    "collapsed": true
   },
   "outputs": [],
   "source": []
  }
 ],
 "metadata": {
  "anaconda-cloud": {},
  "kernelspec": {
   "display_name": "Python 3",
   "language": "python",
   "name": "python3"
  },
  "language_info": {
   "codemirror_mode": {
    "name": "ipython",
    "version": 3
   },
   "file_extension": ".py",
   "mimetype": "text/x-python",
   "name": "python",
   "nbconvert_exporter": "python",
   "pygments_lexer": "ipython3",
   "version": "3.5.2"
  }
 },
 "nbformat": 4,
 "nbformat_minor": 0
}
