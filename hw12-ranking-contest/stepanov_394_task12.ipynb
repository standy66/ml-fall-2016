{
 "cells": [
  {
   "cell_type": "markdown",
   "metadata": {},
   "source": [
    "### Формат файлов\n",
    "\n",
    "Вам выдается 4 файла:\n",
    "\n",
    "* `train.txt` --- обучающая выборка пар запрос-документ и асессорские метки релевантности\n",
    "* `test.txt` --- тестовая выборка пар запрос-документ\n",
    "* `queries_test.txt` --- запросы из `train.txt`\n",
    "* `queries_train.txt` --- запросы из `test.txt`\n",
    "\n",
    "Колонки в файлах могут быть следующего типа:\n",
    "\n",
    "* `QueryId` --- уникальный номер запроса\n",
    "* `DocumentId` --- номер документа, не повторяется для одного запроса\n",
    "* `DocumentLink` --- url документа\n",
    "* `Relevance` --- асессорская метка релевантности\n",
    "\n",
    "Формат файла ответов приведен ниже. Пары запрос-документ должны соответсвовать файлу `test.txt` и должны быть упорядочены по убыванию построенной функции релевантности. То есть так, как в поисковой выдаче."
   ]
  },
  {
   "cell_type": "raw",
   "metadata": {},
   "source": [
    "QueryId,DocumentId\n",
    "101,5\n",
    "101,0\n",
    "101,9\n",
    "101,13\n",
    "101,17\n",
    "..."
   ]
  },
  {
   "cell_type": "markdown",
   "metadata": {},
   "source": [
    "Качество оценивается с помощью метрики ${NDCG}_{10}$."
   ]
  },
  {
   "cell_type": "markdown",
   "metadata": {},
   "source": [
    "### Смотрим данные"
   ]
  },
  {
   "cell_type": "markdown",
   "metadata": {},
   "source": [
    "Посмотрим на данные"
   ]
  },
  {
   "cell_type": "code",
   "execution_count": 123,
   "metadata": {
    "collapsed": false
   },
   "outputs": [
    {
     "name": "stdout",
     "output_type": "stream",
     "text": [
      "1\tКак заснуть не заглядывая в холодильник и телефон?\n",
      "2\tКак выглядеть интеллигентной когда жрешь из кастрюли руками?\n",
      "3\tКак отпустить препода пораньше с пары?\n",
      "4\tКакие мышцы качаются когда лепишь фрикадельки?\n",
      "5\tКак заставить домового платить коммуналку?\n",
      "101\tПочему нельзя неподошедшего тебе мужика просто аккуратненько вернуть обратно маме?\n",
      "102\tТы никогда не замечал, какие все вокруг оптимисты. когда проблема касается тебя?\n",
      "103\tВ какой момент нужно сказать привет когда навстречу идет знакомый?\n",
      "104\tКто знает, какие успокоительные лекарства принимает медведь в мультике про Машу? мне тоже такие надо.\n",
      "105\tТаджики на уроке физкультуры по команде строимся,по строили новый дом .\n"
     ]
    }
   ],
   "source": [
    "!head -n 5 data/queries_train.txt\n",
    "!head -n 5 data/queries_test.txt"
   ]
  },
  {
   "cell_type": "markdown",
   "metadata": {},
   "source": [
    "Считаем эти данные пандасом"
   ]
  },
  {
   "cell_type": "code",
   "execution_count": 142,
   "metadata": {
    "collapsed": true
   },
   "outputs": [],
   "source": [
    "import pandas as pd\n",
    "from IPython.display import display"
   ]
  },
  {
   "cell_type": "code",
   "execution_count": 143,
   "metadata": {
    "collapsed": false
   },
   "outputs": [
    {
     "name": "stdout",
     "output_type": "stream",
     "text": [
      "Train queries: 100\n",
      "Test queries: 100\n"
     ]
    }
   ],
   "source": [
    "queries_test = pd.read_csv(\"data/queries_test.txt\", sep=\"\\t\", index_col=0, header=None)\n",
    "queries_train = pd.read_csv(\"data/queries_train.txt\", sep=\"\\t\", index_col=0, header=None)\n",
    "queries_test.columns = [\"Query\"]\n",
    "queries_train.columns = [\"Query\"]\n",
    "\n",
    "queries_test[\"QueryId\"] = queries_test.index\n",
    "queries_train[\"QueryId\"] = queries_train.index\n",
    "print(\"Train queries: {}\".format(len(queries_train)))\n",
    "print(\"Test queries: {}\".format(len(queries_test)))"
   ]
  },
  {
   "cell_type": "code",
   "execution_count": 144,
   "metadata": {
    "collapsed": false
   },
   "outputs": [
    {
     "data": {
      "text/html": [
       "<div>\n",
       "<table border=\"1\" class=\"dataframe\">\n",
       "  <thead>\n",
       "    <tr style=\"text-align: right;\">\n",
       "      <th></th>\n",
       "      <th>Query</th>\n",
       "      <th>QueryId</th>\n",
       "    </tr>\n",
       "    <tr>\n",
       "      <th>0</th>\n",
       "      <th></th>\n",
       "      <th></th>\n",
       "    </tr>\n",
       "  </thead>\n",
       "  <tbody>\n",
       "    <tr>\n",
       "      <th>1</th>\n",
       "      <td>Как заснуть не заглядывая в холодильник и теле...</td>\n",
       "      <td>1</td>\n",
       "    </tr>\n",
       "    <tr>\n",
       "      <th>2</th>\n",
       "      <td>Как выглядеть интеллигентной когда жрешь из ка...</td>\n",
       "      <td>2</td>\n",
       "    </tr>\n",
       "    <tr>\n",
       "      <th>3</th>\n",
       "      <td>Как отпустить препода пораньше с пары?</td>\n",
       "      <td>3</td>\n",
       "    </tr>\n",
       "    <tr>\n",
       "      <th>4</th>\n",
       "      <td>Какие мышцы качаются когда лепишь фрикадельки?</td>\n",
       "      <td>4</td>\n",
       "    </tr>\n",
       "    <tr>\n",
       "      <th>5</th>\n",
       "      <td>Как заставить домового платить коммуналку?</td>\n",
       "      <td>5</td>\n",
       "    </tr>\n",
       "  </tbody>\n",
       "</table>\n",
       "</div>"
      ],
      "text/plain": [
       "                                               Query  QueryId\n",
       "0                                                            \n",
       "1  Как заснуть не заглядывая в холодильник и теле...        1\n",
       "2  Как выглядеть интеллигентной когда жрешь из ка...        2\n",
       "3             Как отпустить препода пораньше с пары?        3\n",
       "4     Какие мышцы качаются когда лепишь фрикадельки?        4\n",
       "5         Как заставить домового платить коммуналку?        5"
      ]
     },
     "metadata": {},
     "output_type": "display_data"
    },
    {
     "data": {
      "text/html": [
       "<div>\n",
       "<table border=\"1\" class=\"dataframe\">\n",
       "  <thead>\n",
       "    <tr style=\"text-align: right;\">\n",
       "      <th></th>\n",
       "      <th>Query</th>\n",
       "      <th>QueryId</th>\n",
       "    </tr>\n",
       "    <tr>\n",
       "      <th>0</th>\n",
       "      <th></th>\n",
       "      <th></th>\n",
       "    </tr>\n",
       "  </thead>\n",
       "  <tbody>\n",
       "    <tr>\n",
       "      <th>101</th>\n",
       "      <td>Почему нельзя неподошедшего тебе мужика просто...</td>\n",
       "      <td>101</td>\n",
       "    </tr>\n",
       "    <tr>\n",
       "      <th>102</th>\n",
       "      <td>Ты никогда не замечал, какие все вокруг оптими...</td>\n",
       "      <td>102</td>\n",
       "    </tr>\n",
       "    <tr>\n",
       "      <th>103</th>\n",
       "      <td>В какой момент нужно сказать привет когда навс...</td>\n",
       "      <td>103</td>\n",
       "    </tr>\n",
       "    <tr>\n",
       "      <th>104</th>\n",
       "      <td>Кто знает, какие успокоительные лекарства прин...</td>\n",
       "      <td>104</td>\n",
       "    </tr>\n",
       "    <tr>\n",
       "      <th>105</th>\n",
       "      <td>Таджики на уроке физкультуры по команде строим...</td>\n",
       "      <td>105</td>\n",
       "    </tr>\n",
       "  </tbody>\n",
       "</table>\n",
       "</div>"
      ],
      "text/plain": [
       "                                                 Query  QueryId\n",
       "0                                                              \n",
       "101  Почему нельзя неподошедшего тебе мужика просто...      101\n",
       "102  Ты никогда не замечал, какие все вокруг оптими...      102\n",
       "103  В какой момент нужно сказать привет когда навс...      103\n",
       "104  Кто знает, какие успокоительные лекарства прин...      104\n",
       "105  Таджики на уроке физкультуры по команде строим...      105"
      ]
     },
     "metadata": {},
     "output_type": "display_data"
    }
   ],
   "source": [
    "display(queries_train.head())\n",
    "display(queries_test.head())"
   ]
  },
  {
   "cell_type": "markdown",
   "metadata": {},
   "source": [
    "Теперь смотрим на сами пары (q, d)."
   ]
  },
  {
   "cell_type": "code",
   "execution_count": 145,
   "metadata": {
    "collapsed": false
   },
   "outputs": [
    {
     "name": "stdout",
     "output_type": "stream",
     "text": [
      "Relevance,QueryId,DocumentId,\"DocumentLink\"\n",
      "4,1,0,\"http://otvet.mail.ru/question/195527651/\"\n",
      "4,1,1,\"http://otvet.mail.ru/question/195596044/\"\n",
      "3,1,2,\"http://ask.fm/Liza_1911\"\n",
      "3,1,3,\"https://vk.com/polly_and_viole\"\n",
      "QueryId,DocumentId,\"DocumentLink\"\n",
      "101,0,\"https://vk.com/id377383444\"\n",
      "101,1,\"http://xn----btbgrjageubg1a.xn--p1ai/420-skuchat\"\n",
      "101,2,\"http://jiznenno.ru/vykhod-iz-treugolnika-karpmana/\"\n",
      "101,3,\"http://iknigi.net/avtor-aleksandra-marinina/113760-obratnaya-sila-tom-2-19651982-aleksandra-marinina/read/page-1.html\"\n"
     ]
    }
   ],
   "source": [
    "!head -n 5 data/train.txt\n",
    "!head -n 5 data/test.txt"
   ]
  },
  {
   "cell_type": "markdown",
   "metadata": {},
   "source": [
    "К сожалению, в url может быть запятая, поэтому это надо сначала пофиксить, прежде чем открывтаь пандасом"
   ]
  },
  {
   "cell_type": "code",
   "execution_count": 146,
   "metadata": {
    "collapsed": false
   },
   "outputs": [],
   "source": [
    "def fix_and_open(filename, num_columns):\n",
    "    try:\n",
    "        return pd.read_csv(filename)\n",
    "    except pd.parser.CParserError:\n",
    "        new_lines = []\n",
    "        with open(filename, \"r\") as fin:\n",
    "            for line in fin:\n",
    "                line = line.strip()\n",
    "                tokens = line.split(\",\")\n",
    "                new_line = '{},\"{}\"'.format(\",\".join(tokens[:(num_columns - 1)]), \",\".join(tokens[(num_columns - 1):]))\n",
    "                new_lines.append(new_line)\n",
    "        with open(filename, \"w\") as fout:\n",
    "            fout.write(\"\\n\".join(new_lines))\n",
    "        return pd.read_csv(filename)"
   ]
  },
  {
   "cell_type": "code",
   "execution_count": 147,
   "metadata": {
    "collapsed": false
   },
   "outputs": [
    {
     "name": "stdout",
     "output_type": "stream",
     "text": [
      "Len train: 2269\n",
      "Len test: 2383\n"
     ]
    }
   ],
   "source": [
    "test = fix_and_open(\"data/test.txt\", 3)\n",
    "train = fix_and_open(\"data/train.txt\", 4)\n",
    "print(\"Len train: {}\".format(len(train)))\n",
    "print(\"Len test: {}\".format(len(test)))"
   ]
  },
  {
   "cell_type": "code",
   "execution_count": 38,
   "metadata": {
    "collapsed": true
   },
   "outputs": [],
   "source": [
    "import re\n",
    "\n",
    "\n",
    "def read_link_text(url):\n",
    "    try:\n",
    "        r = urlopen(url, timeout=10)\n",
    "        data = r.read()\n",
    "        try:\n",
    "            content = data.decode(r.headers.get_content_charset())\n",
    "        except:\n",
    "            content = data\n",
    "        soup = BeautifulSoup(content, 'html.parser')\n",
    "        texts = soup.findAll(text=True)\n",
    "        def visible(element):\n",
    "            if element.parent.name in ['style', 'script', '[document]', 'head', 'title']:\n",
    "                return False\n",
    "            elif re.match('<!--.*-->', str(element)):\n",
    "                return False\n",
    "            return True\n",
    "        visible_texts = filter(visible, texts)\n",
    "        return \" \".join(filter(lambda x: x, map(lambda s: s.strip(), visible_texts))).lower()\n",
    "    except Exception as e:\n",
    "        print(e)\n",
    "        return \"\""
   ]
  },
  {
   "cell_type": "code",
   "execution_count": 43,
   "metadata": {
    "collapsed": false,
    "scrolled": false
   },
   "outputs": [
    {
     "name": "stdout",
     "output_type": "stream",
     "text": [
      "<urlopen error [Errno 8] nodename nor servname provided, or not known>\n"
     ]
    },
    {
     "name": "stderr",
     "output_type": "stream",
     "text": [
      "Some characters could not be decoded, and were replaced with REPLACEMENT CHARACTER.\n",
      "Some characters could not be decoded, and were replaced with REPLACEMENT CHARACTER.\n"
     ]
    },
    {
     "name": "stdout",
     "output_type": "stream",
     "text": [
      "HTTP Error 404: Not Found\n"
     ]
    },
    {
     "name": "stderr",
     "output_type": "stream",
     "text": [
      "Some characters could not be decoded, and were replaced with REPLACEMENT CHARACTER.\n"
     ]
    },
    {
     "name": "stdout",
     "output_type": "stream",
     "text": [
      "HTTP Error 404: Not Found\n"
     ]
    },
    {
     "name": "stderr",
     "output_type": "stream",
     "text": [
      "Some characters could not be decoded, and were replaced with REPLACEMENT CHARACTER.\n"
     ]
    },
    {
     "name": "stdout",
     "output_type": "stream",
     "text": [
      "<urlopen error [Errno 8] nodename nor servname provided, or not known>\n"
     ]
    },
    {
     "name": "stderr",
     "output_type": "stream",
     "text": [
      "Some characters could not be decoded, and were replaced with REPLACEMENT CHARACTER.\n"
     ]
    },
    {
     "name": "stdout",
     "output_type": "stream",
     "text": [
      "timed out\n"
     ]
    },
    {
     "name": "stderr",
     "output_type": "stream",
     "text": [
      "Some characters could not be decoded, and were replaced with REPLACEMENT CHARACTER.\n",
      "Some characters could not be decoded, and were replaced with REPLACEMENT CHARACTER.\n"
     ]
    },
    {
     "name": "stdout",
     "output_type": "stream",
     "text": [
      "timed out\n",
      "HTTP Error 404: Not Found\n"
     ]
    },
    {
     "name": "stderr",
     "output_type": "stream",
     "text": [
      "Some characters could not be decoded, and were replaced with REPLACEMENT CHARACTER.\n",
      "Some characters could not be decoded, and were replaced with REPLACEMENT CHARACTER.\n",
      "Some characters could not be decoded, and were replaced with REPLACEMENT CHARACTER.\n",
      "Some characters could not be decoded, and were replaced with REPLACEMENT CHARACTER.\n"
     ]
    },
    {
     "name": "stdout",
     "output_type": "stream",
     "text": [
      "HTTP Error 404: Not Found\n",
      "HTTP Error 404: Not Found\n"
     ]
    },
    {
     "name": "stderr",
     "output_type": "stream",
     "text": [
      "Some characters could not be decoded, and were replaced with REPLACEMENT CHARACTER.\n",
      "Some characters could not be decoded, and were replaced with REPLACEMENT CHARACTER.\n",
      "Some characters could not be decoded, and were replaced with REPLACEMENT CHARACTER.\n",
      "Some characters could not be decoded, and were replaced with REPLACEMENT CHARACTER.\n",
      "Some characters could not be decoded, and were replaced with REPLACEMENT CHARACTER.\n",
      "Some characters could not be decoded, and were replaced with REPLACEMENT CHARACTER.\n",
      "Some characters could not be decoded, and were replaced with REPLACEMENT CHARACTER.\n"
     ]
    },
    {
     "name": "stdout",
     "output_type": "stream",
     "text": [
      "Remote end closed connection without response\n",
      "<urlopen error timed out>\n"
     ]
    },
    {
     "name": "stderr",
     "output_type": "stream",
     "text": [
      "Some characters could not be decoded, and were replaced with REPLACEMENT CHARACTER.\n",
      "Some characters could not be decoded, and were replaced with REPLACEMENT CHARACTER.\n",
      "Some characters could not be decoded, and were replaced with REPLACEMENT CHARACTER.\n"
     ]
    },
    {
     "name": "stdout",
     "output_type": "stream",
     "text": [
      "hostname 'нанофутур.рф' doesn't match either of 'xn--80azbeklgbg.xn--p1ai', 'www.xn--80azbeklgbg.xn--p1ai'\n",
      "<urlopen error [SSL: CERTIFICATE_VERIFY_FAILED] certificate verify failed (_ssl.c:645)>\n"
     ]
    },
    {
     "name": "stderr",
     "output_type": "stream",
     "text": [
      "Some characters could not be decoded, and were replaced with REPLACEMENT CHARACTER.\n"
     ]
    },
    {
     "name": "stdout",
     "output_type": "stream",
     "text": [
      "timed out\n",
      "<urlopen error timed out>\n"
     ]
    },
    {
     "name": "stderr",
     "output_type": "stream",
     "text": [
      "Some characters could not be decoded, and were replaced with REPLACEMENT CHARACTER.\n",
      "Some characters could not be decoded, and were replaced with REPLACEMENT CHARACTER.\n",
      "Some characters could not be decoded, and were replaced with REPLACEMENT CHARACTER.\n"
     ]
    },
    {
     "name": "stdout",
     "output_type": "stream",
     "text": [
      "<urlopen error [Errno 8] nodename nor servname provided, or not known>\n"
     ]
    },
    {
     "name": "stderr",
     "output_type": "stream",
     "text": [
      "Some characters could not be decoded, and were replaced with REPLACEMENT CHARACTER.\n",
      "Some characters could not be decoded, and were replaced with REPLACEMENT CHARACTER.\n"
     ]
    },
    {
     "name": "stdout",
     "output_type": "stream",
     "text": [
      "timed out\n"
     ]
    },
    {
     "name": "stderr",
     "output_type": "stream",
     "text": [
      "Some characters could not be decoded, and were replaced with REPLACEMENT CHARACTER.\n",
      "Some characters could not be decoded, and were replaced with REPLACEMENT CHARACTER.\n",
      "Some characters could not be decoded, and were replaced with REPLACEMENT CHARACTER.\n",
      "Some characters could not be decoded, and were replaced with REPLACEMENT CHARACTER.\n"
     ]
    },
    {
     "name": "stdout",
     "output_type": "stream",
     "text": [
      "HTTP Error 500: Internal Server Error\n"
     ]
    },
    {
     "name": "stderr",
     "output_type": "stream",
     "text": [
      "Some characters could not be decoded, and were replaced with REPLACEMENT CHARACTER.\n",
      "Some characters could not be decoded, and were replaced with REPLACEMENT CHARACTER.\n",
      "Some characters could not be decoded, and were replaced with REPLACEMENT CHARACTER.\n"
     ]
    },
    {
     "name": "stdout",
     "output_type": "stream",
     "text": [
      "HTTP Error 404: Not Found\n"
     ]
    },
    {
     "name": "stderr",
     "output_type": "stream",
     "text": [
      "Some characters could not be decoded, and were replaced with REPLACEMENT CHARACTER.\n",
      "Some characters could not be decoded, and were replaced with REPLACEMENT CHARACTER.\n",
      "Some characters could not be decoded, and were replaced with REPLACEMENT CHARACTER.\n",
      "Some characters could not be decoded, and were replaced with REPLACEMENT CHARACTER.\n",
      "Some characters could not be decoded, and were replaced with REPLACEMENT CHARACTER.\n"
     ]
    },
    {
     "name": "stdout",
     "output_type": "stream",
     "text": [
      "timed out\n"
     ]
    },
    {
     "name": "stderr",
     "output_type": "stream",
     "text": [
      "Some characters could not be decoded, and were replaced with REPLACEMENT CHARACTER.\n"
     ]
    },
    {
     "name": "stdout",
     "output_type": "stream",
     "text": [
      "HTTP Error 403: Forbidden\n",
      "HTTP Error 503: Service Unavailable\n",
      "timed out\n"
     ]
    },
    {
     "name": "stderr",
     "output_type": "stream",
     "text": [
      "Some characters could not be decoded, and were replaced with REPLACEMENT CHARACTER.\n",
      "Some characters could not be decoded, and were replaced with REPLACEMENT CHARACTER.\n",
      "Some characters could not be decoded, and were replaced with REPLACEMENT CHARACTER.\n"
     ]
    },
    {
     "name": "stdout",
     "output_type": "stream",
     "text": [
      "timed out\n",
      "<urlopen error [SSL: CERTIFICATE_VERIFY_FAILED] certificate verify failed (_ssl.c:645)>\n",
      "HTTP Error 403: Forbidden\n",
      "timed out\n",
      "timed out\n",
      "timed out\n",
      "timed out\n",
      "timed out\n",
      "HTTP Error 500: Internal Server Error\n",
      "HTTP Error 503: Service Temporarily Unavailable\n"
     ]
    },
    {
     "name": "stderr",
     "output_type": "stream",
     "text": [
      "Some characters could not be decoded, and were replaced with REPLACEMENT CHARACTER.\n",
      "Some characters could not be decoded, and were replaced with REPLACEMENT CHARACTER.\n",
      "Some characters could not be decoded, and were replaced with REPLACEMENT CHARACTER.\n"
     ]
    },
    {
     "name": "stdout",
     "output_type": "stream",
     "text": [
      "HTTP Error 410: Gone\n",
      "<urlopen error timed out>\n",
      "<urlopen error timed out>\n"
     ]
    },
    {
     "name": "stderr",
     "output_type": "stream",
     "text": [
      "Some characters could not be decoded, and were replaced with REPLACEMENT CHARACTER.\n"
     ]
    },
    {
     "name": "stdout",
     "output_type": "stream",
     "text": [
      "HTTP Error 403: Forbidden\n",
      "Remote end closed connection without response\n",
      "HTTP Error 403: Forbidden\n",
      "HTTP Error 404: NOT FOUND\n"
     ]
    },
    {
     "name": "stderr",
     "output_type": "stream",
     "text": [
      "Some characters could not be decoded, and were replaced with REPLACEMENT CHARACTER.\n",
      "Some characters could not be decoded, and were replaced with REPLACEMENT CHARACTER.\n"
     ]
    },
    {
     "name": "stdout",
     "output_type": "stream",
     "text": [
      "Remote end closed connection without response\n",
      "HTTP Error 404: Not Found\n",
      "timed out\n"
     ]
    },
    {
     "name": "stderr",
     "output_type": "stream",
     "text": [
      "Some characters could not be decoded, and were replaced with REPLACEMENT CHARACTER.\n",
      "Some characters could not be decoded, and were replaced with REPLACEMENT CHARACTER.\n"
     ]
    },
    {
     "name": "stdout",
     "output_type": "stream",
     "text": [
      "Remote end closed connection without response\n"
     ]
    },
    {
     "name": "stderr",
     "output_type": "stream",
     "text": [
      "Some characters could not be decoded, and were replaced with REPLACEMENT CHARACTER.\n",
      "Some characters could not be decoded, and were replaced with REPLACEMENT CHARACTER.\n",
      "Some characters could not be decoded, and were replaced with REPLACEMENT CHARACTER.\n"
     ]
    },
    {
     "name": "stdout",
     "output_type": "stream",
     "text": [
      "Remote end closed connection without response\n",
      "<urlopen error [Errno 60] Operation timed out>\n"
     ]
    }
   ],
   "source": [
    "from multiprocessing.pool import Pool\n",
    "\n",
    "p = Pool(8)\n",
    "test_text = p.map(read_link_text, test[\"DocumentLink\"])\n",
    "p.close()"
   ]
  },
  {
   "cell_type": "code",
   "execution_count": 148,
   "metadata": {
    "collapsed": false
   },
   "outputs": [
    {
     "name": "stdout",
     "output_type": "stream",
     "text": [
      "Nonempty: 2331\n",
      "Total: 2383\n"
     ]
    }
   ],
   "source": [
    "print(\"Nonempty: {}\".format(len(list(filter(lambda x: x, test_text)))))\n",
    "print(\"Total: {}\".format(len(test_text)))"
   ]
  },
  {
   "cell_type": "code",
   "execution_count": 149,
   "metadata": {
    "collapsed": false
   },
   "outputs": [],
   "source": [
    "from collections import defaultdict\n",
    "inv_documents = defaultdict(set)\n",
    "doc_tfidfs = []\n",
    "for doc_id, document in enumerate(test_text):\n",
    "    for word in re.split(\"[^\\w]+\", document):\n",
    "        inv_documents[word].add(doc_id)\n",
    "for doc_id, document in enumerate(test_text):\n",
    "    tfidf = {}\n",
    "    doc_word_count = defaultdict(int)\n",
    "    for word in re.split(\"[^\\w]+\", document):\n",
    "        doc_word_count[word] += 1\n",
    "    for word in doc_word_count.keys():\n",
    "        tf = doc_word_count[word] / len(words)\n",
    "        idf = np.log(1 + len(test_text) / len(inv_documents[word]))\n",
    "        tfidf[word] = tf * idf\n",
    "    doc_tfidfs.append(tfidf)"
   ]
  },
  {
   "cell_type": "code",
   "execution_count": 150,
   "metadata": {
    "collapsed": false
   },
   "outputs": [],
   "source": [
    "test[\"tfidf\"] = doc_tfidfs"
   ]
  },
  {
   "cell_type": "code",
   "execution_count": 151,
   "metadata": {
    "collapsed": false
   },
   "outputs": [
    {
     "data": {
      "text/html": [
       "<div>\n",
       "<table border=\"1\" class=\"dataframe\">\n",
       "  <thead>\n",
       "    <tr style=\"text-align: right;\">\n",
       "      <th></th>\n",
       "      <th>QueryId</th>\n",
       "      <th>DocumentId</th>\n",
       "      <th>DocumentLink</th>\n",
       "      <th>tfidf</th>\n",
       "    </tr>\n",
       "  </thead>\n",
       "  <tbody>\n",
       "    <tr>\n",
       "      <th>0</th>\n",
       "      <td>101</td>\n",
       "      <td>0</td>\n",
       "      <td>https://vk.com/id377383444</td>\n",
       "      <td>{'заходила': 0.029500976271, 'вам': 0.00893042...</td>\n",
       "    </tr>\n",
       "    <tr>\n",
       "      <th>1</th>\n",
       "      <td>101</td>\n",
       "      <td>1</td>\n",
       "      <td>http://xn----btbgrjageubg1a.xn--p1ai/420-skuchat</td>\n",
       "      <td>{'обсуждали': 0.0310140117413, '': 0.009246435...</td>\n",
       "    </tr>\n",
       "    <tr>\n",
       "      <th>2</th>\n",
       "      <td>101</td>\n",
       "      <td>2</td>\n",
       "      <td>http://jiznenno.ru/vykhod-iz-treugolnika-karpm...</td>\n",
       "      <td>{'': 0.0092464351281, 'счастливые': 0.02494839...</td>\n",
       "    </tr>\n",
       "    <tr>\n",
       "      <th>3</th>\n",
       "      <td>101</td>\n",
       "      <td>3</td>\n",
       "      <td>http://iknigi.net/avtor-aleksandra-marinina/11...</td>\n",
       "      <td>{'делом': 0.0206032515583, '': 0.0092464351281...</td>\n",
       "    </tr>\n",
       "    <tr>\n",
       "      <th>4</th>\n",
       "      <td>101</td>\n",
       "      <td>4</td>\n",
       "      <td>http://fb.ru/article/270014/esli-tufli-veliki-...</td>\n",
       "      <td>{'натуральной': 0.0390399656544, 'носком': 0.0...</td>\n",
       "    </tr>\n",
       "  </tbody>\n",
       "</table>\n",
       "</div>"
      ],
      "text/plain": [
       "   QueryId  DocumentId                                       DocumentLink  \\\n",
       "0      101           0                         https://vk.com/id377383444   \n",
       "1      101           1   http://xn----btbgrjageubg1a.xn--p1ai/420-skuchat   \n",
       "2      101           2  http://jiznenno.ru/vykhod-iz-treugolnika-karpm...   \n",
       "3      101           3  http://iknigi.net/avtor-aleksandra-marinina/11...   \n",
       "4      101           4  http://fb.ru/article/270014/esli-tufli-veliki-...   \n",
       "\n",
       "                                               tfidf  \n",
       "0  {'заходила': 0.029500976271, 'вам': 0.00893042...  \n",
       "1  {'обсуждали': 0.0310140117413, '': 0.009246435...  \n",
       "2  {'': 0.0092464351281, 'счастливые': 0.02494839...  \n",
       "3  {'делом': 0.0206032515583, '': 0.0092464351281...  \n",
       "4  {'натуральной': 0.0390399656544, 'носком': 0.0...  "
      ]
     },
     "execution_count": 151,
     "metadata": {},
     "output_type": "execute_result"
    }
   ],
   "source": [
    "test.head()"
   ]
  },
  {
   "cell_type": "code",
   "execution_count": 152,
   "metadata": {
    "collapsed": false,
    "scrolled": false
   },
   "outputs": [],
   "source": [
    "def calc_relev(row):\n",
    "    tfidf, query = row\n",
    "    res = 0\n",
    "    for word in re.split(r\"[^w]+\", query.lower()):\n",
    "        if word in tfidf:\n",
    "            res += tfidf[word]\n",
    "    return res\n",
    "result = test.merge(queries_test, on=\"QueryId\")\n",
    "result[\"revel\"] = result[[\"tfidf\", \"Query\"]].apply(calc_relev, axis=1)"
   ]
  },
  {
   "cell_type": "code",
   "execution_count": 153,
   "metadata": {
    "collapsed": false,
    "scrolled": false
   },
   "outputs": [
    {
     "data": {
      "text/html": [
       "<div>\n",
       "<table border=\"1\" class=\"dataframe\">\n",
       "  <thead>\n",
       "    <tr style=\"text-align: right;\">\n",
       "      <th></th>\n",
       "      <th>QueryId</th>\n",
       "      <th>DocumentId</th>\n",
       "      <th>DocumentLink</th>\n",
       "      <th>tfidf</th>\n",
       "      <th>Query</th>\n",
       "      <th>revel</th>\n",
       "    </tr>\n",
       "  </thead>\n",
       "  <tbody>\n",
       "    <tr>\n",
       "      <th>0</th>\n",
       "      <td>101</td>\n",
       "      <td>0</td>\n",
       "      <td>https://vk.com/id377383444</td>\n",
       "      <td>{'заходила': 0.029500976271, 'вам': 0.00893042...</td>\n",
       "      <td>Почему нельзя неподошедшего тебе мужика просто...</td>\n",
       "      <td>0.207714</td>\n",
       "    </tr>\n",
       "    <tr>\n",
       "      <th>1</th>\n",
       "      <td>101</td>\n",
       "      <td>1</td>\n",
       "      <td>http://xn----btbgrjageubg1a.xn--p1ai/420-skuchat</td>\n",
       "      <td>{'обсуждали': 0.0310140117413, '': 0.009246435...</td>\n",
       "      <td>Почему нельзя неподошедшего тебе мужика просто...</td>\n",
       "      <td>1.430096</td>\n",
       "    </tr>\n",
       "    <tr>\n",
       "      <th>2</th>\n",
       "      <td>101</td>\n",
       "      <td>2</td>\n",
       "      <td>http://jiznenno.ru/vykhod-iz-treugolnika-karpm...</td>\n",
       "      <td>{'': 0.0092464351281, 'счастливые': 0.02494839...</td>\n",
       "      <td>Почему нельзя неподошедшего тебе мужика просто...</td>\n",
       "      <td>0.154923</td>\n",
       "    </tr>\n",
       "    <tr>\n",
       "      <th>3</th>\n",
       "      <td>101</td>\n",
       "      <td>3</td>\n",
       "      <td>http://iknigi.net/avtor-aleksandra-marinina/11...</td>\n",
       "      <td>{'делом': 0.0206032515583, '': 0.0092464351281...</td>\n",
       "      <td>Почему нельзя неподошедшего тебе мужика просто...</td>\n",
       "      <td>0.300934</td>\n",
       "    </tr>\n",
       "    <tr>\n",
       "      <th>4</th>\n",
       "      <td>101</td>\n",
       "      <td>4</td>\n",
       "      <td>http://fb.ru/article/270014/esli-tufli-veliki-...</td>\n",
       "      <td>{'натуральной': 0.0390399656544, 'носком': 0.0...</td>\n",
       "      <td>Почему нельзя неподошедшего тебе мужика просто...</td>\n",
       "      <td>0.144894</td>\n",
       "    </tr>\n",
       "    <tr>\n",
       "      <th>5</th>\n",
       "      <td>101</td>\n",
       "      <td>5</td>\n",
       "      <td>https://new.vk.com/wall-56106344_4734187</td>\n",
       "      <td>{'палата': 0.0337222131164, 'неподошедшего': 0...</td>\n",
       "      <td>Почему нельзя неподошедшего тебе мужика просто...</td>\n",
       "      <td>0.207714</td>\n",
       "    </tr>\n",
       "    <tr>\n",
       "      <th>6</th>\n",
       "      <td>101</td>\n",
       "      <td>6</td>\n",
       "      <td>https://prodoctorov.ru/krasnodar/lpu/8343-uro-...</td>\n",
       "      <td>{'свяжется': 0.0856447613778, 'пройти': 0.0368...</td>\n",
       "      <td>Почему нельзя неподошедшего тебе мужика просто...</td>\n",
       "      <td>0.009137</td>\n",
       "    </tr>\n",
       "    <tr>\n",
       "      <th>7</th>\n",
       "      <td>101</td>\n",
       "      <td>7</td>\n",
       "      <td>http://garri-potter-life.narod.ru/online/hp_ka...</td>\n",
       "      <td>{'': 0.0184928702562, 'a1': 0.0428223806889, '...</td>\n",
       "      <td>Почему нельзя неподошедшего тебе мужика просто...</td>\n",
       "      <td>0.018493</td>\n",
       "    </tr>\n",
       "    <tr>\n",
       "      <th>8</th>\n",
       "      <td>101</td>\n",
       "      <td>8</td>\n",
       "      <td>http://otvet.mail.ru/mail/lady.dobrota777</td>\n",
       "      <td>{'': 0.0184928702562, 'liveinternet': 0.020398...</td>\n",
       "      <td>Почему нельзя неподошедшего тебе мужика просто...</td>\n",
       "      <td>0.054551</td>\n",
       "    </tr>\n",
       "    <tr>\n",
       "      <th>9</th>\n",
       "      <td>101</td>\n",
       "      <td>9</td>\n",
       "      <td>http://24advokat.ru/cat/v_kakih_sluchayah_mojn...</td>\n",
       "      <td>{'': 0.0184928702562, 'делом': 0.0206032515583...</td>\n",
       "      <td>Почему нельзя неподошедшего тебе мужика просто...</td>\n",
       "      <td>4.300852</td>\n",
       "    </tr>\n",
       "    <tr>\n",
       "      <th>10</th>\n",
       "      <td>101</td>\n",
       "      <td>10</td>\n",
       "      <td>http://www.voprosnik.ru/forum/poll/948567/%D0%...</td>\n",
       "      <td>{'incapsula': 0.0405159560507, '58200001005123...</td>\n",
       "      <td>Почему нельзя неподошедшего тебе мужика просто...</td>\n",
       "      <td>0.000000</td>\n",
       "    </tr>\n",
       "    <tr>\n",
       "      <th>11</th>\n",
       "      <td>101</td>\n",
       "      <td>11</td>\n",
       "      <td>http://love.mail.ru/ru/elena_a2009</td>\n",
       "      <td>{'шею': 0.0230163010342, 'бы': 0.0179470096373...</td>\n",
       "      <td>Почему нельзя неподошедшего тебе мужика просто...</td>\n",
       "      <td>0.270938</td>\n",
       "    </tr>\n",
       "    <tr>\n",
       "      <th>12</th>\n",
       "      <td>101</td>\n",
       "      <td>12</td>\n",
       "      <td>http://2009-2012.littleone.ru/archive/index.ph...</td>\n",
       "      <td>{'mu_mu28': 0.066466111352, 'делом': 0.0618097...</td>\n",
       "      <td>Почему нельзя неподошедшего тебе мужика просто...</td>\n",
       "      <td>0.499198</td>\n",
       "    </tr>\n",
       "    <tr>\n",
       "      <th>13</th>\n",
       "      <td>101</td>\n",
       "      <td>13</td>\n",
       "      <td>http://www.sun-hands.ru/23kak_vernut_tovar_v_m...</td>\n",
       "      <td>{'8085': 0.0605453608783, 'действуют': 0.02667...</td>\n",
       "      <td>Почему нельзя неподошедшего тебе мужика просто...</td>\n",
       "      <td>3.306323</td>\n",
       "    </tr>\n",
       "    <tr>\n",
       "      <th>14</th>\n",
       "      <td>101</td>\n",
       "      <td>14</td>\n",
       "      <td>https://www.wildberries.ru/catalog/2174156/det...</td>\n",
       "      <td>{'': 0.0092464351281, 'игрушки': 0.02122537923...</td>\n",
       "      <td>Почему нельзя неподошедшего тебе мужика просто...</td>\n",
       "      <td>0.009246</td>\n",
       "    </tr>\n",
       "    <tr>\n",
       "      <th>15</th>\n",
       "      <td>101</td>\n",
       "      <td>15</td>\n",
       "      <td>http://ask.fm/id152403084</td>\n",
       "      <td>{'safety': 0.0330381678703, 'interesno': 0.049...</td>\n",
       "      <td>Почему нельзя неподошедшего тебе мужика просто...</td>\n",
       "      <td>0.023416</td>\n",
       "    </tr>\n",
       "    <tr>\n",
       "      <th>16</th>\n",
       "      <td>101</td>\n",
       "      <td>16</td>\n",
       "      <td>http://www.mamba.ru/ru/mb1659075595</td>\n",
       "      <td>{'счастливые': 0.024948396501, 'нояб': 0.08461...</td>\n",
       "      <td>Почему нельзя неподошедшего тебе мужика просто...</td>\n",
       "      <td>0.237696</td>\n",
       "    </tr>\n",
       "    <tr>\n",
       "      <th>17</th>\n",
       "      <td>101</td>\n",
       "      <td>17</td>\n",
       "      <td>http://otvet.mail.ru/question/193813440/</td>\n",
       "      <td>{'': 0.0184928702562, 'вам': 0.00893042824533,...</td>\n",
       "      <td>Почему нельзя неподошедшего тебе мужика просто...</td>\n",
       "      <td>0.253128</td>\n",
       "    </tr>\n",
       "    <tr>\n",
       "      <th>18</th>\n",
       "      <td>101</td>\n",
       "      <td>18</td>\n",
       "      <td>http://www.woman.ru/relations/men/thread/4057627/</td>\n",
       "      <td>{'': 0.0092464351281, 'обсуждали': 0.062028023...</td>\n",
       "      <td>Почему нельзя неподошедшего тебе мужика просто...</td>\n",
       "      <td>0.772273</td>\n",
       "    </tr>\n",
       "    <tr>\n",
       "      <th>19</th>\n",
       "      <td>101</td>\n",
       "      <td>19</td>\n",
       "      <td>http://forums.playground.ru/half-life_2/art/ts...</td>\n",
       "      <td>{'': 0.0092464351281, '307': 0.0374993904612, ...</td>\n",
       "      <td>Почему нельзя неподошедшего тебе мужика просто...</td>\n",
       "      <td>1.478482</td>\n",
       "    </tr>\n",
       "    <tr>\n",
       "      <th>20</th>\n",
       "      <td>101</td>\n",
       "      <td>20</td>\n",
       "      <td>http://ezdivala.livejournal.com/</td>\n",
       "      <td>{'': 0.0092464351281, 'делом': 0.0206032515583...</td>\n",
       "      <td>Почему нельзя неподошедшего тебе мужика просто...</td>\n",
       "      <td>0.226550</td>\n",
       "    </tr>\n",
       "    <tr>\n",
       "      <th>21</th>\n",
       "      <td>101</td>\n",
       "      <td>21</td>\n",
       "      <td>http://otvet.mail.ru/mail/qqqq777qqq</td>\n",
       "      <td>{'': 0.0184928702562, 'liveinternet': 0.020398...</td>\n",
       "      <td>Почему нельзя неподошедшего тебе мужика просто...</td>\n",
       "      <td>0.036522</td>\n",
       "    </tr>\n",
       "    <tr>\n",
       "      <th>22</th>\n",
       "      <td>101</td>\n",
       "      <td>22</td>\n",
       "      <td>https://ru.wikipedia.org/wiki/%D0%A1%D0%BF%D0%...</td>\n",
       "      <td>{'277': 0.0359623125825, 'события': 0.03770684...</td>\n",
       "      <td>Почему нельзя неподошедшего тебе мужика просто...</td>\n",
       "      <td>0.361586</td>\n",
       "    </tr>\n",
       "    <tr>\n",
       "      <th>23</th>\n",
       "      <td>101</td>\n",
       "      <td>23</td>\n",
       "      <td>http://seleznoyv.livejournal.com/</td>\n",
       "      <td>{'': 0.0092464351281, 'о': 0.758864367166, 'сл...</td>\n",
       "      <td>Почему нельзя неподошедшего тебе мужика просто...</td>\n",
       "      <td>1.078824</td>\n",
       "    </tr>\n",
       "    <tr>\n",
       "      <th>24</th>\n",
       "      <td>101</td>\n",
       "      <td>24</td>\n",
       "      <td>https://ok.ru/group55803381547062/topic/659053...</td>\n",
       "      <td>{'': 0.0184928702562, 'знаке': 0.0433704284999...</td>\n",
       "      <td>Почему нельзя неподошедшего тебе мужика просто...</td>\n",
       "      <td>0.041909</td>\n",
       "    </tr>\n",
       "    <tr>\n",
       "      <th>25</th>\n",
       "      <td>101</td>\n",
       "      <td>25</td>\n",
       "      <td>http://sprashivai.ru/hijackmyheart</td>\n",
       "      <td>{'вам': 0.00893042824533, 'pr_gft_cell': 0.228...</td>\n",
       "      <td>Почему нельзя неподошедшего тебе мужика просто...</td>\n",
       "      <td>0.018138</td>\n",
       "    </tr>\n",
       "    <tr>\n",
       "      <th>26</th>\n",
       "      <td>101</td>\n",
       "      <td>26</td>\n",
       "      <td>http://www.tekstil-vsem.ru/testimonials</td>\n",
       "      <td>{'интересы': 0.049199474942, 'растянулось': 0....</td>\n",
       "      <td>Почему нельзя неподошедшего тебе мужика просто...</td>\n",
       "      <td>2.653816</td>\n",
       "    </tr>\n",
       "    <tr>\n",
       "      <th>27</th>\n",
       "      <td>101</td>\n",
       "      <td>27</td>\n",
       "      <td>http://www.magazin-familiya.ru/</td>\n",
       "      <td>{'немаленького': 0.0605453608783, 'приятна': 0...</td>\n",
       "      <td>Почему нельзя неподошедшего тебе мужика просто...</td>\n",
       "      <td>0.629720</td>\n",
       "    </tr>\n",
       "    <tr>\n",
       "      <th>28</th>\n",
       "      <td>102</td>\n",
       "      <td>0</td>\n",
       "      <td>http://anekdotov.net/arc/160811.html</td>\n",
       "      <td>{'': 0.0092464351281, 'конопля': 0.03938532143...</td>\n",
       "      <td>Ты никогда не замечал, какие все вокруг оптими...</td>\n",
       "      <td>0.550180</td>\n",
       "    </tr>\n",
       "    <tr>\n",
       "      <th>29</th>\n",
       "      <td>102</td>\n",
       "      <td>1</td>\n",
       "      <td>https://otvet.mail.ru/question/192840015</td>\n",
       "      <td>{'': 0.0184928702562, 'вам': 0.00893042824533,...</td>\n",
       "      <td>Ты никогда не замечал, какие все вокруг оптими...</td>\n",
       "      <td>0.280451</td>\n",
       "    </tr>\n",
       "    <tr>\n",
       "      <th>...</th>\n",
       "      <td>...</td>\n",
       "      <td>...</td>\n",
       "      <td>...</td>\n",
       "      <td>...</td>\n",
       "      <td>...</td>\n",
       "      <td>...</td>\n",
       "    </tr>\n",
       "    <tr>\n",
       "      <th>2353</th>\n",
       "      <td>199</td>\n",
       "      <td>17</td>\n",
       "      <td>http://www.pro-zagadki.ru/v/Gezkly_LcVA/moya_t...</td>\n",
       "      <td>{'вам': 0.00893042824533, 'liveinternet': 0.02...</td>\n",
       "      <td>что делать если не запускается игра моя тачка ...</td>\n",
       "      <td>0.716274</td>\n",
       "    </tr>\n",
       "    <tr>\n",
       "      <th>2354</th>\n",
       "      <td>199</td>\n",
       "      <td>18</td>\n",
       "      <td>http://socgames.ru/igra_moya_tachka_3d_v_kontakte</td>\n",
       "      <td>{'': 0.0184928702562, '50': 0.0233534903416, '...</td>\n",
       "      <td>что делать если не запускается игра моя тачка ...</td>\n",
       "      <td>1.566107</td>\n",
       "    </tr>\n",
       "    <tr>\n",
       "      <th>2355</th>\n",
       "      <td>199</td>\n",
       "      <td>19</td>\n",
       "      <td>https://new.vk.com/topic-43477896_27216219</td>\n",
       "      <td>{'артём': 0.0318208137672, 'игру': 0.078348896...</td>\n",
       "      <td>что делать если не запускается игра моя тачка ...</td>\n",
       "      <td>0.225764</td>\n",
       "    </tr>\n",
       "    <tr>\n",
       "      <th>2356</th>\n",
       "      <td>199</td>\n",
       "      <td>20</td>\n",
       "      <td>http://buhlo-ufa.ru/load/%D7%E8%F2+%ED%E0+%E8%...</td>\n",
       "      <td>{'предприниматели': 0.041822810584, 'liveinter...</td>\n",
       "      <td>что делать если не запускается игра моя тачка ...</td>\n",
       "      <td>1.009046</td>\n",
       "    </tr>\n",
       "    <tr>\n",
       "      <th>2357</th>\n",
       "      <td>200</td>\n",
       "      <td>0</td>\n",
       "      <td>http://www.mamba.ru/ru/diary/question.phtml?qu...</td>\n",
       "      <td>{'счастливые': 0.024948396501, 'подозрительные...</td>\n",
       "      <td>Почему негров называют черными если они коричн...</td>\n",
       "      <td>0.000000</td>\n",
       "    </tr>\n",
       "    <tr>\n",
       "      <th>2358</th>\n",
       "      <td>200</td>\n",
       "      <td>1</td>\n",
       "      <td>http://lovehate.ru/opinions/50205</td>\n",
       "      <td>{'конкретно': 0.0226128809447, 'принадлежности...</td>\n",
       "      <td>Почему негров называют черными если они коричн...</td>\n",
       "      <td>0.941537</td>\n",
       "    </tr>\n",
       "    <tr>\n",
       "      <th>2359</th>\n",
       "      <td>200</td>\n",
       "      <td>2</td>\n",
       "      <td>http://www.ljpoisk.ru/archive/205303.html</td>\n",
       "      <td>{'': 0.0092464351281}</td>\n",
       "      <td>Почему негров называют черными если они коричн...</td>\n",
       "      <td>0.009246</td>\n",
       "    </tr>\n",
       "    <tr>\n",
       "      <th>2360</th>\n",
       "      <td>200</td>\n",
       "      <td>3</td>\n",
       "      <td>http://yvision.kz/post/81661</td>\n",
       "      <td>{'': 0.0092464351281, 'верхнее': 0.03903996565...</td>\n",
       "      <td>Почему негров называют черными если они коричн...</td>\n",
       "      <td>0.338294</td>\n",
       "    </tr>\n",
       "    <tr>\n",
       "      <th>2361</th>\n",
       "      <td>200</td>\n",
       "      <td>4</td>\n",
       "      <td>http://androidconnect.ru/a-ya-vsego-lish-hotel...</td>\n",
       "      <td>{'': 0.0092464351281, 'вам': 0.00893042824533,...</td>\n",
       "      <td>Почему негров называют черными если они коричн...</td>\n",
       "      <td>0.327837</td>\n",
       "    </tr>\n",
       "    <tr>\n",
       "      <th>2362</th>\n",
       "      <td>200</td>\n",
       "      <td>5</td>\n",
       "      <td>http://otvet.mail.ru/mail/gaja_vadim</td>\n",
       "      <td>{'': 0.0184928702562, 'тяжелый': 0.02477208190...</td>\n",
       "      <td>Почему негров называют черными если они коричн...</td>\n",
       "      <td>0.069793</td>\n",
       "    </tr>\n",
       "    <tr>\n",
       "      <th>2363</th>\n",
       "      <td>200</td>\n",
       "      <td>6</td>\n",
       "      <td>http://otvet.expert/pochemu-v-donbasse-chernok...</td>\n",
       "      <td>{'liveinternet': 0.02039843798, 'айо': 0.33233...</td>\n",
       "      <td>Почему негров называют черными если они коричн...</td>\n",
       "      <td>0.111851</td>\n",
       "    </tr>\n",
       "    <tr>\n",
       "      <th>2364</th>\n",
       "      <td>200</td>\n",
       "      <td>7</td>\n",
       "      <td>http://7ba.ru/blogs/37617/my.php</td>\n",
       "      <td>{'': 0.0092464351281, 'пигмент': 0.10544912071...</td>\n",
       "      <td>Почему негров называют черными если они коричн...</td>\n",
       "      <td>0.059856</td>\n",
       "    </tr>\n",
       "    <tr>\n",
       "      <th>2365</th>\n",
       "      <td>200</td>\n",
       "      <td>8</td>\n",
       "      <td>http://rod.6bb.ru/viewtopic.php?id=3947</td>\n",
       "      <td>{'радовало': 0.0423077835238, '': 0.0092464351...</td>\n",
       "      <td>Почему негров называют черными если они коричн...</td>\n",
       "      <td>1.650094</td>\n",
       "    </tr>\n",
       "    <tr>\n",
       "      <th>2366</th>\n",
       "      <td>200</td>\n",
       "      <td>9</td>\n",
       "      <td>http://www.bolshoyvopros.ru/questions/1981797-...</td>\n",
       "      <td>{'': 0.0092464351281, 'liveinternet': 0.010199...</td>\n",
       "      <td>Почему негров называют черными если они коричн...</td>\n",
       "      <td>0.259911</td>\n",
       "    </tr>\n",
       "    <tr>\n",
       "      <th>2367</th>\n",
       "      <td>200</td>\n",
       "      <td>10</td>\n",
       "      <td>http://pochemu-tak.com/pochemu-negry-chernye/</td>\n",
       "      <td>{'дольше': 0.0211893692535, 'svn': 0.031014011...</td>\n",
       "      <td>Почему негров называют черными если они коричн...</td>\n",
       "      <td>0.334760</td>\n",
       "    </tr>\n",
       "    <tr>\n",
       "      <th>2368</th>\n",
       "      <td>200</td>\n",
       "      <td>11</td>\n",
       "      <td>https://thequestion.ru/questions/140254/pochem...</td>\n",
       "      <td>{'': 0.0092464351281, 'вам': 0.00893042824533,...</td>\n",
       "      <td>Почему негров называют черными если они коричн...</td>\n",
       "      <td>0.339963</td>\n",
       "    </tr>\n",
       "    <tr>\n",
       "      <th>2369</th>\n",
       "      <td>200</td>\n",
       "      <td>12</td>\n",
       "      <td>https://ru.wikipedia.org/wiki/%D0%9D%D0%B5%D0%...</td>\n",
       "      <td>{'добавьте': 0.0285988488117, '290': 0.0374993...</td>\n",
       "      <td>Почему негров называют черными если они коричн...</td>\n",
       "      <td>0.200739</td>\n",
       "    </tr>\n",
       "    <tr>\n",
       "      <th>2370</th>\n",
       "      <td>200</td>\n",
       "      <td>13</td>\n",
       "      <td>http://sprashivalka.com/q/84040018</td>\n",
       "      <td>{'': 0.0092464351281, 'минеева': 0.05462819030...</td>\n",
       "      <td>Почему негров называют черными если они коричн...</td>\n",
       "      <td>0.231423</td>\n",
       "    </tr>\n",
       "    <tr>\n",
       "      <th>2371</th>\n",
       "      <td>200</td>\n",
       "      <td>14</td>\n",
       "      <td>http://www.topauthor.ru/Pochemu_negri_chrnie_b...</td>\n",
       "      <td>{'307': 0.0374993904612, 'аналитические': 0.04...</td>\n",
       "      <td>Почему негров называют черными если они коричн...</td>\n",
       "      <td>0.397136</td>\n",
       "    </tr>\n",
       "    <tr>\n",
       "      <th>2372</th>\n",
       "      <td>200</td>\n",
       "      <td>15</td>\n",
       "      <td>http://repartee.ru/2012/05/riu-negru/</td>\n",
       "      <td>{'877км': 0.066466111352, '670': 0.04526693897...</td>\n",
       "      <td>Почему негров называют черными если они коричн...</td>\n",
       "      <td>0.071273</td>\n",
       "    </tr>\n",
       "    <tr>\n",
       "      <th>2373</th>\n",
       "      <td>200</td>\n",
       "      <td>16</td>\n",
       "      <td>http://otvet.mail.ru/mail/yakov.petrov.2001</td>\n",
       "      <td>{'': 0.0184928702562, 'нормальный': 0.02194585...</td>\n",
       "      <td>Почему негров называют черными если они коричн...</td>\n",
       "      <td>0.124326</td>\n",
       "    </tr>\n",
       "    <tr>\n",
       "      <th>2374</th>\n",
       "      <td>200</td>\n",
       "      <td>17</td>\n",
       "      <td>http://xn--e1adcaacuhnujm.xn--p1ai/otkuda-negr...</td>\n",
       "      <td>{'': 0.0184928702562, 'светлокожей': 0.0664661...</td>\n",
       "      <td>Почему негров называют черными если они коричн...</td>\n",
       "      <td>0.141237</td>\n",
       "    </tr>\n",
       "    <tr>\n",
       "      <th>2375</th>\n",
       "      <td>200</td>\n",
       "      <td>18</td>\n",
       "      <td>http://asonov.com/vokrug-sveta/vokrug-sveta/ri...</td>\n",
       "      <td>{'самая': 0.0483626789958, 'гряду': 0.05462819...</td>\n",
       "      <td>Почему негров называют черными если они коричн...</td>\n",
       "      <td>0.094257</td>\n",
       "    </tr>\n",
       "    <tr>\n",
       "      <th>2376</th>\n",
       "      <td>200</td>\n",
       "      <td>19</td>\n",
       "      <td>http://www.otvetnemail.ru/yumor-377/pochemu-ne...</td>\n",
       "      <td>{'': 0.0092464351281, 'приводило': 0.041822810...</td>\n",
       "      <td>Почему негров называют черными если они коричн...</td>\n",
       "      <td>0.237754</td>\n",
       "    </tr>\n",
       "    <tr>\n",
       "      <th>2377</th>\n",
       "      <td>200</td>\n",
       "      <td>20</td>\n",
       "      <td>http://blog.olegdubas.com/2016/01/29/black/</td>\n",
       "      <td>{'принадлежности': 0.0311430340178, 'обижаются...</td>\n",
       "      <td>Почему негров называют черными если они коричн...</td>\n",
       "      <td>1.336616</td>\n",
       "    </tr>\n",
       "    <tr>\n",
       "      <th>2378</th>\n",
       "      <td>200</td>\n",
       "      <td>21</td>\n",
       "      <td>https://vk.com/wall-91421416_487512?reply=487819</td>\n",
       "      <td>{'черновзоров': 0.066466111352, 'улыбаться': 0...</td>\n",
       "      <td>Почему негров называют черными если они коричн...</td>\n",
       "      <td>0.358491</td>\n",
       "    </tr>\n",
       "    <tr>\n",
       "      <th>2379</th>\n",
       "      <td>200</td>\n",
       "      <td>22</td>\n",
       "      <td>http://ask.fm/Aki_Ler/answers/133066856011</td>\n",
       "      <td>{'valentin_ska': 0.066466111352, 'safety': 0.0...</td>\n",
       "      <td>Почему негров называют черными если они коричн...</td>\n",
       "      <td>0.184493</td>\n",
       "    </tr>\n",
       "    <tr>\n",
       "      <th>2380</th>\n",
       "      <td>200</td>\n",
       "      <td>23</td>\n",
       "      <td>http://irc.lv/qna/%D0%91%D0%BB%D0%B8%D0%BD_%D0...</td>\n",
       "      <td>{'конкретно': 0.0226128809447, 'вам': 0.017860...</td>\n",
       "      <td>Почему негров называют черными если они коричн...</td>\n",
       "      <td>0.487616</td>\n",
       "    </tr>\n",
       "    <tr>\n",
       "      <th>2381</th>\n",
       "      <td>200</td>\n",
       "      <td>24</td>\n",
       "      <td>http://pikabu.ru/story/master_uvorota_2748699</td>\n",
       "      <td>{'попал': 0.0403707783739, 'liveinternet': 0.0...</td>\n",
       "      <td>Почему негров называют черными если они коричн...</td>\n",
       "      <td>0.253216</td>\n",
       "    </tr>\n",
       "    <tr>\n",
       "      <th>2382</th>\n",
       "      <td>200</td>\n",
       "      <td>25</td>\n",
       "      <td>http://reseto.com/story.php?2346</td>\n",
       "      <td>{'анекдоты': 0.0189573289786, 'needed': 0.0342...</td>\n",
       "      <td>Почему негров называют черными если они коричн...</td>\n",
       "      <td>0.139606</td>\n",
       "    </tr>\n",
       "  </tbody>\n",
       "</table>\n",
       "<p>2383 rows × 6 columns</p>\n",
       "</div>"
      ],
      "text/plain": [
       "      QueryId  DocumentId                                       DocumentLink  \\\n",
       "0         101           0                         https://vk.com/id377383444   \n",
       "1         101           1   http://xn----btbgrjageubg1a.xn--p1ai/420-skuchat   \n",
       "2         101           2  http://jiznenno.ru/vykhod-iz-treugolnika-karpm...   \n",
       "3         101           3  http://iknigi.net/avtor-aleksandra-marinina/11...   \n",
       "4         101           4  http://fb.ru/article/270014/esli-tufli-veliki-...   \n",
       "5         101           5           https://new.vk.com/wall-56106344_4734187   \n",
       "6         101           6  https://prodoctorov.ru/krasnodar/lpu/8343-uro-...   \n",
       "7         101           7  http://garri-potter-life.narod.ru/online/hp_ka...   \n",
       "8         101           8          http://otvet.mail.ru/mail/lady.dobrota777   \n",
       "9         101           9  http://24advokat.ru/cat/v_kakih_sluchayah_mojn...   \n",
       "10        101          10  http://www.voprosnik.ru/forum/poll/948567/%D0%...   \n",
       "11        101          11                 http://love.mail.ru/ru/elena_a2009   \n",
       "12        101          12  http://2009-2012.littleone.ru/archive/index.ph...   \n",
       "13        101          13  http://www.sun-hands.ru/23kak_vernut_tovar_v_m...   \n",
       "14        101          14  https://www.wildberries.ru/catalog/2174156/det...   \n",
       "15        101          15                          http://ask.fm/id152403084   \n",
       "16        101          16                http://www.mamba.ru/ru/mb1659075595   \n",
       "17        101          17           http://otvet.mail.ru/question/193813440/   \n",
       "18        101          18  http://www.woman.ru/relations/men/thread/4057627/   \n",
       "19        101          19  http://forums.playground.ru/half-life_2/art/ts...   \n",
       "20        101          20                   http://ezdivala.livejournal.com/   \n",
       "21        101          21               http://otvet.mail.ru/mail/qqqq777qqq   \n",
       "22        101          22  https://ru.wikipedia.org/wiki/%D0%A1%D0%BF%D0%...   \n",
       "23        101          23                  http://seleznoyv.livejournal.com/   \n",
       "24        101          24  https://ok.ru/group55803381547062/topic/659053...   \n",
       "25        101          25                 http://sprashivai.ru/hijackmyheart   \n",
       "26        101          26            http://www.tekstil-vsem.ru/testimonials   \n",
       "27        101          27                    http://www.magazin-familiya.ru/   \n",
       "28        102           0               http://anekdotov.net/arc/160811.html   \n",
       "29        102           1           https://otvet.mail.ru/question/192840015   \n",
       "...       ...         ...                                                ...   \n",
       "2353      199          17  http://www.pro-zagadki.ru/v/Gezkly_LcVA/moya_t...   \n",
       "2354      199          18  http://socgames.ru/igra_moya_tachka_3d_v_kontakte   \n",
       "2355      199          19         https://new.vk.com/topic-43477896_27216219   \n",
       "2356      199          20  http://buhlo-ufa.ru/load/%D7%E8%F2+%ED%E0+%E8%...   \n",
       "2357      200           0  http://www.mamba.ru/ru/diary/question.phtml?qu...   \n",
       "2358      200           1                  http://lovehate.ru/opinions/50205   \n",
       "2359      200           2          http://www.ljpoisk.ru/archive/205303.html   \n",
       "2360      200           3                       http://yvision.kz/post/81661   \n",
       "2361      200           4  http://androidconnect.ru/a-ya-vsego-lish-hotel...   \n",
       "2362      200           5               http://otvet.mail.ru/mail/gaja_vadim   \n",
       "2363      200           6  http://otvet.expert/pochemu-v-donbasse-chernok...   \n",
       "2364      200           7                   http://7ba.ru/blogs/37617/my.php   \n",
       "2365      200           8            http://rod.6bb.ru/viewtopic.php?id=3947   \n",
       "2366      200           9  http://www.bolshoyvopros.ru/questions/1981797-...   \n",
       "2367      200          10      http://pochemu-tak.com/pochemu-negry-chernye/   \n",
       "2368      200          11  https://thequestion.ru/questions/140254/pochem...   \n",
       "2369      200          12  https://ru.wikipedia.org/wiki/%D0%9D%D0%B5%D0%...   \n",
       "2370      200          13                 http://sprashivalka.com/q/84040018   \n",
       "2371      200          14  http://www.topauthor.ru/Pochemu_negri_chrnie_b...   \n",
       "2372      200          15              http://repartee.ru/2012/05/riu-negru/   \n",
       "2373      200          16        http://otvet.mail.ru/mail/yakov.petrov.2001   \n",
       "2374      200          17  http://xn--e1adcaacuhnujm.xn--p1ai/otkuda-negr...   \n",
       "2375      200          18  http://asonov.com/vokrug-sveta/vokrug-sveta/ri...   \n",
       "2376      200          19  http://www.otvetnemail.ru/yumor-377/pochemu-ne...   \n",
       "2377      200          20        http://blog.olegdubas.com/2016/01/29/black/   \n",
       "2378      200          21   https://vk.com/wall-91421416_487512?reply=487819   \n",
       "2379      200          22         http://ask.fm/Aki_Ler/answers/133066856011   \n",
       "2380      200          23  http://irc.lv/qna/%D0%91%D0%BB%D0%B8%D0%BD_%D0...   \n",
       "2381      200          24      http://pikabu.ru/story/master_uvorota_2748699   \n",
       "2382      200          25                   http://reseto.com/story.php?2346   \n",
       "\n",
       "                                                  tfidf  \\\n",
       "0     {'заходила': 0.029500976271, 'вам': 0.00893042...   \n",
       "1     {'обсуждали': 0.0310140117413, '': 0.009246435...   \n",
       "2     {'': 0.0092464351281, 'счастливые': 0.02494839...   \n",
       "3     {'делом': 0.0206032515583, '': 0.0092464351281...   \n",
       "4     {'натуральной': 0.0390399656544, 'носком': 0.0...   \n",
       "5     {'палата': 0.0337222131164, 'неподошедшего': 0...   \n",
       "6     {'свяжется': 0.0856447613778, 'пройти': 0.0368...   \n",
       "7     {'': 0.0184928702562, 'a1': 0.0428223806889, '...   \n",
       "8     {'': 0.0184928702562, 'liveinternet': 0.020398...   \n",
       "9     {'': 0.0184928702562, 'делом': 0.0206032515583...   \n",
       "10    {'incapsula': 0.0405159560507, '58200001005123...   \n",
       "11    {'шею': 0.0230163010342, 'бы': 0.0179470096373...   \n",
       "12    {'mu_mu28': 0.066466111352, 'делом': 0.0618097...   \n",
       "13    {'8085': 0.0605453608783, 'действуют': 0.02667...   \n",
       "14    {'': 0.0092464351281, 'игрушки': 0.02122537923...   \n",
       "15    {'safety': 0.0330381678703, 'interesno': 0.049...   \n",
       "16    {'счастливые': 0.024948396501, 'нояб': 0.08461...   \n",
       "17    {'': 0.0184928702562, 'вам': 0.00893042824533,...   \n",
       "18    {'': 0.0092464351281, 'обсуждали': 0.062028023...   \n",
       "19    {'': 0.0092464351281, '307': 0.0374993904612, ...   \n",
       "20    {'': 0.0092464351281, 'делом': 0.0206032515583...   \n",
       "21    {'': 0.0184928702562, 'liveinternet': 0.020398...   \n",
       "22    {'277': 0.0359623125825, 'события': 0.03770684...   \n",
       "23    {'': 0.0092464351281, 'о': 0.758864367166, 'сл...   \n",
       "24    {'': 0.0184928702562, 'знаке': 0.0433704284999...   \n",
       "25    {'вам': 0.00893042824533, 'pr_gft_cell': 0.228...   \n",
       "26    {'интересы': 0.049199474942, 'растянулось': 0....   \n",
       "27    {'немаленького': 0.0605453608783, 'приятна': 0...   \n",
       "28    {'': 0.0092464351281, 'конопля': 0.03938532143...   \n",
       "29    {'': 0.0184928702562, 'вам': 0.00893042824533,...   \n",
       "...                                                 ...   \n",
       "2353  {'вам': 0.00893042824533, 'liveinternet': 0.02...   \n",
       "2354  {'': 0.0184928702562, '50': 0.0233534903416, '...   \n",
       "2355  {'артём': 0.0318208137672, 'игру': 0.078348896...   \n",
       "2356  {'предприниматели': 0.041822810584, 'liveinter...   \n",
       "2357  {'счастливые': 0.024948396501, 'подозрительные...   \n",
       "2358  {'конкретно': 0.0226128809447, 'принадлежности...   \n",
       "2359                              {'': 0.0092464351281}   \n",
       "2360  {'': 0.0092464351281, 'верхнее': 0.03903996565...   \n",
       "2361  {'': 0.0092464351281, 'вам': 0.00893042824533,...   \n",
       "2362  {'': 0.0184928702562, 'тяжелый': 0.02477208190...   \n",
       "2363  {'liveinternet': 0.02039843798, 'айо': 0.33233...   \n",
       "2364  {'': 0.0092464351281, 'пигмент': 0.10544912071...   \n",
       "2365  {'радовало': 0.0423077835238, '': 0.0092464351...   \n",
       "2366  {'': 0.0092464351281, 'liveinternet': 0.010199...   \n",
       "2367  {'дольше': 0.0211893692535, 'svn': 0.031014011...   \n",
       "2368  {'': 0.0092464351281, 'вам': 0.00893042824533,...   \n",
       "2369  {'добавьте': 0.0285988488117, '290': 0.0374993...   \n",
       "2370  {'': 0.0092464351281, 'минеева': 0.05462819030...   \n",
       "2371  {'307': 0.0374993904612, 'аналитические': 0.04...   \n",
       "2372  {'877км': 0.066466111352, '670': 0.04526693897...   \n",
       "2373  {'': 0.0184928702562, 'нормальный': 0.02194585...   \n",
       "2374  {'': 0.0184928702562, 'светлокожей': 0.0664661...   \n",
       "2375  {'самая': 0.0483626789958, 'гряду': 0.05462819...   \n",
       "2376  {'': 0.0092464351281, 'приводило': 0.041822810...   \n",
       "2377  {'принадлежности': 0.0311430340178, 'обижаются...   \n",
       "2378  {'черновзоров': 0.066466111352, 'улыбаться': 0...   \n",
       "2379  {'valentin_ska': 0.066466111352, 'safety': 0.0...   \n",
       "2380  {'конкретно': 0.0226128809447, 'вам': 0.017860...   \n",
       "2381  {'попал': 0.0403707783739, 'liveinternet': 0.0...   \n",
       "2382  {'анекдоты': 0.0189573289786, 'needed': 0.0342...   \n",
       "\n",
       "                                                  Query     revel  \n",
       "0     Почему нельзя неподошедшего тебе мужика просто...  0.207714  \n",
       "1     Почему нельзя неподошедшего тебе мужика просто...  1.430096  \n",
       "2     Почему нельзя неподошедшего тебе мужика просто...  0.154923  \n",
       "3     Почему нельзя неподошедшего тебе мужика просто...  0.300934  \n",
       "4     Почему нельзя неподошедшего тебе мужика просто...  0.144894  \n",
       "5     Почему нельзя неподошедшего тебе мужика просто...  0.207714  \n",
       "6     Почему нельзя неподошедшего тебе мужика просто...  0.009137  \n",
       "7     Почему нельзя неподошедшего тебе мужика просто...  0.018493  \n",
       "8     Почему нельзя неподошедшего тебе мужика просто...  0.054551  \n",
       "9     Почему нельзя неподошедшего тебе мужика просто...  4.300852  \n",
       "10    Почему нельзя неподошедшего тебе мужика просто...  0.000000  \n",
       "11    Почему нельзя неподошедшего тебе мужика просто...  0.270938  \n",
       "12    Почему нельзя неподошедшего тебе мужика просто...  0.499198  \n",
       "13    Почему нельзя неподошедшего тебе мужика просто...  3.306323  \n",
       "14    Почему нельзя неподошедшего тебе мужика просто...  0.009246  \n",
       "15    Почему нельзя неподошедшего тебе мужика просто...  0.023416  \n",
       "16    Почему нельзя неподошедшего тебе мужика просто...  0.237696  \n",
       "17    Почему нельзя неподошедшего тебе мужика просто...  0.253128  \n",
       "18    Почему нельзя неподошедшего тебе мужика просто...  0.772273  \n",
       "19    Почему нельзя неподошедшего тебе мужика просто...  1.478482  \n",
       "20    Почему нельзя неподошедшего тебе мужика просто...  0.226550  \n",
       "21    Почему нельзя неподошедшего тебе мужика просто...  0.036522  \n",
       "22    Почему нельзя неподошедшего тебе мужика просто...  0.361586  \n",
       "23    Почему нельзя неподошедшего тебе мужика просто...  1.078824  \n",
       "24    Почему нельзя неподошедшего тебе мужика просто...  0.041909  \n",
       "25    Почему нельзя неподошедшего тебе мужика просто...  0.018138  \n",
       "26    Почему нельзя неподошедшего тебе мужика просто...  2.653816  \n",
       "27    Почему нельзя неподошедшего тебе мужика просто...  0.629720  \n",
       "28    Ты никогда не замечал, какие все вокруг оптими...  0.550180  \n",
       "29    Ты никогда не замечал, какие все вокруг оптими...  0.280451  \n",
       "...                                                 ...       ...  \n",
       "2353  что делать если не запускается игра моя тачка ...  0.716274  \n",
       "2354  что делать если не запускается игра моя тачка ...  1.566107  \n",
       "2355  что делать если не запускается игра моя тачка ...  0.225764  \n",
       "2356  что делать если не запускается игра моя тачка ...  1.009046  \n",
       "2357  Почему негров называют черными если они коричн...  0.000000  \n",
       "2358  Почему негров называют черными если они коричн...  0.941537  \n",
       "2359  Почему негров называют черными если они коричн...  0.009246  \n",
       "2360  Почему негров называют черными если они коричн...  0.338294  \n",
       "2361  Почему негров называют черными если они коричн...  0.327837  \n",
       "2362  Почему негров называют черными если они коричн...  0.069793  \n",
       "2363  Почему негров называют черными если они коричн...  0.111851  \n",
       "2364  Почему негров называют черными если они коричн...  0.059856  \n",
       "2365  Почему негров называют черными если они коричн...  1.650094  \n",
       "2366  Почему негров называют черными если они коричн...  0.259911  \n",
       "2367  Почему негров называют черными если они коричн...  0.334760  \n",
       "2368  Почему негров называют черными если они коричн...  0.339963  \n",
       "2369  Почему негров называют черными если они коричн...  0.200739  \n",
       "2370  Почему негров называют черными если они коричн...  0.231423  \n",
       "2371  Почему негров называют черными если они коричн...  0.397136  \n",
       "2372  Почему негров называют черными если они коричн...  0.071273  \n",
       "2373  Почему негров называют черными если они коричн...  0.124326  \n",
       "2374  Почему негров называют черными если они коричн...  0.141237  \n",
       "2375  Почему негров называют черными если они коричн...  0.094257  \n",
       "2376  Почему негров называют черными если они коричн...  0.237754  \n",
       "2377  Почему негров называют черными если они коричн...  1.336616  \n",
       "2378  Почему негров называют черными если они коричн...  0.358491  \n",
       "2379  Почему негров называют черными если они коричн...  0.184493  \n",
       "2380  Почему негров называют черными если они коричн...  0.487616  \n",
       "2381  Почему негров называют черными если они коричн...  0.253216  \n",
       "2382  Почему негров называют черными если они коричн...  0.139606  \n",
       "\n",
       "[2383 rows x 6 columns]"
      ]
     },
     "execution_count": 153,
     "metadata": {},
     "output_type": "execute_result"
    }
   ],
   "source": [
    "result"
   ]
  },
  {
   "cell_type": "code",
   "execution_count": 154,
   "metadata": {
    "collapsed": false,
    "scrolled": false
   },
   "outputs": [
    {
     "name": "stderr",
     "output_type": "stream",
     "text": [
      "/Users/astepanov/.virtualenvs/tf/lib/python3.5/site-packages/ipykernel/__main__.py:1: FutureWarning: sort(columns=....) is deprecated, use sort_values(by=.....)\n",
      "  if __name__ == '__main__':\n"
     ]
    }
   ],
   "source": [
    "result.sort([\"QueryId\", \"revel\"], ascending=[True, False])[[\"QueryId\", \"DocumentId\"]].to_csv(\"answer.csv\", index=False)"
   ]
  },
  {
   "cell_type": "code",
   "execution_count": null,
   "metadata": {
    "collapsed": true
   },
   "outputs": [],
   "source": []
  }
 ],
 "metadata": {
  "kernelspec": {
   "display_name": "Python 3",
   "language": "python",
   "name": "python3"
  },
  "language_info": {
   "codemirror_mode": {
    "name": "ipython",
    "version": 3
   },
   "file_extension": ".py",
   "mimetype": "text/x-python",
   "name": "python",
   "nbconvert_exporter": "python",
   "pygments_lexer": "ipython3",
   "version": "3.5.2"
  }
 },
 "nbformat": 4,
 "nbformat_minor": 0
}
