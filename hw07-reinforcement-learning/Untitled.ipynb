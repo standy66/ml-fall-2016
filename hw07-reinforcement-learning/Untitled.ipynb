{
 "cells": [
  {
   "cell_type": "code",
   "execution_count": 1,
   "metadata": {
    "collapsed": false
   },
   "outputs": [
    {
     "name": "stdout",
     "output_type": "stream",
     "text": [
      "--2016-10-28 17:40:47--  https://raw.githubusercontent.com/yandexdataschool/dqn_binder/master/classwork_solution.ipynb\n",
      "Resolving raw.githubusercontent.com (raw.githubusercontent.com)... 151.101.12.133\n",
      "Connecting to raw.githubusercontent.com (raw.githubusercontent.com)|151.101.12.133|:443... connected.\n",
      "HTTP request sent, awaiting response... 200 OK\n",
      "Length: 1085342 (1.0M) [text/plain]\n",
      "Saving to: 'classwork_solution.ipynb'\n",
      "\n",
      "100%[======================================>] 1,085,342   2.48MB/s   in 0.4s   \n",
      "\n",
      "2016-10-28 17:40:48 (2.48 MB/s) - 'classwork_solution.ipynb' saved [1085342/1085342]\n",
      "\n"
     ]
    }
   ],
   "source": [
    "!wget https://raw.githubusercontent.com/yandexdataschool/dqn_binder/master/classwork_solution.ipynb"
   ]
  },
  {
   "cell_type": "code",
   "execution_count": 1,
   "metadata": {
    "collapsed": false
   },
   "outputs": [
    {
     "name": "stdout",
     "output_type": "stream",
     "text": [
      "--2016-10-28 21:50:39--  https://github.com/yandexdataschool/dqn_binder/raw/master/spaceinvaders_dqn_body_small.pcl\n",
      "Resolving github.com (github.com)... 192.30.253.112, 192.30.253.113\n",
      "Connecting to github.com (github.com)|192.30.253.112|:443... connected.\n",
      "HTTP request sent, awaiting response... 302 Found\n",
      "Location: https://raw.githubusercontent.com/yandexdataschool/dqn_binder/master/spaceinvaders_dqn_body_small.pcl [following]\n",
      "--2016-10-28 21:50:40--  https://raw.githubusercontent.com/yandexdataschool/dqn_binder/master/spaceinvaders_dqn_body_small.pcl\n",
      "Resolving raw.githubusercontent.com (raw.githubusercontent.com)... 151.101.12.133\n",
      "Connecting to raw.githubusercontent.com (raw.githubusercontent.com)|151.101.12.133|:443... connected.\n",
      "HTTP request sent, awaiting response... 200 OK\n",
      "Length: 2930156 (2.8M) [application/octet-stream]\n",
      "Saving to: 'spaceinvaders_dqn_body_small.pcl'\n",
      "\n",
      "100%[======================================>] 2,930,156   3.57MB/s   in 0.8s   \n",
      "\n",
      "2016-10-28 21:50:41 (3.57 MB/s) - 'spaceinvaders_dqn_body_small.pcl' saved [2930156/2930156]\n",
      "\n"
     ]
    }
   ],
   "source": [
    "!wget https://github.com/yandexdataschool/dqn_binder/raw/master/spaceinvaders_dqn_body_small.pcl"
   ]
  },
  {
   "cell_type": "code",
   "execution_count": null,
   "metadata": {
    "collapsed": true
   },
   "outputs": [],
   "source": []
  }
 ],
 "metadata": {
  "kernelspec": {
   "display_name": "Python 3",
   "language": "python",
   "name": "python3"
  },
  "language_info": {
   "codemirror_mode": {
    "name": "ipython",
    "version": 3
   },
   "file_extension": ".py",
   "mimetype": "text/x-python",
   "name": "python",
   "nbconvert_exporter": "python",
   "pygments_lexer": "ipython3",
   "version": "3.4.3"
  }
 },
 "nbformat": 4,
 "nbformat_minor": 1
}
