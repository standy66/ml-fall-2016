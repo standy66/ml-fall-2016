{
 "cells": [
  {
   "cell_type": "markdown",
   "metadata": {},
   "source": [
    "МФТИ ФИВТ: Курс Машинное Обучение (осень, 2016), Арсений Ашуха, ars.ashuha@gmail.com"
   ]
  },
  {
   "cell_type": "markdown",
   "metadata": {},
   "source": [
    "<h1 align=\"center\">Organization Info</h1> "
   ]
  },
  {
   "cell_type": "markdown",
   "metadata": {},
   "source": [
    "**Дополнительный материал для выполнения дз**:\n",
    "- Hastie, The Elements of Statistical Learning, https://goo.gl/k3wfEU, 10 Boosting and Additive Trees 337\n",
    "- Соколов, Семинары по композиционным методам, https://goo.gl/sn8RyJ, http://goo.gl/ajNTQy\n",
    "\n",
    "**Оформление дз**: \n",
    "- Присылайте выполненное задание на почту ``ml.course.mipt@gmail.com``\n",
    "- Укажите тему письма в следующем формате ``ML2016_fall <номер_группы> <фамилия>``, к примеру -- ``ML2016_fall 401 ivanov``\n",
    "- Выполненное дз сохраните в файл ``<фамилия>_<группа>_task<номер>.ipnb``, к примеру -- ``ivanov_401_task1.ipnb``\n",
    "\n",
    "**Вопросы**:\n",
    "- Присылайте вопросы на почту ``ml.course.mipt@gmail.com``\n",
    "- Укажите тему письма в следующем формате ``ML2016_fall Question <Содержание вопроса>``\n",
    "\n",
    "--------\n",
    "- **PS1**: Мы используем автоматические фильтры, и просто не найдем ваше дз, если вы не аккуратно его подпишите.\n",
    "- **PS2**: Напоминаем, что дедлайны жесткие, письма пришедшие после автоматически удаляются =( чтобы соблазна не было "
   ]
  },
  {
   "cell_type": "markdown",
   "metadata": {},
   "source": [
    "<h1 align=\"center\">Check Questions</h1> "
   ]
  },
  {
   "cell_type": "markdown",
   "metadata": {},
   "source": [
    "Ответе на вопросы своими словами (загугленный материал надо пересказать), ответ обоснуйте (напишите и ОБЪЯСНИТЕ формулки если потребуется), если не выходит, то вернитесь к лекции дополнительным материалам:\n",
    "\n",
    "**Вопрос 1**: Чем отличается AdaBoost от XGBoost? Перечислите принципиальные отличия. \n",
    "\n",
    "В XGBoost для оптимизации в пространстве ответов базовых алгоритмов используются методы второго порядка. В XGBoost функцонал регуляризуется, в AdaBoost нет. В (классическом) AdaBoost используется экспоненциальная функция потерь. В XGBoost используется измененный критерий информативности.\n",
    "\n",
    "**Вопрос 2**: Почему говорят, что AdaBoost неустойчив к выбросам?\n",
    "\n",
    "AdaBoost использует экспоненциальную функцию потерь, которая сильно карает за misclassification. Шумовые данные обычно лежат глубоко в своем классе, но имеют неправильный лейбл. В идеале хотелось бы, чтобы шумовые данные были корректно класифицированы алгоритмом, но это не возможно так как тогда это будет грубый misclassification (потому что обучающий алгоритм не знает, что метка на шумовом объекте не правильная) \n",
    "\n",
    "**Вопрос 3**:  В каком пространстве градиентный бустинг совершает градиентный спуск? Какова размерность этого пространства?\n",
    "\n",
    "В пространстве ответов базовых алгоритмов. Если обучающая выборка $X^{(l)}$, то размерность пространства -- $l$.\n",
    "\n",
    "**Вопрос 4**: В чем заключается сокращение шага в градиентном бустинге? Как число итераций, необходимое для сходимости, зависит от размера шага η?\n",
    "\n",
    "Изменяется (уменьшается) коэфициент, с которым новый базовый алгоритм добавляется в композицию. Чем меньше размер шага, тем больше должно быть шагов алгоритма до сходимости.\n",
    "\n",
    "**Вопрос 5**: Что такое стохастический градиентный бустинг?\n",
    "\n",
    "На каждом шаге градиентного бустинга считаем градиент только на случайно выбранной подвыборке данных, и добавляем базовый алгоритм в композицию.\n",
    "\n",
    "-----------\n",
    "PS: Если проверяющий не понял ответ на большинство вопросов, то будет пичалька. Пишите так, чтобы можно было разобраться. "
   ]
  },
  {
   "cell_type": "markdown",
   "metadata": {
    "collapsed": true
   },
   "source": [
    "<h1 align=\"center\">Boosting</h1> "
   ]
  },
  {
   "cell_type": "markdown",
   "metadata": {},
   "source": [
    "1) Задача 1 \n",
    "![](./img/task11.png)\n",
    "![](./img/task12.png)\n"
   ]
  },
  {
   "cell_type": "markdown",
   "metadata": {
    "collapsed": true
   },
   "source": [
    "Будем рассматривать $$f(x) = \\sum_{i = 1}^l \\alpha_i I\\{x \\in A_i\\}$$ -- кусочно постоянные функции, причем $$\\coprod_{i = 1}^l A_i = \\mathbb{R}$$\n",
    "\n",
    "Докажем по индукции, что через $n$ точек $(x_1, y_1), \\dots, (x_n, y_n)$ на плоскости xOy можно провести кусочно-постоянную функцию c $n$ непересекающимися $A_i$, причем $x_i \\in A_i$ и\n",
    "\n",
    "$$f(x) = \\sum_{i = 1}^n y_i I\\{x \\in A_i\\}$$\n",
    "\n",
    "\n",
    "База $l=1$. Пусть дана точка $(x_1, y_1)$ тогда подходит $f(x) = y_1 \\cdot I\\{x \\in \\mathbb{R}\\}$\n",
    "\n",
    "Пусть $l>1$. Рассмотрим $x_{(1)}, \\dots, x_{(l)}$ -- точки в порядке соритировки. Для $x_{(1)}, \\dots, x_{(l-1)}$ по предположению индукции есть кусочно постоянная \n",
    "\n",
    "$$f(x) = \\sum_{i = 1}^{l-1} y_{(i)} I\\{x \\in A_i \\}$$ и $x_{(i)} \\in A_i$. Так как $\\{x_{(i)}\\}$ в порядке сортировки и $A_i$ попарно не пересекаются, то $\\sup A_{(l-1)} = +\\infty$, значит можно разбить $A_{(l-1)} = A_{(l-1)}' \\cup A_{(l)}$, что $A_{(l-1)}' \\ni x_{(l-1)}$ и $A_{(l)} \\ni x_{(l)}$ Переобозначив $A_{(l-1)}'$ как $A_{(l-1)}$ получаем искомое разбиение.\n",
    "\n",
    "\n",
    "Теперь решим искомую задачу. Пусть также $x_1, \\dots, x_n$ отсортированы. Положим $\\gamma_1 = y_1$, $\\gamma_2 = y_2 - y_1$, $\\gamma_3 = y_3 - y_2$, $\\gamma_4 = y_4 - y_3$ и так далее. Проведем через $(x_1, 1), \\dots (x_l, l)$ кусочно постоянную функцию и положим $t_i = \\min_i \\inf A_i$. Тогда композиция решающих пней $[x \\geq t_i]$ с коэфициентами $\\gamma_i$ и будет искомой композицией, кроме того, в ней будет $l$ решающих пней.\n",
    "\n",
    "2) Найдите градиент логистичиской функции потерь для фиксированного объекта\n",
    "\n",
    "$$\\frac{d}{dz}\\log(1 + \\exp(-yz)) = \\frac{-y}{1 + \\exp{yz}}$$"
   ]
  },
  {
   "cell_type": "markdown",
   "metadata": {},
   "source": [
    "<h1 align=\"center\">Binary Boosting Implementation</h1> "
   ]
  },
  {
   "cell_type": "markdown",
   "metadata": {},
   "source": [
    "Нужно реализовать двухклассовый бустинг с логистичиской функцией потерь. \n",
    "\n",
    "Длину шага -- или используйте $1.0*lr$ или подбирайте одномерной оптимизацией;"
   ]
  },
  {
   "cell_type": "code",
   "execution_count": 178,
   "metadata": {
    "collapsed": false
   },
   "outputs": [
    {
     "name": "stdout",
     "output_type": "stream",
     "text": [
      "Populating the interactive namespace from numpy and matplotlib\n"
     ]
    }
   ],
   "source": [
    "%pylab inline\n",
    "\n",
    "import warnings\n",
    "import numpy as np\n",
    "import pandas as pd\n",
    "from copy import deepcopy\n",
    "from utils import plot_surface\n",
    "from sklearn.tree import DecisionTreeRegressor\n",
    "from sklearn.cross_validation import cross_val_score\n",
    "from sklearn.base import ClassifierMixin, BaseEstimator\n",
    "from sklearn.ensemble import GradientBoostingClassifier\n",
    "from sklearn.metrics import accuracy_score\n",
    "from scipy.optimize import minimize\n",
    "\n",
    "warnings.simplefilter(\"ignore\")"
   ]
  },
  {
   "cell_type": "code",
   "execution_count": 554,
   "metadata": {
    "collapsed": false
   },
   "outputs": [],
   "source": [
    "class BinaryBoostingClassifier(BaseEstimator, ClassifierMixin):\n",
    "    def __init__(self, n_estimators, lr=0.1):\n",
    "        self.lr = lr   \n",
    "        self.n_estimators = n_estimators\n",
    "    \n",
    "    def loss_grad(self, original_y, pred_y):\n",
    "        return -original_y / (1 + np.exp(original_y * pred_y))\n",
    "    \n",
    "    def loss(self, y_true, y_pred):\n",
    "        return np.sum(np.log(1 + np.exp(-y_true * y_pred)))\n",
    "        \n",
    "    def fit(self, X, original_y):\n",
    "        # Храните базовые алгоритмы тут\n",
    "        self.estimators_ = []\n",
    "        self.coefs_ = []\n",
    "        \n",
    "        \n",
    "        zero_est = DecisionTreeRegressor(max_depth=1)\n",
    "        zero_est.fit(X, np.zeros(original_y.shape))\n",
    "        self.estimators_.append(zero_est)\n",
    "        self.coefs_.append(1.0 * self.lr)\n",
    "        \n",
    "        \n",
    "        for i in range(self.n_estimators):\n",
    "            y_pred = self._predict(X)\n",
    "            grad = self.loss_grad(original_y, y_pred)\n",
    "            # Настройте базовый алгоритм на градиент, это классификация или регрессия?\n",
    "            estimator = DecisionTreeRegressor(max_depth=3)\n",
    "            estimator.fit(X, grad)\n",
    "            grad_estimated = estimator.predict(X)\n",
    "            \n",
    "            f = lambda alpha: self.loss(original_y, y_pred + alpha * grad_estimated)\n",
    "            f_grad = lambda alpha: self.loss_grad(original_y, y_pred + alpha * grad_estimated).dot(grad_estimated.reshape(-1, 1))\n",
    "            \n",
    "            ans = minimize(f, (0,), jac=f_grad)\n",
    "            #print(ans.x[0])\n",
    "            print(\"Norm grad: {}, loss func: {}, alpha min {}\".format(np.sqrt(np.sum(grad ** 2)), self.loss(original_y, y_pred), ans.x[0]))\n",
    "            \n",
    "            self.estimators_.append(estimator)\n",
    "            #self.coefs_.append(-1.0 * self.lr)\n",
    "            self.coefs_.append(ans.x[0])\n",
    "        \n",
    "        self.grad_abs_ = np.abs(grad)\n",
    "        self.out_ = self.outliers(self.grad_abs_)\n",
    "\n",
    "        return self\n",
    "\n",
    "    def _predict(self, X):\n",
    "        y_pred = np.zeros(len(X))\n",
    "        for est, coef in zip(self.estimators_, self.coefs_):\n",
    "            y_pred += coef * est.predict(X)\n",
    "        return y_pred\n",
    "    \n",
    "    def predict(self, X):\n",
    "        y_pred = self._predict(X)\n",
    "        return y_pred > 0\n",
    "    \n",
    "    def outliers(self, grad):\n",
    "        return np.argsort(grad)[:-10:-1]"
   ]
  },
  {
   "cell_type": "markdown",
   "metadata": {},
   "source": [
    "<h1 align=\"center\">Simple test</h1> "
   ]
  },
  {
   "cell_type": "code",
   "execution_count": 555,
   "metadata": {
    "collapsed": false
   },
   "outputs": [],
   "source": [
    "import matplotlib.pyplot as plt\n",
    "from sklearn.datasets import make_classification\n",
    "\n",
    "X, y = make_classification(n_samples=500, n_features=2,\n",
    "                           n_informative=2, n_redundant=0, n_repeated=0,\n",
    "                           n_classes=2, n_clusters_per_class=2,\n",
    "                           flip_y=0.05, class_sep=0.8, random_state=241)\n",
    "y = 2*(y-0.5)"
   ]
  },
  {
   "cell_type": "code",
   "execution_count": 556,
   "metadata": {
    "collapsed": false,
    "scrolled": false
   },
   "outputs": [
    {
     "name": "stdout",
     "output_type": "stream",
     "text": [
      "Norm grad: 11.1803398875, loss func: 346.57359028, alpha min -5.45913127324\n",
      "Norm grad: 8.06237688425, loss func: 207.317563181, alpha min -6.93077056677\n",
      "Norm grad: 7.66902982893, loss func: 190.292275912, alpha min -5.3813811553\n",
      "Norm grad: 7.06703745768, loss func: 167.584809152, alpha min -17.024309054\n",
      "Norm grad: 6.79755178494, loss func: 155.137825733, alpha min -9.57064408461\n",
      "Norm grad: 6.3384249507, loss func: 137.684532922, alpha min -11.628530604\n",
      "Norm grad: 6.18729665014, loss func: 131.033017123, alpha min -10.4838788131\n",
      "Norm grad: 5.99702328834, loss func: 124.5599124, alpha min -14.0309644046\n",
      "Norm grad: 5.67659426004, loss func: 113.152451271, alpha min -7.95327628159\n",
      "Norm grad: 5.49322187895, loss func: 108.341606773, alpha min -9.9921330865\n",
      "Norm grad: 5.24172999335, loss func: 100.472140829, alpha min -10.5552212678\n",
      "Norm grad: 4.95398165761, loss func: 90.4228652012, alpha min -13.0039654557\n",
      "Norm grad: 4.71047066867, loss func: 83.049079064, alpha min -14.9468001473\n",
      "Norm grad: 4.48315225288, loss func: 76.3818317064, alpha min -6.40949499907\n",
      "Norm grad: 4.22606802285, loss func: 68.4258555579, alpha min -14.2849576587\n",
      "Norm grad: 3.88449021095, loss func: 59.9039728027, alpha min -22.8295945859\n",
      "Norm grad: 3.77645208292, loss func: 55.4530537416, alpha min -18.5798604384\n",
      "Norm grad: 3.52922886296, loss func: 49.9125968923, alpha min -8.78093408244\n",
      "Norm grad: 3.32439672469, loss func: 46.4793455636, alpha min -19.6924356755\n",
      "Norm grad: 3.19220182404, loss func: 43.1788570962, alpha min -15.5303829923\n",
      "Norm grad: 2.89222393647, loss func: 37.1218685562, alpha min -20.651862424\n",
      "Norm grad: 2.74991742504, loss func: 35.0578510209, alpha min -10.972042267\n",
      "Norm grad: 2.60432869472, loss func: 32.6043527691, alpha min -40.8504516009\n",
      "Norm grad: 2.41893036622, loss func: 28.889504164, alpha min -16.3717486111\n",
      "Norm grad: 2.16910501328, loss func: 25.8183376442, alpha min -37.9698623315\n",
      "Norm grad: 1.99624312767, loss func: 21.778738233, alpha min -31.354156486\n",
      "Norm grad: 1.8157843725, loss func: 19.5203358813, alpha min -43.1891706035\n",
      "Norm grad: 1.46233501636, loss func: 15.527406272, alpha min -52.2584117431\n",
      "Norm grad: 1.3380317466, loss func: 13.4633414755, alpha min -38.5550045389\n",
      "Norm grad: 1.15674525878, loss func: 12.1531012753, alpha min -27.7889107349\n",
      "Norm grad: 1.12435466773, loss func: 11.4249089582, alpha min -48.4797056945\n",
      "Norm grad: 0.949519410831, loss func: 9.95982170333, alpha min -46.2884899489\n",
      "Norm grad: 0.858406880578, loss func: 8.03060516732, alpha min -304.888608278\n",
      "Norm grad: 0.795374139111, loss func: 7.27909282521, alpha min -17.8046247703\n",
      "Norm grad: 0.655042342352, loss func: 6.48077204414, alpha min -94.4630469497\n",
      "Norm grad: 0.611667076186, loss func: 5.83708712781, alpha min -65.670396596\n",
      "Norm grad: 0.593595865487, loss func: 5.58359481859, alpha min -125.364530161\n",
      "Norm grad: 0.563360521853, loss func: 4.52089188278, alpha min -73.1434454692\n",
      "Norm grad: 0.431028366962, loss func: 3.76407231266, alpha min -62.8569777512\n",
      "Norm grad: 0.337298736385, loss func: 3.23644113942, alpha min -171.060410964\n",
      "Norm grad: 0.28146178924, loss func: 2.759008241, alpha min -152.746664682\n",
      "Norm grad: 0.223384195411, loss func: 2.20783305337, alpha min -161.969121299\n",
      "Norm grad: 0.216961897534, loss func: 2.03728657294, alpha min -379.457481743\n",
      "Norm grad: 0.226567877985, loss func: 1.78288105336, alpha min -369.6157661\n",
      "Norm grad: 0.170658563603, loss func: 1.47242770105, alpha min -240.452407259\n",
      "Norm grad: 0.141708909543, loss func: 1.25720175002, alpha min -370.973763745\n",
      "Norm grad: 0.136359531705, loss func: 1.16997523619, alpha min -439.615418592\n",
      "Norm grad: 0.117661177958, loss func: 1.00692154948, alpha min -778.315026219\n",
      "Norm grad: 0.115133256532, loss func: 0.869231558593, alpha min -563.47638832\n",
      "Norm grad: 0.0985491664741, loss func: 0.753031293589, alpha min -375.461959179\n",
      "Norm grad: 0.0778947897499, loss func: 0.654127216403, alpha min -986.631641314\n",
      "Norm grad: 0.0585755725233, loss func: 0.531825911152, alpha min -1195.71947106\n",
      "Norm grad: 0.05142383634, loss func: 0.436941992983, alpha min -914.376642367\n",
      "Norm grad: 0.044139042393, loss func: 0.373362775685, alpha min -536.653852248\n",
      "Norm grad: 0.0389684922774, loss func: 0.337134984973, alpha min -1016.66657807\n",
      "Norm grad: 0.0359234737037, loss func: 0.294769735246, alpha min -1062.66441569\n",
      "Norm grad: 0.0344899789639, loss func: 0.266380955516, alpha min -1073.99102377\n",
      "Norm grad: 0.0258936971503, loss func: 0.226626222987, alpha min -850.117630057\n",
      "Norm grad: 0.0232679539276, loss func: 0.202557707949, alpha min -1085.21243491\n",
      "Norm grad: 0.0199837780231, loss func: 0.181920033564, alpha min -444.520814843\n",
      "Norm grad: 0.0185714754168, loss func: 0.172626894798, alpha min -1080.49261051\n",
      "Norm grad: 0.0157127178057, loss func: 0.148917580995, alpha min -1321.61897557\n",
      "Norm grad: 0.0149416324689, loss func: 0.133799596635, alpha min -606.181047189\n",
      "Norm grad: 0.0133487022945, loss func: 0.123134031465, alpha min -225.068434525\n",
      "Norm grad: 0.013178235034, loss func: 0.12116381066, alpha min 0.0\n",
      "Norm grad: 0.013178235034, loss func: 0.12116381066, alpha min 0.0\n",
      "Norm grad: 0.013178235034, loss func: 0.12116381066, alpha min 0.0\n",
      "Norm grad: 0.013178235034, loss func: 0.12116381066, alpha min 0.0\n",
      "Norm grad: 0.013178235034, loss func: 0.12116381066, alpha min 0.0\n",
      "Norm grad: 0.013178235034, loss func: 0.12116381066, alpha min 0.0\n",
      "Norm grad: 0.013178235034, loss func: 0.12116381066, alpha min 0.0\n",
      "Norm grad: 0.013178235034, loss func: 0.12116381066, alpha min 0.0\n",
      "Norm grad: 0.013178235034, loss func: 0.12116381066, alpha min 0.0\n",
      "Norm grad: 0.013178235034, loss func: 0.12116381066, alpha min 0.0\n",
      "Norm grad: 0.013178235034, loss func: 0.12116381066, alpha min 0.0\n",
      "Norm grad: 0.013178235034, loss func: 0.12116381066, alpha min 0.0\n",
      "Norm grad: 0.013178235034, loss func: 0.12116381066, alpha min 0.0\n",
      "Norm grad: 0.013178235034, loss func: 0.12116381066, alpha min 0.0\n",
      "Norm grad: 0.013178235034, loss func: 0.12116381066, alpha min 0.0\n",
      "Norm grad: 0.013178235034, loss func: 0.12116381066, alpha min 0.0\n",
      "Norm grad: 0.013178235034, loss func: 0.12116381066, alpha min 0.0\n",
      "Norm grad: 0.013178235034, loss func: 0.12116381066, alpha min 0.0\n",
      "Norm grad: 0.013178235034, loss func: 0.12116381066, alpha min 0.0\n",
      "Norm grad: 0.013178235034, loss func: 0.12116381066, alpha min 0.0\n",
      "Norm grad: 0.013178235034, loss func: 0.12116381066, alpha min 0.0\n",
      "Norm grad: 0.013178235034, loss func: 0.12116381066, alpha min 0.0\n",
      "Norm grad: 0.013178235034, loss func: 0.12116381066, alpha min 0.0\n",
      "Norm grad: 0.013178235034, loss func: 0.12116381066, alpha min 0.0\n",
      "Norm grad: 0.013178235034, loss func: 0.12116381066, alpha min 0.0\n",
      "Norm grad: 0.013178235034, loss func: 0.12116381066, alpha min 0.0\n",
      "Norm grad: 0.013178235034, loss func: 0.12116381066, alpha min 0.0\n",
      "Norm grad: 0.013178235034, loss func: 0.12116381066, alpha min 0.0\n",
      "Norm grad: 0.013178235034, loss func: 0.12116381066, alpha min 0.0\n",
      "Norm grad: 0.013178235034, loss func: 0.12116381066, alpha min 0.0\n",
      "Norm grad: 0.013178235034, loss func: 0.12116381066, alpha min 0.0\n",
      "Norm grad: 0.013178235034, loss func: 0.12116381066, alpha min 0.0\n",
      "Norm grad: 0.013178235034, loss func: 0.12116381066, alpha min 0.0\n",
      "Norm grad: 0.013178235034, loss func: 0.12116381066, alpha min 0.0\n",
      "Norm grad: 0.013178235034, loss func: 0.12116381066, alpha min 0.0\n",
      "Norm grad: 0.013178235034, loss func: 0.12116381066, alpha min 0.0\n",
      "Norm grad: 0.013178235034, loss func: 0.12116381066, alpha min 0.0\n",
      "Norm grad: 0.013178235034, loss func: 0.12116381066, alpha min 0.0\n",
      "Norm grad: 0.013178235034, loss func: 0.12116381066, alpha min 0.0\n",
      "Norm grad: 0.013178235034, loss func: 0.12116381066, alpha min 0.0\n",
      "Norm grad: 0.013178235034, loss func: 0.12116381066, alpha min 0.0\n",
      "Norm grad: 0.013178235034, loss func: 0.12116381066, alpha min 0.0\n",
      "Norm grad: 0.013178235034, loss func: 0.12116381066, alpha min 0.0\n",
      "Norm grad: 0.013178235034, loss func: 0.12116381066, alpha min 0.0\n",
      "Norm grad: 0.013178235034, loss func: 0.12116381066, alpha min 0.0\n",
      "Norm grad: 0.013178235034, loss func: 0.12116381066, alpha min 0.0\n",
      "Norm grad: 0.013178235034, loss func: 0.12116381066, alpha min 0.0\n",
      "Norm grad: 0.013178235034, loss func: 0.12116381066, alpha min 0.0\n",
      "Norm grad: 0.013178235034, loss func: 0.12116381066, alpha min 0.0\n",
      "Norm grad: 0.013178235034, loss func: 0.12116381066, alpha min 0.0\n",
      "Norm grad: 0.013178235034, loss func: 0.12116381066, alpha min 0.0\n",
      "Norm grad: 0.013178235034, loss func: 0.12116381066, alpha min 0.0\n",
      "Norm grad: 0.013178235034, loss func: 0.12116381066, alpha min 0.0\n",
      "Norm grad: 0.013178235034, loss func: 0.12116381066, alpha min 0.0\n",
      "Norm grad: 0.013178235034, loss func: 0.12116381066, alpha min 0.0\n",
      "Norm grad: 0.013178235034, loss func: 0.12116381066, alpha min 0.0\n",
      "Norm grad: 0.013178235034, loss func: 0.12116381066, alpha min 0.0\n",
      "Norm grad: 0.013178235034, loss func: 0.12116381066, alpha min 0.0\n",
      "Norm grad: 0.013178235034, loss func: 0.12116381066, alpha min 0.0\n",
      "Norm grad: 0.013178235034, loss func: 0.12116381066, alpha min 0.0\n",
      "Norm grad: 0.013178235034, loss func: 0.12116381066, alpha min 0.0\n",
      "Norm grad: 0.013178235034, loss func: 0.12116381066, alpha min 0.0\n",
      "Norm grad: 0.013178235034, loss func: 0.12116381066, alpha min 0.0\n",
      "Norm grad: 0.013178235034, loss func: 0.12116381066, alpha min 0.0\n",
      "Norm grad: 0.013178235034, loss func: 0.12116381066, alpha min 0.0\n",
      "Norm grad: 0.013178235034, loss func: 0.12116381066, alpha min 0.0\n",
      "Norm grad: 0.013178235034, loss func: 0.12116381066, alpha min 0.0\n",
      "Norm grad: 0.013178235034, loss func: 0.12116381066, alpha min 0.0\n",
      "Norm grad: 0.013178235034, loss func: 0.12116381066, alpha min 0.0\n",
      "Norm grad: 0.013178235034, loss func: 0.12116381066, alpha min 0.0\n",
      "Norm grad: 0.013178235034, loss func: 0.12116381066, alpha min 0.0\n",
      "Norm grad: 0.013178235034, loss func: 0.12116381066, alpha min 0.0\n",
      "Norm grad: 0.013178235034, loss func: 0.12116381066, alpha min 0.0\n",
      "Norm grad: 0.013178235034, loss func: 0.12116381066, alpha min 0.0\n",
      "Norm grad: 0.013178235034, loss func: 0.12116381066, alpha min 0.0\n",
      "Norm grad: 0.013178235034, loss func: 0.12116381066, alpha min 0.0\n",
      "Norm grad: 0.013178235034, loss func: 0.12116381066, alpha min 0.0\n",
      "Norm grad: 0.013178235034, loss func: 0.12116381066, alpha min 0.0\n",
      "Norm grad: 0.013178235034, loss func: 0.12116381066, alpha min 0.0\n",
      "Norm grad: 0.013178235034, loss func: 0.12116381066, alpha min 0.0\n",
      "Norm grad: 0.013178235034, loss func: 0.12116381066, alpha min 0.0\n",
      "Norm grad: 0.013178235034, loss func: 0.12116381066, alpha min 0.0\n",
      "Norm grad: 0.013178235034, loss func: 0.12116381066, alpha min 0.0\n",
      "Norm grad: 0.013178235034, loss func: 0.12116381066, alpha min 0.0\n",
      "Norm grad: 0.013178235034, loss func: 0.12116381066, alpha min 0.0\n",
      "Norm grad: 0.013178235034, loss func: 0.12116381066, alpha min 0.0\n",
      "Norm grad: 0.013178235034, loss func: 0.12116381066, alpha min 0.0\n",
      "Norm grad: 0.013178235034, loss func: 0.12116381066, alpha min 0.0\n",
      "Norm grad: 0.013178235034, loss func: 0.12116381066, alpha min 0.0\n",
      "Norm grad: 0.013178235034, loss func: 0.12116381066, alpha min 0.0\n",
      "Norm grad: 0.013178235034, loss func: 0.12116381066, alpha min 0.0\n",
      "Norm grad: 0.013178235034, loss func: 0.12116381066, alpha min 0.0\n",
      "Norm grad: 0.013178235034, loss func: 0.12116381066, alpha min 0.0\n",
      "Norm grad: 0.013178235034, loss func: 0.12116381066, alpha min 0.0\n",
      "Norm grad: 0.013178235034, loss func: 0.12116381066, alpha min 0.0\n",
      "Norm grad: 0.013178235034, loss func: 0.12116381066, alpha min 0.0\n",
      "Norm grad: 0.013178235034, loss func: 0.12116381066, alpha min 0.0\n",
      "Norm grad: 0.013178235034, loss func: 0.12116381066, alpha min 0.0\n",
      "Norm grad: 0.013178235034, loss func: 0.12116381066, alpha min 0.0\n",
      "Norm grad: 0.013178235034, loss func: 0.12116381066, alpha min 0.0\n",
      "Norm grad: 0.013178235034, loss func: 0.12116381066, alpha min 0.0\n",
      "Norm grad: 0.013178235034, loss func: 0.12116381066, alpha min 0.0\n",
      "Norm grad: 0.013178235034, loss func: 0.12116381066, alpha min 0.0\n",
      "Norm grad: 0.013178235034, loss func: 0.12116381066, alpha min 0.0\n",
      "Norm grad: 0.013178235034, loss func: 0.12116381066, alpha min 0.0\n",
      "Norm grad: 0.013178235034, loss func: 0.12116381066, alpha min 0.0\n",
      "Norm grad: 0.013178235034, loss func: 0.12116381066, alpha min 0.0\n",
      "Norm grad: 0.013178235034, loss func: 0.12116381066, alpha min 0.0\n",
      "Norm grad: 0.013178235034, loss func: 0.12116381066, alpha min 0.0\n",
      "Norm grad: 0.013178235034, loss func: 0.12116381066, alpha min 0.0\n",
      "Norm grad: 0.013178235034, loss func: 0.12116381066, alpha min 0.0\n",
      "Norm grad: 0.013178235034, loss func: 0.12116381066, alpha min 0.0\n",
      "Norm grad: 0.013178235034, loss func: 0.12116381066, alpha min 0.0\n",
      "Norm grad: 0.013178235034, loss func: 0.12116381066, alpha min 0.0\n",
      "Norm grad: 0.013178235034, loss func: 0.12116381066, alpha min 0.0\n",
      "Norm grad: 0.013178235034, loss func: 0.12116381066, alpha min 0.0\n",
      "Norm grad: 0.013178235034, loss func: 0.12116381066, alpha min 0.0\n",
      "Norm grad: 0.013178235034, loss func: 0.12116381066, alpha min 0.0\n",
      "Norm grad: 0.013178235034, loss func: 0.12116381066, alpha min 0.0\n",
      "Norm grad: 0.013178235034, loss func: 0.12116381066, alpha min 0.0\n",
      "Norm grad: 0.013178235034, loss func: 0.12116381066, alpha min 0.0\n",
      "Norm grad: 0.013178235034, loss func: 0.12116381066, alpha min 0.0\n",
      "Norm grad: 0.013178235034, loss func: 0.12116381066, alpha min 0.0\n",
      "Norm grad: 0.013178235034, loss func: 0.12116381066, alpha min 0.0\n",
      "Norm grad: 0.013178235034, loss func: 0.12116381066, alpha min 0.0\n",
      "Norm grad: 0.013178235034, loss func: 0.12116381066, alpha min 0.0\n",
      "Norm grad: 0.013178235034, loss func: 0.12116381066, alpha min 0.0\n",
      "Norm grad: 0.013178235034, loss func: 0.12116381066, alpha min 0.0\n",
      "Norm grad: 0.013178235034, loss func: 0.12116381066, alpha min 0.0\n",
      "Norm grad: 0.013178235034, loss func: 0.12116381066, alpha min 0.0\n",
      "Norm grad: 0.013178235034, loss func: 0.12116381066, alpha min 0.0\n",
      "Norm grad: 0.013178235034, loss func: 0.12116381066, alpha min 0.0\n",
      "Norm grad: 0.013178235034, loss func: 0.12116381066, alpha min 0.0\n",
      "Norm grad: 0.013178235034, loss func: 0.12116381066, alpha min 0.0\n",
      "Norm grad: 0.013178235034, loss func: 0.12116381066, alpha min 0.0\n",
      "Norm grad: 0.013178235034, loss func: 0.12116381066, alpha min 0.0\n",
      "Norm grad: 0.013178235034, loss func: 0.12116381066, alpha min 0.0\n",
      "Norm grad: 0.013178235034, loss func: 0.12116381066, alpha min 0.0\n",
      "Norm grad: 0.013178235034, loss func: 0.12116381066, alpha min 0.0\n",
      "Norm grad: 0.013178235034, loss func: 0.12116381066, alpha min 0.0\n",
      "Norm grad: 0.013178235034, loss func: 0.12116381066, alpha min 0.0\n",
      "Norm grad: 0.013178235034, loss func: 0.12116381066, alpha min 0.0\n",
      "Norm grad: 0.013178235034, loss func: 0.12116381066, alpha min 0.0\n",
      "Norm grad: 0.013178235034, loss func: 0.12116381066, alpha min 0.0\n",
      "Norm grad: 0.013178235034, loss func: 0.12116381066, alpha min 0.0\n",
      "Norm grad: 0.013178235034, loss func: 0.12116381066, alpha min 0.0\n",
      "Norm grad: 0.013178235034, loss func: 0.12116381066, alpha min 0.0\n",
      "Norm grad: 0.013178235034, loss func: 0.12116381066, alpha min 0.0\n",
      "Norm grad: 0.013178235034, loss func: 0.12116381066, alpha min 0.0\n",
      "Norm grad: 0.013178235034, loss func: 0.12116381066, alpha min 0.0\n",
      "Norm grad: 0.013178235034, loss func: 0.12116381066, alpha min 0.0\n",
      "Norm grad: 0.013178235034, loss func: 0.12116381066, alpha min 0.0\n",
      "Norm grad: 0.013178235034, loss func: 0.12116381066, alpha min 0.0\n",
      "Norm grad: 0.013178235034, loss func: 0.12116381066, alpha min 0.0\n",
      "Norm grad: 0.013178235034, loss func: 0.12116381066, alpha min 0.0\n",
      "Norm grad: 0.013178235034, loss func: 0.12116381066, alpha min 0.0\n",
      "Norm grad: 0.013178235034, loss func: 0.12116381066, alpha min 0.0\n",
      "Norm grad: 0.013178235034, loss func: 0.12116381066, alpha min 0.0\n",
      "Norm grad: 0.013178235034, loss func: 0.12116381066, alpha min 0.0\n",
      "Norm grad: 0.013178235034, loss func: 0.12116381066, alpha min 0.0\n",
      "Norm grad: 0.013178235034, loss func: 0.12116381066, alpha min 0.0\n",
      "Norm grad: 0.013178235034, loss func: 0.12116381066, alpha min 0.0\n",
      "Norm grad: 0.013178235034, loss func: 0.12116381066, alpha min 0.0\n",
      "Norm grad: 0.013178235034, loss func: 0.12116381066, alpha min 0.0\n",
      "Norm grad: 0.013178235034, loss func: 0.12116381066, alpha min 0.0\n",
      "Norm grad: 0.013178235034, loss func: 0.12116381066, alpha min 0.0\n",
      "Norm grad: 0.013178235034, loss func: 0.12116381066, alpha min 0.0\n",
      "Norm grad: 0.013178235034, loss func: 0.12116381066, alpha min 0.0\n",
      "Norm grad: 0.013178235034, loss func: 0.12116381066, alpha min 0.0\n",
      "Norm grad: 0.013178235034, loss func: 0.12116381066, alpha min 0.0\n",
      "Norm grad: 0.013178235034, loss func: 0.12116381066, alpha min 0.0\n",
      "Norm grad: 0.013178235034, loss func: 0.12116381066, alpha min 0.0\n",
      "Norm grad: 0.013178235034, loss func: 0.12116381066, alpha min 0.0\n",
      "Norm grad: 0.013178235034, loss func: 0.12116381066, alpha min 0.0\n",
      "Norm grad: 0.013178235034, loss func: 0.12116381066, alpha min 0.0\n",
      "Norm grad: 0.013178235034, loss func: 0.12116381066, alpha min 0.0\n",
      "Norm grad: 0.013178235034, loss func: 0.12116381066, alpha min 0.0\n",
      "Norm grad: 0.013178235034, loss func: 0.12116381066, alpha min 0.0\n",
      "Norm grad: 0.013178235034, loss func: 0.12116381066, alpha min 0.0\n",
      "Norm grad: 0.013178235034, loss func: 0.12116381066, alpha min 0.0\n",
      "Norm grad: 0.013178235034, loss func: 0.12116381066, alpha min 0.0\n",
      "Norm grad: 0.013178235034, loss func: 0.12116381066, alpha min 0.0\n",
      "Norm grad: 0.013178235034, loss func: 0.12116381066, alpha min 0.0\n",
      "Norm grad: 0.013178235034, loss func: 0.12116381066, alpha min 0.0\n",
      "Norm grad: 0.013178235034, loss func: 0.12116381066, alpha min 0.0\n",
      "Norm grad: 0.013178235034, loss func: 0.12116381066, alpha min 0.0\n",
      "Norm grad: 0.013178235034, loss func: 0.12116381066, alpha min 0.0\n",
      "Norm grad: 0.013178235034, loss func: 0.12116381066, alpha min 0.0\n",
      "Norm grad: 0.013178235034, loss func: 0.12116381066, alpha min 0.0\n",
      "Norm grad: 0.013178235034, loss func: 0.12116381066, alpha min 0.0\n",
      "Norm grad: 0.013178235034, loss func: 0.12116381066, alpha min 0.0\n",
      "Norm grad: 0.013178235034, loss func: 0.12116381066, alpha min 0.0\n",
      "Norm grad: 0.013178235034, loss func: 0.12116381066, alpha min 0.0\n",
      "Norm grad: 0.013178235034, loss func: 0.12116381066, alpha min 0.0\n",
      "Norm grad: 0.013178235034, loss func: 0.12116381066, alpha min 0.0\n",
      "Norm grad: 0.013178235034, loss func: 0.12116381066, alpha min 0.0\n",
      "Norm grad: 0.013178235034, loss func: 0.12116381066, alpha min 0.0\n",
      "Norm grad: 0.013178235034, loss func: 0.12116381066, alpha min 0.0\n",
      "Norm grad: 0.013178235034, loss func: 0.12116381066, alpha min 0.0\n",
      "Norm grad: 0.013178235034, loss func: 0.12116381066, alpha min 0.0\n",
      "Norm grad: 0.013178235034, loss func: 0.12116381066, alpha min 0.0\n",
      "Norm grad: 0.013178235034, loss func: 0.12116381066, alpha min 0.0\n",
      "Norm grad: 0.013178235034, loss func: 0.12116381066, alpha min 0.0\n",
      "Norm grad: 0.013178235034, loss func: 0.12116381066, alpha min 0.0\n",
      "Norm grad: 0.013178235034, loss func: 0.12116381066, alpha min 0.0\n",
      "Norm grad: 0.013178235034, loss func: 0.12116381066, alpha min 0.0\n",
      "Norm grad: 0.013178235034, loss func: 0.12116381066, alpha min 0.0\n",
      "Norm grad: 0.013178235034, loss func: 0.12116381066, alpha min 0.0\n",
      "Norm grad: 0.013178235034, loss func: 0.12116381066, alpha min 0.0\n",
      "Norm grad: 0.013178235034, loss func: 0.12116381066, alpha min 0.0\n",
      "Norm grad: 0.013178235034, loss func: 0.12116381066, alpha min 0.0\n",
      "Norm grad: 0.013178235034, loss func: 0.12116381066, alpha min 0.0\n",
      "Norm grad: 0.013178235034, loss func: 0.12116381066, alpha min 0.0\n",
      "Norm grad: 0.013178235034, loss func: 0.12116381066, alpha min 0.0\n",
      "Norm grad: 0.013178235034, loss func: 0.12116381066, alpha min 0.0\n",
      "Norm grad: 0.013178235034, loss func: 0.12116381066, alpha min 0.0\n",
      "Norm grad: 0.013178235034, loss func: 0.12116381066, alpha min 0.0\n",
      "Norm grad: 0.013178235034, loss func: 0.12116381066, alpha min 0.0\n",
      "Norm grad: 0.013178235034, loss func: 0.12116381066, alpha min 0.0\n",
      "Norm grad: 0.013178235034, loss func: 0.12116381066, alpha min 0.0\n",
      "Norm grad: 0.013178235034, loss func: 0.12116381066, alpha min 0.0\n",
      "Norm grad: 0.013178235034, loss func: 0.12116381066, alpha min 0.0\n",
      "Norm grad: 0.013178235034, loss func: 0.12116381066, alpha min 0.0\n",
      "Norm grad: 0.013178235034, loss func: 0.12116381066, alpha min 0.0\n",
      "Norm grad: 0.013178235034, loss func: 0.12116381066, alpha min 0.0\n",
      "Norm grad: 0.013178235034, loss func: 0.12116381066, alpha min 0.0\n",
      "Norm grad: 0.013178235034, loss func: 0.12116381066, alpha min 0.0\n",
      "Norm grad: 0.013178235034, loss func: 0.12116381066, alpha min 0.0\n",
      "Norm grad: 0.013178235034, loss func: 0.12116381066, alpha min 0.0\n",
      "Norm grad: 0.013178235034, loss func: 0.12116381066, alpha min 0.0\n",
      "Norm grad: 0.013178235034, loss func: 0.12116381066, alpha min 0.0\n",
      "Norm grad: 0.013178235034, loss func: 0.12116381066, alpha min 0.0\n",
      "Norm grad: 0.013178235034, loss func: 0.12116381066, alpha min 0.0\n",
      "Norm grad: 0.013178235034, loss func: 0.12116381066, alpha min 0.0\n",
      "Norm grad: 0.013178235034, loss func: 0.12116381066, alpha min 0.0\n",
      "Norm grad: 0.013178235034, loss func: 0.12116381066, alpha min 0.0\n",
      "Norm grad: 0.013178235034, loss func: 0.12116381066, alpha min 0.0\n",
      "Norm grad: 0.013178235034, loss func: 0.12116381066, alpha min 0.0\n",
      "Norm grad: 0.013178235034, loss func: 0.12116381066, alpha min 0.0\n",
      "Norm grad: 0.013178235034, loss func: 0.12116381066, alpha min 0.0\n",
      "Norm grad: 0.013178235034, loss func: 0.12116381066, alpha min 0.0\n",
      "Norm grad: 0.013178235034, loss func: 0.12116381066, alpha min 0.0\n",
      "Norm grad: 0.013178235034, loss func: 0.12116381066, alpha min 0.0\n",
      "Norm grad: 0.013178235034, loss func: 0.12116381066, alpha min 0.0\n",
      "Norm grad: 0.013178235034, loss func: 0.12116381066, alpha min 0.0\n",
      "Norm grad: 0.013178235034, loss func: 0.12116381066, alpha min 0.0\n",
      "Norm grad: 0.013178235034, loss func: 0.12116381066, alpha min 0.0\n",
      "Norm grad: 0.013178235034, loss func: 0.12116381066, alpha min 0.0\n",
      "Norm grad: 0.013178235034, loss func: 0.12116381066, alpha min 0.0\n",
      "Norm grad: 0.013178235034, loss func: 0.12116381066, alpha min 0.0\n",
      "Norm grad: 0.013178235034, loss func: 0.12116381066, alpha min 0.0\n",
      "Norm grad: 0.013178235034, loss func: 0.12116381066, alpha min 0.0\n",
      "Norm grad: 0.013178235034, loss func: 0.12116381066, alpha min 0.0\n",
      "Norm grad: 0.013178235034, loss func: 0.12116381066, alpha min 0.0\n",
      "Norm grad: 0.013178235034, loss func: 0.12116381066, alpha min 0.0\n",
      "Norm grad: 0.013178235034, loss func: 0.12116381066, alpha min 0.0\n",
      "Norm grad: 0.013178235034, loss func: 0.12116381066, alpha min 0.0\n",
      "Norm grad: 0.013178235034, loss func: 0.12116381066, alpha min 0.0\n",
      "Norm grad: 0.013178235034, loss func: 0.12116381066, alpha min 0.0\n",
      "Norm grad: 0.013178235034, loss func: 0.12116381066, alpha min 0.0\n",
      "Norm grad: 0.013178235034, loss func: 0.12116381066, alpha min 0.0\n",
      "Norm grad: 0.013178235034, loss func: 0.12116381066, alpha min 0.0\n",
      "Norm grad: 0.013178235034, loss func: 0.12116381066, alpha min 0.0\n",
      "Norm grad: 0.013178235034, loss func: 0.12116381066, alpha min 0.0\n",
      "Norm grad: 0.013178235034, loss func: 0.12116381066, alpha min 0.0\n",
      "Norm grad: 0.013178235034, loss func: 0.12116381066, alpha min 0.0\n",
      "Norm grad: 0.013178235034, loss func: 0.12116381066, alpha min 0.0\n",
      "Norm grad: 0.013178235034, loss func: 0.12116381066, alpha min 0.0\n",
      "Norm grad: 0.013178235034, loss func: 0.12116381066, alpha min 0.0\n",
      "Norm grad: 0.013178235034, loss func: 0.12116381066, alpha min 0.0\n",
      "Norm grad: 0.013178235034, loss func: 0.12116381066, alpha min 0.0\n",
      "Norm grad: 0.013178235034, loss func: 0.12116381066, alpha min 0.0\n",
      "Norm grad: 0.013178235034, loss func: 0.12116381066, alpha min 0.0\n",
      "Norm grad: 0.013178235034, loss func: 0.12116381066, alpha min 0.0\n",
      "Norm grad: 0.013178235034, loss func: 0.12116381066, alpha min 0.0\n",
      "Norm grad: 0.013178235034, loss func: 0.12116381066, alpha min 0.0\n",
      "Norm grad: 0.013178235034, loss func: 0.12116381066, alpha min 0.0\n",
      "Norm grad: 0.013178235034, loss func: 0.12116381066, alpha min 0.0\n",
      "Norm grad: 0.013178235034, loss func: 0.12116381066, alpha min 0.0\n",
      "Norm grad: 0.013178235034, loss func: 0.12116381066, alpha min 0.0\n",
      "Norm grad: 0.013178235034, loss func: 0.12116381066, alpha min 0.0\n",
      "Norm grad: 0.013178235034, loss func: 0.12116381066, alpha min 0.0\n",
      "Norm grad: 0.013178235034, loss func: 0.12116381066, alpha min 0.0\n",
      "Norm grad: 0.013178235034, loss func: 0.12116381066, alpha min 0.0\n",
      "Norm grad: 0.013178235034, loss func: 0.12116381066, alpha min 0.0\n",
      "Norm grad: 0.013178235034, loss func: 0.12116381066, alpha min 0.0\n",
      "Norm grad: 0.013178235034, loss func: 0.12116381066, alpha min 0.0\n",
      "Norm grad: 0.013178235034, loss func: 0.12116381066, alpha min 0.0\n",
      "Norm grad: 0.013178235034, loss func: 0.12116381066, alpha min 0.0\n",
      "Norm grad: 0.013178235034, loss func: 0.12116381066, alpha min 0.0\n",
      "Norm grad: 0.013178235034, loss func: 0.12116381066, alpha min 0.0\n",
      "Norm grad: 0.013178235034, loss func: 0.12116381066, alpha min 0.0\n",
      "Norm grad: 0.013178235034, loss func: 0.12116381066, alpha min 0.0\n",
      "Norm grad: 0.013178235034, loss func: 0.12116381066, alpha min 0.0\n",
      "Norm grad: 0.013178235034, loss func: 0.12116381066, alpha min 0.0\n",
      "Norm grad: 0.013178235034, loss func: 0.12116381066, alpha min 0.0\n",
      "Norm grad: 0.013178235034, loss func: 0.12116381066, alpha min 0.0\n",
      "Norm grad: 0.013178235034, loss func: 0.12116381066, alpha min 0.0\n",
      "Norm grad: 0.013178235034, loss func: 0.12116381066, alpha min 0.0\n",
      "Norm grad: 0.013178235034, loss func: 0.12116381066, alpha min 0.0\n",
      "Norm grad: 0.013178235034, loss func: 0.12116381066, alpha min 0.0\n",
      "Norm grad: 0.013178235034, loss func: 0.12116381066, alpha min 0.0\n",
      "Norm grad: 0.013178235034, loss func: 0.12116381066, alpha min 0.0\n",
      "Norm grad: 0.013178235034, loss func: 0.12116381066, alpha min 0.0\n",
      "Norm grad: 0.013178235034, loss func: 0.12116381066, alpha min 0.0\n",
      "Norm grad: 0.013178235034, loss func: 0.12116381066, alpha min 0.0\n",
      "Norm grad: 0.013178235034, loss func: 0.12116381066, alpha min 0.0\n",
      "Norm grad: 0.013178235034, loss func: 0.12116381066, alpha min 0.0\n",
      "Norm grad: 0.013178235034, loss func: 0.12116381066, alpha min 0.0\n",
      "Norm grad: 0.013178235034, loss func: 0.12116381066, alpha min 0.0\n",
      "Norm grad: 0.013178235034, loss func: 0.12116381066, alpha min 0.0\n",
      "Norm grad: 0.013178235034, loss func: 0.12116381066, alpha min 0.0\n",
      "Norm grad: 0.013178235034, loss func: 0.12116381066, alpha min 0.0\n",
      "Norm grad: 0.013178235034, loss func: 0.12116381066, alpha min 0.0\n",
      "Norm grad: 0.013178235034, loss func: 0.12116381066, alpha min 0.0\n",
      "Norm grad: 0.013178235034, loss func: 0.12116381066, alpha min 0.0\n",
      "Norm grad: 0.013178235034, loss func: 0.12116381066, alpha min 0.0\n",
      "Norm grad: 0.013178235034, loss func: 0.12116381066, alpha min 0.0\n",
      "Norm grad: 0.013178235034, loss func: 0.12116381066, alpha min 0.0\n",
      "Norm grad: 0.013178235034, loss func: 0.12116381066, alpha min 0.0\n",
      "Norm grad: 0.013178235034, loss func: 0.12116381066, alpha min 0.0\n",
      "Norm grad: 0.013178235034, loss func: 0.12116381066, alpha min 0.0\n",
      "Norm grad: 0.013178235034, loss func: 0.12116381066, alpha min 0.0\n",
      "Norm grad: 0.013178235034, loss func: 0.12116381066, alpha min 0.0\n",
      "Norm grad: 0.013178235034, loss func: 0.12116381066, alpha min 0.0\n",
      "Norm grad: 0.013178235034, loss func: 0.12116381066, alpha min 0.0\n",
      "Norm grad: 0.013178235034, loss func: 0.12116381066, alpha min 0.0\n",
      "Norm grad: 0.013178235034, loss func: 0.12116381066, alpha min 0.0\n",
      "Norm grad: 0.013178235034, loss func: 0.12116381066, alpha min 0.0\n",
      "Norm grad: 0.013178235034, loss func: 0.12116381066, alpha min 0.0\n",
      "Norm grad: 0.013178235034, loss func: 0.12116381066, alpha min 0.0\n",
      "Norm grad: 0.013178235034, loss func: 0.12116381066, alpha min 0.0\n",
      "Norm grad: 0.013178235034, loss func: 0.12116381066, alpha min 0.0\n",
      "Norm grad: 0.013178235034, loss func: 0.12116381066, alpha min 0.0\n",
      "Norm grad: 0.013178235034, loss func: 0.12116381066, alpha min 0.0\n",
      "Norm grad: 0.013178235034, loss func: 0.12116381066, alpha min 0.0\n",
      "Norm grad: 0.013178235034, loss func: 0.12116381066, alpha min 0.0\n",
      "Norm grad: 0.013178235034, loss func: 0.12116381066, alpha min 0.0\n",
      "Norm grad: 0.013178235034, loss func: 0.12116381066, alpha min 0.0\n",
      "Norm grad: 0.013178235034, loss func: 0.12116381066, alpha min 0.0\n",
      "Norm grad: 0.013178235034, loss func: 0.12116381066, alpha min 0.0\n",
      "Norm grad: 0.013178235034, loss func: 0.12116381066, alpha min 0.0\n",
      "Norm grad: 0.013178235034, loss func: 0.12116381066, alpha min 0.0\n",
      "Norm grad: 0.013178235034, loss func: 0.12116381066, alpha min 0.0\n",
      "Norm grad: 0.013178235034, loss func: 0.12116381066, alpha min 0.0\n",
      "Norm grad: 0.013178235034, loss func: 0.12116381066, alpha min 0.0\n",
      "Norm grad: 0.013178235034, loss func: 0.12116381066, alpha min 0.0\n",
      "Norm grad: 0.013178235034, loss func: 0.12116381066, alpha min 0.0\n",
      "Norm grad: 0.013178235034, loss func: 0.12116381066, alpha min 0.0\n",
      "Norm grad: 0.013178235034, loss func: 0.12116381066, alpha min 0.0\n",
      "Norm grad: 0.013178235034, loss func: 0.12116381066, alpha min 0.0\n",
      "Norm grad: 0.013178235034, loss func: 0.12116381066, alpha min 0.0\n",
      "Norm grad: 0.013178235034, loss func: 0.12116381066, alpha min 0.0\n",
      "Norm grad: 0.013178235034, loss func: 0.12116381066, alpha min 0.0\n",
      "Norm grad: 0.013178235034, loss func: 0.12116381066, alpha min 0.0\n",
      "Norm grad: 0.013178235034, loss func: 0.12116381066, alpha min 0.0\n",
      "Norm grad: 0.013178235034, loss func: 0.12116381066, alpha min 0.0\n",
      "Norm grad: 0.013178235034, loss func: 0.12116381066, alpha min 0.0\n",
      "Norm grad: 0.013178235034, loss func: 0.12116381066, alpha min 0.0\n",
      "Norm grad: 0.013178235034, loss func: 0.12116381066, alpha min 0.0\n",
      "Norm grad: 0.013178235034, loss func: 0.12116381066, alpha min 0.0\n",
      "Norm grad: 0.013178235034, loss func: 0.12116381066, alpha min 0.0\n",
      "Norm grad: 0.013178235034, loss func: 0.12116381066, alpha min 0.0\n",
      "Norm grad: 0.013178235034, loss func: 0.12116381066, alpha min 0.0\n",
      "Norm grad: 0.013178235034, loss func: 0.12116381066, alpha min 0.0\n",
      "Norm grad: 0.013178235034, loss func: 0.12116381066, alpha min 0.0\n",
      "Norm grad: 0.013178235034, loss func: 0.12116381066, alpha min 0.0\n",
      "Norm grad: 0.013178235034, loss func: 0.12116381066, alpha min 0.0\n",
      "Norm grad: 0.013178235034, loss func: 0.12116381066, alpha min 0.0\n",
      "Norm grad: 0.013178235034, loss func: 0.12116381066, alpha min 0.0\n",
      "Norm grad: 0.013178235034, loss func: 0.12116381066, alpha min 0.0\n",
      "Norm grad: 0.013178235034, loss func: 0.12116381066, alpha min 0.0\n",
      "Norm grad: 0.013178235034, loss func: 0.12116381066, alpha min 0.0\n",
      "Norm grad: 0.013178235034, loss func: 0.12116381066, alpha min 0.0\n",
      "Norm grad: 0.013178235034, loss func: 0.12116381066, alpha min 0.0\n",
      "Norm grad: 0.013178235034, loss func: 0.12116381066, alpha min 0.0\n",
      "Norm grad: 0.013178235034, loss func: 0.12116381066, alpha min 0.0\n",
      "Norm grad: 0.013178235034, loss func: 0.12116381066, alpha min 0.0\n",
      "Norm grad: 0.013178235034, loss func: 0.12116381066, alpha min 0.0\n",
      "Norm grad: 0.013178235034, loss func: 0.12116381066, alpha min 0.0\n",
      "Norm grad: 0.013178235034, loss func: 0.12116381066, alpha min 0.0\n",
      "Norm grad: 0.013178235034, loss func: 0.12116381066, alpha min 0.0\n",
      "Norm grad: 0.013178235034, loss func: 0.12116381066, alpha min 0.0\n",
      "Norm grad: 0.013178235034, loss func: 0.12116381066, alpha min 0.0\n",
      "Norm grad: 0.013178235034, loss func: 0.12116381066, alpha min 0.0\n",
      "Norm grad: 0.013178235034, loss func: 0.12116381066, alpha min 0.0\n",
      "Norm grad: 0.013178235034, loss func: 0.12116381066, alpha min 0.0\n",
      "Norm grad: 0.013178235034, loss func: 0.12116381066, alpha min 0.0\n",
      "Norm grad: 0.013178235034, loss func: 0.12116381066, alpha min 0.0\n",
      "Norm grad: 0.013178235034, loss func: 0.12116381066, alpha min 0.0\n",
      "Norm grad: 0.013178235034, loss func: 0.12116381066, alpha min 0.0\n",
      "Norm grad: 0.013178235034, loss func: 0.12116381066, alpha min 0.0\n",
      "Norm grad: 0.013178235034, loss func: 0.12116381066, alpha min 0.0\n",
      "Norm grad: 0.013178235034, loss func: 0.12116381066, alpha min 0.0\n",
      "Norm grad: 0.013178235034, loss func: 0.12116381066, alpha min 0.0\n",
      "Norm grad: 0.013178235034, loss func: 0.12116381066, alpha min 0.0\n",
      "Norm grad: 0.013178235034, loss func: 0.12116381066, alpha min 0.0\n",
      "Norm grad: 0.013178235034, loss func: 0.12116381066, alpha min 0.0\n",
      "Norm grad: 0.013178235034, loss func: 0.12116381066, alpha min 0.0\n",
      "Norm grad: 0.013178235034, loss func: 0.12116381066, alpha min 0.0\n",
      "Norm grad: 0.013178235034, loss func: 0.12116381066, alpha min 0.0\n",
      "Norm grad: 0.013178235034, loss func: 0.12116381066, alpha min 0.0\n",
      "Norm grad: 0.013178235034, loss func: 0.12116381066, alpha min 0.0\n",
      "Norm grad: 0.013178235034, loss func: 0.12116381066, alpha min 0.0\n",
      "Norm grad: 0.013178235034, loss func: 0.12116381066, alpha min 0.0\n",
      "Norm grad: 0.013178235034, loss func: 0.12116381066, alpha min 0.0\n",
      "Norm grad: 0.013178235034, loss func: 0.12116381066, alpha min 0.0\n",
      "Norm grad: 0.013178235034, loss func: 0.12116381066, alpha min 0.0\n",
      "Norm grad: 0.013178235034, loss func: 0.12116381066, alpha min 0.0\n",
      "Norm grad: 0.013178235034, loss func: 0.12116381066, alpha min 0.0\n",
      "Norm grad: 0.013178235034, loss func: 0.12116381066, alpha min 0.0\n",
      "Norm grad: 0.013178235034, loss func: 0.12116381066, alpha min 0.0\n",
      "Norm grad: 0.013178235034, loss func: 0.12116381066, alpha min 0.0\n",
      "Norm grad: 0.013178235034, loss func: 0.12116381066, alpha min 0.0\n",
      "Norm grad: 0.013178235034, loss func: 0.12116381066, alpha min 0.0\n",
      "Norm grad: 0.013178235034, loss func: 0.12116381066, alpha min 0.0\n",
      "Norm grad: 0.013178235034, loss func: 0.12116381066, alpha min 0.0\n",
      "Norm grad: 0.013178235034, loss func: 0.12116381066, alpha min 0.0\n",
      "Norm grad: 0.013178235034, loss func: 0.12116381066, alpha min 0.0\n",
      "Norm grad: 0.013178235034, loss func: 0.12116381066, alpha min 0.0\n",
      "Norm grad: 0.013178235034, loss func: 0.12116381066, alpha min 0.0\n",
      "Norm grad: 0.013178235034, loss func: 0.12116381066, alpha min 0.0\n",
      "Norm grad: 0.013178235034, loss func: 0.12116381066, alpha min 0.0\n",
      "Norm grad: 0.013178235034, loss func: 0.12116381066, alpha min 0.0\n",
      "Norm grad: 0.013178235034, loss func: 0.12116381066, alpha min 0.0\n",
      "Norm grad: 0.013178235034, loss func: 0.12116381066, alpha min 0.0\n",
      "Norm grad: 0.013178235034, loss func: 0.12116381066, alpha min 0.0\n",
      "Norm grad: 0.013178235034, loss func: 0.12116381066, alpha min 0.0\n",
      "Norm grad: 0.013178235034, loss func: 0.12116381066, alpha min 0.0\n",
      "Norm grad: 0.013178235034, loss func: 0.12116381066, alpha min 0.0\n",
      "Norm grad: 0.013178235034, loss func: 0.12116381066, alpha min 0.0\n",
      "Norm grad: 0.013178235034, loss func: 0.12116381066, alpha min 0.0\n",
      "Norm grad: 0.013178235034, loss func: 0.12116381066, alpha min 0.0\n",
      "Norm grad: 0.013178235034, loss func: 0.12116381066, alpha min 0.0\n",
      "Norm grad: 0.013178235034, loss func: 0.12116381066, alpha min 0.0\n",
      "Norm grad: 0.013178235034, loss func: 0.12116381066, alpha min 0.0\n"
     ]
    },
    {
     "data": {
      "text/plain": [
       "1.0"
      ]
     },
     "execution_count": 556,
     "metadata": {},
     "output_type": "execute_result"
    },
    {
     "data": {
      "image/png": "[encoded data removed]",
      "text/plain": [
       "<matplotlib.figure.Figure at 0x1156c5a10>"
      ]
     },
     "metadata": {},
     "output_type": "display_data"
    }
   ],
   "source": [
    "clf = BinaryBoostingClassifier(n_estimators=500).fit(X, y)\n",
    "plot_surface(X, y, clf)\n",
    "accuracy_score(y == 1, clf.predict(X))"
   ]
  },
  {
   "cell_type": "markdown",
   "metadata": {
    "collapsed": true
   },
   "source": [
    "<h1 align=\"center\">Outliers</h1> "
   ]
  },
  {
   "cell_type": "code",
   "execution_count": 557,
   "metadata": {
    "collapsed": false
   },
   "outputs": [
    {
     "data": {
      "text/plain": [
       "array([ 0.00796913,  0.00308626,  0.00304545,  0.00252857,  0.00246741,\n",
       "        0.0021141 ,  0.00208634,  0.00183797,  0.00183797])"
      ]
     },
     "execution_count": 557,
     "metadata": {},
     "output_type": "execute_result"
    }
   ],
   "source": [
    "clf.grad_abs_[clf.out_]"
   ]
  },
  {
   "cell_type": "code",
   "execution_count": 558,
   "metadata": {
    "collapsed": false
   },
   "outputs": [
    {
     "data": {
      "text/plain": [
       "array([ 74, 464, 191, 206,  40, 108, 299, 236, 422])"
      ]
     },
     "execution_count": 558,
     "metadata": {},
     "output_type": "execute_result"
    }
   ],
   "source": [
    "clf.out_"
   ]
  },
  {
   "cell_type": "code",
   "execution_count": 559,
   "metadata": {
    "collapsed": false
   },
   "outputs": [
    {
     "data": {
      "text/plain": [
       "<matplotlib.collections.PathCollection at 0x1152b7890>"
      ]
     },
     "execution_count": 559,
     "metadata": {},
     "output_type": "execute_result"
    },
    {
     "data": {
      "image/png": "[encoded data removed]",
      "text/plain": [
       "<matplotlib.figure.Figure at 0x114d187d0>"
      ]
     },
     "metadata": {},
     "output_type": "display_data"
    }
   ],
   "source": [
    "plot_surface(X, y, clf)\n",
    "plt.scatter(X[clf.out_].T[0], X[clf.out_].T[1], s=100, c=-y[clf.out_], marker='d')"
   ]
  },
  {
   "cell_type": "markdown",
   "metadata": {},
   "source": [
    "<h1 align=\"center\">Adult test</h1> "
   ]
  },
  {
   "cell_type": "code",
   "execution_count": 560,
   "metadata": {
    "collapsed": false
   },
   "outputs": [],
   "source": [
    "#!sh ./get_data.sh"
   ]
  },
  {
   "cell_type": "code",
   "execution_count": 561,
   "metadata": {
    "collapsed": false
   },
   "outputs": [],
   "source": [
    "adult = pd.read_csv(\n",
    "    './data/adult.data', \n",
    "    names=[\n",
    "        \"Age\", \"Workclass\", \"fnlwgt\", \"Education\", \"Education-Num\", \"Martial Status\",\n",
    "        \"Occupation\", \"Relationship\", \"Race\", \"Sex\", \"Capital Gain\", \"Capital Loss\",\n",
    "        \"Hours per week\", \"Country\", \"Target\"], \n",
    "    header=None, na_values=\"?\")\n",
    "adult = pd.get_dummies(adult)\n",
    "adult[\"Target\"] = adult[\"Target_ >50K\"]"
   ]
  },
  {
   "cell_type": "code",
   "execution_count": 562,
   "metadata": {
    "collapsed": true
   },
   "outputs": [],
   "source": [
    "X, y = adult[adult.columns[:-3]].values, adult[adult.columns[-1]].values\n",
    "y = 2*(y-0.5)"
   ]
  },
  {
   "cell_type": "code",
   "execution_count": 563,
   "metadata": {
    "collapsed": false
   },
   "outputs": [],
   "source": [
    "X_train, y_train, X_test, y_test = X[:25000], y[:25000], X[25000:], y[25000:]"
   ]
  },
  {
   "cell_type": "code",
   "execution_count": 564,
   "metadata": {
    "collapsed": false
   },
   "outputs": [
    {
     "name": "stdout",
     "output_type": "stream",
     "text": [
      "Norm grad: 79.0569415042, loss func: 17328.679514, alpha min -5.99391682024\n",
      "Norm grad: 53.8037751401, loss func: 9183.26868376, alpha min -7.6878974837\n",
      "Norm grad: 51.6719344531, loss func: 8475.86884529, alpha min -8.13638891131\n",
      "Norm grad: 50.8749311846, loss func: 8209.64018848, alpha min -7.91726667283\n",
      "Norm grad: 50.4695987347, loss func: 8073.30235535, alpha min -7.43428217503\n",
      "Norm grad: 49.8113256634, loss func: 7876.00115858, alpha min -10.2370220352\n",
      "Norm grad: 49.4655688716, loss func: 7746.80819648, alpha min -8.57427243972\n",
      "Norm grad: 48.9032358373, loss func: 7587.06660374, alpha min -7.90975010157\n",
      "Norm grad: 48.658881982, loss func: 7507.15859252, alpha min -7.0481527187\n",
      "Norm grad: 48.3868709008, loss func: 7434.0746295, alpha min -8.67199975554\n",
      "Norm grad: 48.1583084619, loss func: 7374.69076452, alpha min -8.81726464768\n",
      "Norm grad: 48.0131663586, loss func: 7334.41510754, alpha min -12.9620744367\n",
      "Norm grad: 47.8160243349, loss func: 7266.17514684, alpha min -8.9390438262\n",
      "Norm grad: 47.6511297794, loss func: 7218.03291667, alpha min -7.74541688524\n",
      "Norm grad: 47.4858983168, loss func: 7170.02425564, alpha min -11.3499916493\n",
      "Norm grad: 47.401546711, loss func: 7135.14277165, alpha min -20.2162731868\n",
      "Norm grad: 47.0703398622, loss func: 7031.07430064, alpha min -7.41910015676\n",
      "Norm grad: 46.9377406884, loss func: 6993.59916112, alpha min -12.1027336989\n",
      "Norm grad: 46.7319953341, loss func: 6935.71506354, alpha min -10.6207172144\n",
      "Norm grad: 46.6513998683, loss func: 6906.34003443, alpha min -7.54927808542\n",
      "Norm grad: 46.581013646, loss func: 6887.82884296, alpha min -10.2651822374\n",
      "Norm grad: 46.5185309983, loss func: 6872.90295258, alpha min -12.6255434404\n",
      "Norm grad: 46.4396023797, loss func: 6847.50196356, alpha min -13.555338589\n",
      "Norm grad: 46.3672889929, loss func: 6825.20861946, alpha min -8.86560280599\n",
      "Norm grad: 46.3152403997, loss func: 6809.68345603, alpha min -8.78707710233\n"
     ]
    },
    {
     "data": {
      "text/plain": [
       "BinaryBoostingClassifier(lr=3.0, n_estimators=25)"
      ]
     },
     "execution_count": 564,
     "metadata": {},
     "output_type": "execute_result"
    }
   ],
   "source": [
    "clf = BinaryBoostingClassifier(n_estimators=25, lr=3.0)\n",
    "clf.fit(X_train, y_train)"
   ]
  },
  {
   "cell_type": "code",
   "execution_count": 565,
   "metadata": {
    "collapsed": false
   },
   "outputs": [
    {
     "data": {
      "text/plain": [
       "0.878"
      ]
     },
     "execution_count": 565,
     "metadata": {},
     "output_type": "execute_result"
    }
   ],
   "source": [
    "accuracy_score(y_train == 1, clf.predict(X_train))"
   ]
  },
  {
   "cell_type": "code",
   "execution_count": 566,
   "metadata": {
    "collapsed": false
   },
   "outputs": [
    {
     "data": {
      "text/plain": [
       "0.86589075519111225"
      ]
     },
     "execution_count": 566,
     "metadata": {},
     "output_type": "execute_result"
    }
   ],
   "source": [
    "accuracy_score(y_test == 1, clf.predict(X_test))"
   ]
  },
  {
   "cell_type": "code",
   "execution_count": 546,
   "metadata": {
    "collapsed": false
   },
   "outputs": [
    {
     "name": "stdout",
     "output_type": "stream",
     "text": [
      "0.99996\n",
      "0.85226821849\n"
     ]
    }
   ],
   "source": [
    "from sklearn.ensemble import RandomForestClassifier, GradientBoostingClassifier\n",
    "clf = RandomForestClassifier(n_estimators=100, n_jobs=4, max_features=\"sqrt\")\n",
    "clf.fit(X_train, y_train)\n",
    "print(accuracy_score(y_train, clf.predict(X_train)))\n",
    "print(accuracy_score(y_test, clf.predict(X_test)))"
   ]
  },
  {
   "cell_type": "code",
   "execution_count": 553,
   "metadata": {
    "collapsed": false
   },
   "outputs": [
    {
     "name": "stdout",
     "output_type": "stream",
     "text": [
      "0.86188\n",
      "0.8603359344\n"
     ]
    }
   ],
   "source": [
    "clf = GradientBoostingClassifier(n_estimators=50, max_depth=3)\n",
    "clf.fit(X_train, y_train)\n",
    "print(accuracy_score(y_train, clf.predict(X_train)))\n",
    "print(accuracy_score(y_test, clf.predict(X_test)))"
   ]
  },
  {
   "cell_type": "code",
   "execution_count": 543,
   "metadata": {
    "collapsed": true
   },
   "outputs": [],
   "source": [
    "?RandomForestClassifier"
   ]
  },
  {
   "cell_type": "markdown",
   "metadata": {},
   "source": [
    "<h1 align=\"center\">Text classification</h1> \n",
    "\n",
    "- Найдите двухклассовый текстовый датасет (в качестве примера sentiment analysis) или возьмите многоклассовый и классифцируйте один клас против остальных\n",
    "- Попробуйте бустинг на решающих деревьях, в качестве фичей используйте tf-idf и svd/random_projection/hashing_trick, что работает лучше? Сравните качество и время работы."
   ]
  },
  {
   "cell_type": "code",
   "execution_count": null,
   "metadata": {
    "collapsed": false
   },
   "outputs": [],
   "source": []
  },
  {
   "cell_type": "markdown",
   "metadata": {},
   "source": [
    "<h1 align=\"center\">Random Forest vs Boosting</h1> "
   ]
  },
  {
   "cell_type": "markdown",
   "metadata": {
    "collapsed": true
   },
   "source": [
    "Подберите 2+ датасета как минимум большой и маленький (не использованных в этом дз) и проведите сравнение random forest и градиентного бустинга, используйте реализации алгоритмов из библиотеки sklearn.\n",
    "\n",
    "- Опишите результаты, почему тот или другой алгоритм на конкретном датасете работает лучше/хуже?\n",
    "- Как вы настраивали гиперпараметры алгоритмов?\n",
    "- Как вы проверяли качесво алгоритмов?"
   ]
  },
  {
   "cell_type": "code",
   "execution_count": null,
   "metadata": {
    "collapsed": true
   },
   "outputs": [],
   "source": []
  },
  {
   "cell_type": "markdown",
   "metadata": {
    "collapsed": true
   },
   "source": [
    "<h1 align=\"center\">Bonus part</h1> "
   ]
  },
  {
   "cell_type": "markdown",
   "metadata": {},
   "source": [
    "Это удвоит баллы за дз.\n",
    "\n",
    "- Реализуйте мультиклассовый бустинг -- проверьте на CIFAR10 + SVD\n",
    "- Попробуйте различные функции потерь, придумайте несколько своих, удалось ли обойти логистичискую и экспоненциальную?"
   ]
  },
  {
   "cell_type": "code",
   "execution_count": null,
   "metadata": {
    "collapsed": true
   },
   "outputs": [],
   "source": []
  }
 ],
 "metadata": {
  "kernelspec": {
   "display_name": "Python [ipykernel_py2]",
   "language": "python",
   "name": "Python [ipykernel_py2]"
  },
  "language_info": {
   "codemirror_mode": {
    "name": "ipython",
    "version": 2
   },
   "file_extension": ".py",
   "mimetype": "text/x-python",
   "name": "python",
   "nbconvert_exporter": "python",
   "pygments_lexer": "ipython2",
   "version": "2.7.12"
  }
 },
 "nbformat": 4,
 "nbformat_minor": 0
}
